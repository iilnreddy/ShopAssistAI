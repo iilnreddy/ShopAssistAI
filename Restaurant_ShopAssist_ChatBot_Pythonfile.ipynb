{
 "cells": [
  {
   "cell_type": "code",
   "execution_count": 91,
   "metadata": {
    "colab": {
     "base_uri": "https://localhost:8080/"
    },
    "executionInfo": {
     "elapsed": 11062,
     "status": "ok",
     "timestamp": 1733087067137,
     "user": {
      "displayName": "v uma hyndavi",
      "userId": "16917374239320310048"
     },
     "user_tz": -330
    },
    "id": "yTmUK_kblLq-",
    "outputId": "9be26d97-3d76-4533-d5a9-d6bc22911615"
   },
   "outputs": [
    {
     "name": "stdout",
     "output_type": "stream",
     "text": [
      "\u001b[?25l   \u001b[90m━━━━━━━━━━━━━━━━━━━━━━━━━━━━━━━━━━━━━━━━\u001b[0m \u001b[32m0.0/389.6 kB\u001b[0m \u001b[31m?\u001b[0m eta \u001b[36m-:--:--\u001b[0m\r",
      "\u001b[2K   \u001b[91m━━━━━━━━━━━━━━━━━━━━━━━━━━━━━━━━━━━━━━━\u001b[0m\u001b[91m╸\u001b[0m \u001b[32m389.1/389.6 kB\u001b[0m \u001b[31m26.6 MB/s\u001b[0m eta \u001b[36m0:00:01\u001b[0m\r",
      "\u001b[2K   \u001b[90m━━━━━━━━━━━━━━━━━━━━━━━━━━━━━━━━━━━━━━━━\u001b[0m \u001b[32m389.6/389.6 kB\u001b[0m \u001b[31m6.9 MB/s\u001b[0m eta \u001b[36m0:00:00\u001b[0m\n",
      "\u001b[?25h"
     ]
    }
   ],
   "source": [
    "# Install OpenAI library\n",
    "!pip install -U -q openai tenacity"
   ]
  },
  {
   "cell_type": "code",
   "execution_count": 92,
   "metadata": {
    "colab": {
     "base_uri": "https://localhost:8080/"
    },
    "executionInfo": {
     "elapsed": 4785,
     "status": "ok",
     "timestamp": 1733087071917,
     "user": {
      "displayName": "v uma hyndavi",
      "userId": "16917374239320310048"
     },
     "user_tz": -330
    },
    "id": "v3_QIKojHHuL",
    "outputId": "3a52223d-67a0-4eda-f3e5-39713de702a2"
   },
   "outputs": [
    {
     "name": "stdout",
     "output_type": "stream",
     "text": [
      "Drive already mounted at /content/drive; to attempt to forcibly remount, call drive.mount(\"/content/drive\", force_remount=True).\n"
     ]
    }
   ],
   "source": [
    "from google.colab import drive\n",
    "drive.mount('/content/drive')"
   ]
  },
  {
   "cell_type": "code",
   "execution_count": 93,
   "metadata": {
    "colab": {
     "base_uri": "https://localhost:8080/"
    },
    "executionInfo": {
     "elapsed": 21,
     "status": "ok",
     "timestamp": 1733087071917,
     "user": {
      "displayName": "v uma hyndavi",
      "userId": "16917374239320310048"
     },
     "user_tz": -330
    },
    "id": "wz_tqLPFHKoU",
    "outputId": "a23f0e58-fc25-4865-d5dd-db37138e8531"
   },
   "outputs": [
    {
     "name": "stdout",
     "output_type": "stream",
     "text": [
      "laptop_data.csv\t\trestaurant_dataset_new.csv\t\t    Shop_Assist_Chatbot.ipynb\n",
      "OpenAI_API_Key.txt\trestaurant_shopassist.ipynb\t\t    updated_laptop.csv\n",
      "restaurant_dataset.csv\tShopAssistAI_Demonstration_v2_Stage1.ipynb\n"
     ]
    }
   ],
   "source": [
    "import os\n",
    "os.chdir('/content/drive/MyDrive/GenAI_Course_Master/Course_1_ShopAssistAI/Week_1')\n",
    "!ls\n"
   ]
  },
  {
   "cell_type": "code",
   "execution_count": 94,
   "metadata": {
    "colab": {
     "base_uri": "https://localhost:8080/",
     "height": 206
    },
    "executionInfo": {
     "elapsed": 16,
     "status": "ok",
     "timestamp": 1733087071917,
     "user": {
      "displayName": "v uma hyndavi",
      "userId": "16917374239320310048"
     },
     "user_tz": -330
    },
    "id": "BbtU_-IwHZLS",
    "outputId": "39ea41dd-bd54-4c2f-b77e-2d6da36a880d"
   },
   "outputs": [
    {
     "data": {
      "application/vnd.google.colaboratory.intrinsic+json": {
       "summary": "{\n  \"name\": \"df\",\n  \"rows\": 30,\n  \"fields\": [\n    {\n      \"column\": \"Restaurant Name\",\n      \"properties\": {\n        \"dtype\": \"string\",\n        \"num_unique_values\": 30,\n        \"samples\": [\n          \"Ksheera Sagara\",\n          \"Sri Venkateswara Tiffins\",\n          \"Green Park Dining\"\n        ],\n        \"semantic_type\": \"\",\n        \"description\": \"\"\n      }\n    },\n    {\n      \"column\": \"Cuisine Preferences\",\n      \"properties\": {\n        \"dtype\": \"category\",\n        \"num_unique_values\": 6,\n        \"samples\": [\n          \"South Indian\",\n          \"North Indian\",\n          \"Andhra Cuisine\"\n        ],\n        \"semantic_type\": \"\",\n        \"description\": \"\"\n      }\n    },\n    {\n      \"column\": \"Dietary Restrictions\",\n      \"properties\": {\n        \"dtype\": \"category\",\n        \"num_unique_values\": 4,\n        \"samples\": [\n          \"Gluten-free options\",\n          \"Vegetarian-friendly\",\n          \"Vegan-friendly\"\n        ],\n        \"semantic_type\": \"\",\n        \"description\": \"\"\n      }\n    },\n    {\n      \"column\": \"Location\",\n      \"properties\": {\n        \"dtype\": \"category\",\n        \"num_unique_values\": 9,\n        \"samples\": [\n          \"Tilak Road\",\n          \"Morampudi\",\n          \"Katheru\"\n        ],\n        \"semantic_type\": \"\",\n        \"description\": \"\"\n      }\n    },\n    {\n      \"column\": \"User Reviews\",\n      \"properties\": {\n        \"dtype\": \"string\",\n        \"num_unique_values\": 30,\n        \"samples\": [\n          \"Craving Chinese in Tilak Road? Check out Ksheera Sagara! They have fantastic options, especially if you're into vegetarian-friendly dining.\",\n          \"Sri Venkateswara Tiffins in Katheru is fantastic! Their focus on South Indian cuisine and no restrictions options makes them stand out. Highly recommend!\",\n          \"Craving Continental in Danavai Peta? Check out Green Park Dining! They have fantastic options, especially if you're into vegetarian-friendly dining.\"\n        ],\n        \"semantic_type\": \"\",\n        \"description\": \"\"\n      }\n    }\n  ]\n}",
       "type": "dataframe",
       "variable_name": "df"
      },
      "text/html": [
       "\n",
       "  <div id=\"df-ec72ebca-afab-4908-99fc-c4b056035914\" class=\"colab-df-container\">\n",
       "    <div>\n",
       "<style scoped>\n",
       "    .dataframe tbody tr th:only-of-type {\n",
       "        vertical-align: middle;\n",
       "    }\n",
       "\n",
       "    .dataframe tbody tr th {\n",
       "        vertical-align: top;\n",
       "    }\n",
       "\n",
       "    .dataframe thead th {\n",
       "        text-align: right;\n",
       "    }\n",
       "</style>\n",
       "<table border=\"1\" class=\"dataframe\">\n",
       "  <thead>\n",
       "    <tr style=\"text-align: right;\">\n",
       "      <th></th>\n",
       "      <th>Restaurant Name</th>\n",
       "      <th>Cuisine Preferences</th>\n",
       "      <th>Dietary Restrictions</th>\n",
       "      <th>Location</th>\n",
       "      <th>User Reviews</th>\n",
       "    </tr>\n",
       "  </thead>\n",
       "  <tbody>\n",
       "    <tr>\n",
       "      <th>0</th>\n",
       "      <td>Sri Sai Akshaya</td>\n",
       "      <td>South Indian</td>\n",
       "      <td>Vegan-friendly</td>\n",
       "      <td>Innespeta</td>\n",
       "      <td>Sri Sai Akshaya is the go-to place in Innespet...</td>\n",
       "    </tr>\n",
       "    <tr>\n",
       "      <th>1</th>\n",
       "      <td>Swagath Grand</td>\n",
       "      <td>North Indian</td>\n",
       "      <td>Gluten-free options</td>\n",
       "      <td>Morampudi</td>\n",
       "      <td>Swagath Grand is the go-to place in Morampudi ...</td>\n",
       "    </tr>\n",
       "    <tr>\n",
       "      <th>2</th>\n",
       "      <td>Ravi's Kitchen</td>\n",
       "      <td>Chinese</td>\n",
       "      <td>No restrictions</td>\n",
       "      <td>Aryapuram</td>\n",
       "      <td>I had a great time at Ravi's Kitchen in Aryapu...</td>\n",
       "    </tr>\n",
       "    <tr>\n",
       "      <th>3</th>\n",
       "      <td>Hotel River Bay</td>\n",
       "      <td>Continental</td>\n",
       "      <td>Vegan-friendly</td>\n",
       "      <td>Danavai Peta</td>\n",
       "      <td>Hotel River Bay in Danavai Peta is fantastic! ...</td>\n",
       "    </tr>\n",
       "    <tr>\n",
       "      <th>4</th>\n",
       "      <td>Masala Darbar</td>\n",
       "      <td>Italian</td>\n",
       "      <td>Vegetarian-friendly</td>\n",
       "      <td>Alcot Gardens</td>\n",
       "      <td>Visited Masala Darbar at Alcot Gardens, and I ...</td>\n",
       "    </tr>\n",
       "  </tbody>\n",
       "</table>\n",
       "</div>\n",
       "    <div class=\"colab-df-buttons\">\n",
       "\n",
       "  <div class=\"colab-df-container\">\n",
       "    <button class=\"colab-df-convert\" onclick=\"convertToInteractive('df-ec72ebca-afab-4908-99fc-c4b056035914')\"\n",
       "            title=\"Convert this dataframe to an interactive table.\"\n",
       "            style=\"display:none;\">\n",
       "\n",
       "  <svg xmlns=\"http://www.w3.org/2000/svg\" height=\"24px\" viewBox=\"0 -960 960 960\">\n",
       "    <path d=\"M120-120v-720h720v720H120Zm60-500h600v-160H180v160Zm220 220h160v-160H400v160Zm0 220h160v-160H400v160ZM180-400h160v-160H180v160Zm440 0h160v-160H620v160ZM180-180h160v-160H180v160Zm440 0h160v-160H620v160Z\"/>\n",
       "  </svg>\n",
       "    </button>\n",
       "\n",
       "  <style>\n",
       "    .colab-df-container {\n",
       "      display:flex;\n",
       "      gap: 12px;\n",
       "    }\n",
       "\n",
       "    .colab-df-convert {\n",
       "      background-color: #E8F0FE;\n",
       "      border: none;\n",
       "      border-radius: 50%;\n",
       "      cursor: pointer;\n",
       "      display: none;\n",
       "      fill: #1967D2;\n",
       "      height: 32px;\n",
       "      padding: 0 0 0 0;\n",
       "      width: 32px;\n",
       "    }\n",
       "\n",
       "    .colab-df-convert:hover {\n",
       "      background-color: #E2EBFA;\n",
       "      box-shadow: 0px 1px 2px rgba(60, 64, 67, 0.3), 0px 1px 3px 1px rgba(60, 64, 67, 0.15);\n",
       "      fill: #174EA6;\n",
       "    }\n",
       "\n",
       "    .colab-df-buttons div {\n",
       "      margin-bottom: 4px;\n",
       "    }\n",
       "\n",
       "    [theme=dark] .colab-df-convert {\n",
       "      background-color: #3B4455;\n",
       "      fill: #D2E3FC;\n",
       "    }\n",
       "\n",
       "    [theme=dark] .colab-df-convert:hover {\n",
       "      background-color: #434B5C;\n",
       "      box-shadow: 0px 1px 3px 1px rgba(0, 0, 0, 0.15);\n",
       "      filter: drop-shadow(0px 1px 2px rgba(0, 0, 0, 0.3));\n",
       "      fill: #FFFFFF;\n",
       "    }\n",
       "  </style>\n",
       "\n",
       "    <script>\n",
       "      const buttonEl =\n",
       "        document.querySelector('#df-ec72ebca-afab-4908-99fc-c4b056035914 button.colab-df-convert');\n",
       "      buttonEl.style.display =\n",
       "        google.colab.kernel.accessAllowed ? 'block' : 'none';\n",
       "\n",
       "      async function convertToInteractive(key) {\n",
       "        const element = document.querySelector('#df-ec72ebca-afab-4908-99fc-c4b056035914');\n",
       "        const dataTable =\n",
       "          await google.colab.kernel.invokeFunction('convertToInteractive',\n",
       "                                                    [key], {});\n",
       "        if (!dataTable) return;\n",
       "\n",
       "        const docLinkHtml = 'Like what you see? Visit the ' +\n",
       "          '<a target=\"_blank\" href=https://colab.research.google.com/notebooks/data_table.ipynb>data table notebook</a>'\n",
       "          + ' to learn more about interactive tables.';\n",
       "        element.innerHTML = '';\n",
       "        dataTable['output_type'] = 'display_data';\n",
       "        await google.colab.output.renderOutput(dataTable, element);\n",
       "        const docLink = document.createElement('div');\n",
       "        docLink.innerHTML = docLinkHtml;\n",
       "        element.appendChild(docLink);\n",
       "      }\n",
       "    </script>\n",
       "  </div>\n",
       "\n",
       "\n",
       "<div id=\"df-952034eb-7446-464c-9c3a-73c6927af411\">\n",
       "  <button class=\"colab-df-quickchart\" onclick=\"quickchart('df-952034eb-7446-464c-9c3a-73c6927af411')\"\n",
       "            title=\"Suggest charts\"\n",
       "            style=\"display:none;\">\n",
       "\n",
       "<svg xmlns=\"http://www.w3.org/2000/svg\" height=\"24px\"viewBox=\"0 0 24 24\"\n",
       "     width=\"24px\">\n",
       "    <g>\n",
       "        <path d=\"M19 3H5c-1.1 0-2 .9-2 2v14c0 1.1.9 2 2 2h14c1.1 0 2-.9 2-2V5c0-1.1-.9-2-2-2zM9 17H7v-7h2v7zm4 0h-2V7h2v10zm4 0h-2v-4h2v4z\"/>\n",
       "    </g>\n",
       "</svg>\n",
       "  </button>\n",
       "\n",
       "<style>\n",
       "  .colab-df-quickchart {\n",
       "      --bg-color: #E8F0FE;\n",
       "      --fill-color: #1967D2;\n",
       "      --hover-bg-color: #E2EBFA;\n",
       "      --hover-fill-color: #174EA6;\n",
       "      --disabled-fill-color: #AAA;\n",
       "      --disabled-bg-color: #DDD;\n",
       "  }\n",
       "\n",
       "  [theme=dark] .colab-df-quickchart {\n",
       "      --bg-color: #3B4455;\n",
       "      --fill-color: #D2E3FC;\n",
       "      --hover-bg-color: #434B5C;\n",
       "      --hover-fill-color: #FFFFFF;\n",
       "      --disabled-bg-color: #3B4455;\n",
       "      --disabled-fill-color: #666;\n",
       "  }\n",
       "\n",
       "  .colab-df-quickchart {\n",
       "    background-color: var(--bg-color);\n",
       "    border: none;\n",
       "    border-radius: 50%;\n",
       "    cursor: pointer;\n",
       "    display: none;\n",
       "    fill: var(--fill-color);\n",
       "    height: 32px;\n",
       "    padding: 0;\n",
       "    width: 32px;\n",
       "  }\n",
       "\n",
       "  .colab-df-quickchart:hover {\n",
       "    background-color: var(--hover-bg-color);\n",
       "    box-shadow: 0 1px 2px rgba(60, 64, 67, 0.3), 0 1px 3px 1px rgba(60, 64, 67, 0.15);\n",
       "    fill: var(--button-hover-fill-color);\n",
       "  }\n",
       "\n",
       "  .colab-df-quickchart-complete:disabled,\n",
       "  .colab-df-quickchart-complete:disabled:hover {\n",
       "    background-color: var(--disabled-bg-color);\n",
       "    fill: var(--disabled-fill-color);\n",
       "    box-shadow: none;\n",
       "  }\n",
       "\n",
       "  .colab-df-spinner {\n",
       "    border: 2px solid var(--fill-color);\n",
       "    border-color: transparent;\n",
       "    border-bottom-color: var(--fill-color);\n",
       "    animation:\n",
       "      spin 1s steps(1) infinite;\n",
       "  }\n",
       "\n",
       "  @keyframes spin {\n",
       "    0% {\n",
       "      border-color: transparent;\n",
       "      border-bottom-color: var(--fill-color);\n",
       "      border-left-color: var(--fill-color);\n",
       "    }\n",
       "    20% {\n",
       "      border-color: transparent;\n",
       "      border-left-color: var(--fill-color);\n",
       "      border-top-color: var(--fill-color);\n",
       "    }\n",
       "    30% {\n",
       "      border-color: transparent;\n",
       "      border-left-color: var(--fill-color);\n",
       "      border-top-color: var(--fill-color);\n",
       "      border-right-color: var(--fill-color);\n",
       "    }\n",
       "    40% {\n",
       "      border-color: transparent;\n",
       "      border-right-color: var(--fill-color);\n",
       "      border-top-color: var(--fill-color);\n",
       "    }\n",
       "    60% {\n",
       "      border-color: transparent;\n",
       "      border-right-color: var(--fill-color);\n",
       "    }\n",
       "    80% {\n",
       "      border-color: transparent;\n",
       "      border-right-color: var(--fill-color);\n",
       "      border-bottom-color: var(--fill-color);\n",
       "    }\n",
       "    90% {\n",
       "      border-color: transparent;\n",
       "      border-bottom-color: var(--fill-color);\n",
       "    }\n",
       "  }\n",
       "</style>\n",
       "\n",
       "  <script>\n",
       "    async function quickchart(key) {\n",
       "      const quickchartButtonEl =\n",
       "        document.querySelector('#' + key + ' button');\n",
       "      quickchartButtonEl.disabled = true;  // To prevent multiple clicks.\n",
       "      quickchartButtonEl.classList.add('colab-df-spinner');\n",
       "      try {\n",
       "        const charts = await google.colab.kernel.invokeFunction(\n",
       "            'suggestCharts', [key], {});\n",
       "      } catch (error) {\n",
       "        console.error('Error during call to suggestCharts:', error);\n",
       "      }\n",
       "      quickchartButtonEl.classList.remove('colab-df-spinner');\n",
       "      quickchartButtonEl.classList.add('colab-df-quickchart-complete');\n",
       "    }\n",
       "    (() => {\n",
       "      let quickchartButtonEl =\n",
       "        document.querySelector('#df-952034eb-7446-464c-9c3a-73c6927af411 button');\n",
       "      quickchartButtonEl.style.display =\n",
       "        google.colab.kernel.accessAllowed ? 'block' : 'none';\n",
       "    })();\n",
       "  </script>\n",
       "</div>\n",
       "\n",
       "    </div>\n",
       "  </div>\n"
      ],
      "text/plain": [
       "   Restaurant Name Cuisine Preferences Dietary Restrictions       Location  \\\n",
       "0  Sri Sai Akshaya        South Indian       Vegan-friendly      Innespeta   \n",
       "1    Swagath Grand        North Indian  Gluten-free options      Morampudi   \n",
       "2   Ravi's Kitchen             Chinese      No restrictions      Aryapuram   \n",
       "3  Hotel River Bay         Continental       Vegan-friendly   Danavai Peta   \n",
       "4    Masala Darbar             Italian  Vegetarian-friendly  Alcot Gardens   \n",
       "\n",
       "                                        User Reviews  \n",
       "0  Sri Sai Akshaya is the go-to place in Innespet...  \n",
       "1  Swagath Grand is the go-to place in Morampudi ...  \n",
       "2  I had a great time at Ravi's Kitchen in Aryapu...  \n",
       "3  Hotel River Bay in Danavai Peta is fantastic! ...  \n",
       "4  Visited Masala Darbar at Alcot Gardens, and I ...  "
      ]
     },
     "execution_count": 94,
     "metadata": {},
     "output_type": "execute_result"
    }
   ],
   "source": [
    "import pandas as pd\n",
    "from IPython.display import display, HTML\n",
    "pd.set_option('display.width', 100)\n",
    "df = pd.read_csv('restaurant_dataset_new.csv')\n",
    "df.head()"
   ]
  },
  {
   "cell_type": "code",
   "execution_count": 95,
   "metadata": {
    "executionInfo": {
     "elapsed": 13,
     "status": "ok",
     "timestamp": 1733087071917,
     "user": {
      "displayName": "v uma hyndavi",
      "userId": "16917374239320310048"
     },
     "user_tz": -330
    },
    "id": "oqe_jtxeH2tS"
   },
   "outputs": [],
   "source": [
    "import os, json, ast\n",
    "import openai\n",
    "from tenacity import retry, wait_random_exponential, stop_after_attempt"
   ]
  },
  {
   "cell_type": "code",
   "execution_count": 96,
   "metadata": {
    "executionInfo": {
     "elapsed": 14,
     "status": "ok",
     "timestamp": 1733087071918,
     "user": {
      "displayName": "v uma hyndavi",
      "userId": "16917374239320310048"
     },
     "user_tz": -330
    },
    "id": "nwxMvSQQH7Rl"
   },
   "outputs": [],
   "source": [
    "openai.api_key = open('OpenAI_API_Key.txt', 'r').read().strip()\n",
    "os.environ['OPENAI_API_KEY'] = openai.api_key\n",
    "\n",
    "# read the OpenAI API key\n"
   ]
  },
  {
   "cell_type": "markdown",
   "metadata": {
    "id": "xWRLHc3iIBLQ"
   },
   "source": [
    "`Stage 1`\n",
    "\n",
    "- Intent Clarity Layer\n",
    "- Intent Confirmation Layer\n",
    "\n",
    "`Stage 2`\n",
    "\n",
    "- Restaurant Mapping Layer\n",
    "- Restaurant sepcification Extraction Layer\n",
    "\n",
    "`Stage 3`\n",
    "\n",
    "- Restaurant Recommendation Layer"
   ]
  },
  {
   "cell_type": "markdown",
   "metadata": {
    "id": "_Mc6OxEJxroQ"
   },
   "source": [
    "##### Major functions behind the Restaurant Shop Assist Chatbot\n",
    "\n",
    "Let's now look at a brief overview of the major functions that form the chatbot.\n",
    "\n",
    "\n",
    "\n",
    "- `initialize_conversation()`: This initializes the variable conversation with the system message.\n",
    "- `get_chat_completions()`: This takes the ongoing conversation as the input and returns the response by the assistant\n",
    "- `moderation_check()`: This checks if the user's or the assistant's message is inappropriate. If any of these is inappropriate, it ends the conversation.\n",
    "- `intent_confirmation_layer()`: This function takes the assistant's response and evaluates if the chatbot has captured the user's choice clearly. Specifically, this checks if the following properties for the user has been captured or not Cuisine preferences, Dietary restrictions, Location.\n",
    "- `dictionary_present()`: This function checks if the final understanding of user's choice is returned by the chatbot as a python dictionary or not. If there is a dictionary, it extracts the information as a Python dictionary.\n",
    "- `restaurant_specs_map_layer()`: This function maps restaurant specifications for each restaurant present in dataframe to a dictionary format.\n",
    "- `compare_restaurant_specs_with_user`: This function compares the user's choice with different restaurant specifications and returns all matched restaurants.\n",
    "- `initialize_conv_reco()`: Initializes the recommendations conversation i.e, recommends matched restaurants in short and readable format.\n",
    "- `recommendation_validation()` : This function makes sure that matched restaurants are not null.\n"
   ]
  },
  {
   "cell_type": "markdown",
   "metadata": {
    "id": "a5h2Hc7q5LyR"
   },
   "source": [
    "# Stage 1"
   ]
  },
  {
   "cell_type": "code",
   "execution_count": 97,
   "metadata": {
    "executionInfo": {
     "elapsed": 13,
     "status": "ok",
     "timestamp": 1733087071918,
     "user": {
      "displayName": "v uma hyndavi",
      "userId": "16917374239320310048"
     },
     "user_tz": -330
    },
    "id": "vS9v_4T6IEWL"
   },
   "outputs": [],
   "source": [
    "# This function sets the system message(i.e, the behaviour of restaurant shopassist chatbot) to initialize conversation\n",
    "def initialize_conversation():\n",
    "    '''\n",
    "    Returns a list [{\"role\": \"system\", \"content\": system_message}]\n",
    "    '''\n",
    "\n",
    "    delimiter = \"####\"\n",
    "\n",
    "    example_user_dict = {'Cuisine preferences': \"South Indian\",\n",
    "                         'Dietary restrictions': \"Vegan-friendly\",\n",
    "                         'Location': \"Innespeta\"}\n",
    "\n",
    "    example_user_req = {'Cuisine preferences': \"_\",\n",
    "                        'Dietary restrictions': \"_\",\n",
    "                        'Location': \"_\"}\n",
    "    example_user_req_Diet = {'Cuisine preferences': \"_\",\n",
    "                        'Dietary restrictions': \"Vegan-friendly\",\n",
    "                        'Location': \"_\"}\n",
    "    example_user_req_diet_loc = {'Cuisine preferences': \"_\",\n",
    "                        'Dietary restrictions': \"Vegan-friendly\",\n",
    "                        'Location': \"Innespeta\"}\n",
    "\n",
    "    Dietary_Restrictions = [\"No restrictions\", \"Vegan-friendly\", \"Vegetarian-friendly\", \"Gluten-free options\"]\n",
    "    Cuisine_Preferences = [\"South Indian\", \"North Indian\", \"Chinese\", \"Continental\", \"Italian\", \"Andhra Cuisine\"]\n",
    "    Restaurant_Locations = [\"Katheru\", \"Innespeta\", \"Morampudi\", \"Aryapuram\", \"Danavai Peta\", \"Alcot Gardens\",\n",
    "                            \"Syamalamba Temple Road\", \"Tilak Road\", \"Tadepalli\"]\n",
    "\n",
    "    system_message = f\"\"\"\n",
    "    You are a helpful and knowledgeable restaurant recommendation assistant. Your role is to guide users in finding restaurants based on their preferences,\n",
    "    such as cuisine, location, dietary restrictions. Be friendly, engaging, and concise while offering clear and accurate suggestions. Always prioritize user input and provide relevant follow-up questions if their request lacks details.\n",
    "\n",
    "    Your final objective is to fill the values for the different keys ('Cuisine preferences', 'Dietary restrictions', 'Location') in the Python dictionary and be confident of the values.\n",
    "    These key-value pairs define the user's profile. The Python dictionary looks like this:\n",
    "    { {'Cuisine preferences': \"values\",\n",
    "       'Dietary restrictions': \"values\",\n",
    "       'Location': \"values\"} }\n",
    "\n",
    "    All the values in the example dictionary are only representative values.\\n\n",
    "    {delimiter}\n",
    "    Here are some instructions around the values for the different keys. If you do not follow this, you'll be heavily penalized:\n",
    "    - To fill the cuisine preferences value, ask the user to choose one from {Cuisine_Preferences}.\n",
    "    - To fill the Location value, ask the user to choose one from {Restaurant_Locations}.\n",
    "    - To fill Dietary Restrictions value, first ask the user whether they have any dietary restrictions. If not, take it as 'No restrictions'. If yes, ask the user to select their dietary restriction from 'Vegan-friendly', 'Vegetarian-friendly', 'Gluten-free options'.\n",
    "    - The values need to be inferred from the user's response.\n",
    "    {delimiter}\\n\n",
    "\n",
    "    To fill the dictionary, you need to have the following chain of thoughts:\n",
    "    Thought 1: Ask a question to understand the user's requirements.\n",
    "    If their preferred cuisine preferences, dietary restrictions, or location is unclear, ask follow-up questions to understand their needs.\n",
    "    You are trying to fill the values of all the keys {{ 'Cuisine Preferences', 'Dietary Restrictions', 'Location' }} in the Python dictionary by understanding the user's requirements.\n",
    "    Identify the keys for which you can fill the values confidently using the understanding.\n",
    "    Remember the instructions around the values for the different keys.\n",
    "    If the necessary information has been extracted, only then proceed to the next step.\n",
    "    Otherwise, rephrase the question to capture their profile clearly.\\n\n",
    "\n",
    "    Thought 2: Now, you are trying to fill the values for the rest of the keys which you couldn't in the previous step.\n",
    "    Remember the instructions around the values for the different keys.\n",
    "    Ask questions you might have for all the keys to strengthen your understanding of the user's requirements.\n",
    "    If yes, move to the next Thought. If no, ask questions on the keys whose values you are unsure of.\\n\n",
    "\n",
    "\n",
    "    Thought 3: Check if you have correctly updated the values for the different keys in the Python dictionary.\n",
    "    If you are not confident about any of the values, ask clarifying questions.\\n\n",
    "\n",
    "    {delimiter}\n",
    "    Here is a sample conversation between the user and assistant:\n",
    "    User: \"Hi, Show me Restaurants Nearby.\"\n",
    "    Assistant: \"Sure! please choose your nearest location from {Restaurant_Locations}\".\n",
    "    User: \"Innespeta\"\n",
    "    Assistant: \"Sure, There are some good restaurants nearby. Please choose your Cuisine Preferences from {Cuisine_Preferences}.\"\n",
    "    User: \"I primarily prefer South Indian.\"\n",
    "    Assistant: \"Good Choice!, Do you have any dietary restrictions?. Please Choose from {Dietary_Restrictions}.\"\n",
    "    User: \"I prefer Vegan friendly food.\"\n",
    "    Assistant: \"Thank you for providing that information. {example_user_dict}\"\\n\n",
    "    {delimiter}\n",
    "\n",
    "    {delimiter}\n",
    "    Here is a sample conversation between the user and assistant:\n",
    "    User: \"Hi, Show me some Vegan friendly Restaurants Nearby.\"\n",
    "    Assistant: \"Sure! Thanks for Specifying your dietary restrictions as Vegan-friendly .Now, Please choose your nearest location from {Restaurant_Locations}\".{example_user_req_Diet}\n",
    "    User: \"Innespeta\"\n",
    "    Assistant: \"Sure, There are some good restaurants nearby. Please choose your Cuisine Preferences from {Cuisine_Preferences}. {example_user_req_diet_loc}\n",
    "    User: \"I primarily prefer Vegan friendly food.\"\n",
    "    Assistant: \"Sure noted that, could you please provide your cuisine preference from {Cuisine_Preferences}\"\n",
    "    User: \"sure, I prefer South Indian.\"\n",
    "    Assistant: \"Thank you for providing that information. {example_user_dict}\"\\n\n",
    "    {delimiter}\n",
    "    Start with a short welcome message and encourage the user to share their requirements.\n",
    "    \"\"\"\n",
    "\n",
    "    return [{\"role\": \"system\", \"content\": system_message}]\n"
   ]
  },
  {
   "cell_type": "code",
   "execution_count": 98,
   "metadata": {
    "colab": {
     "base_uri": "https://localhost:8080/"
    },
    "executionInfo": {
     "elapsed": 1031,
     "status": "ok",
     "timestamp": 1733087072937,
     "user": {
      "displayName": "v uma hyndavi",
      "userId": "16917374239320310048"
     },
     "user_tz": -330
    },
    "id": "7uHVyFI1JTO7",
    "outputId": "c6da9fcf-1a00-47bd-e085-440c540a7e76"
   },
   "outputs": [
    {
     "name": "stdout",
     "output_type": "stream",
     "text": [
      "[{'role': 'system', 'content': '\\n    You are a helpful and knowledgeable restaurant recommendation assistant. Your role is to guide users in finding restaurants based on their preferences,\\n    such as cuisine, location, dietary restrictions. Be friendly, engaging, and concise while offering clear and accurate suggestions. Always prioritize user input and provide relevant follow-up questions if their request lacks details.\\n\\n    Your final objective is to fill the values for the different keys (\\'Cuisine preferences\\', \\'Dietary restrictions\\', \\'Location\\') in the Python dictionary and be confident of the values.\\n    These key-value pairs define the user\\'s profile. The Python dictionary looks like this:\\n    {\\'Cuisine preferences\\': \\'values\\', \\'Dietary restrictions\\': \\'values\\', \\'Location\\': \\'values\\'}\\n\\n    All the values in the example dictionary are only representative values.\\n\\n    ####\\n    Here are some instructions around the values for the different keys. If you do not follow this, you\\'ll be heavily penalized:\\n    - To fill the cuisine preferences value, ask the user to choose one from [\\'South Indian\\', \\'North Indian\\', \\'Chinese\\', \\'Continental\\', \\'Italian\\', \\'Andhra Cuisine\\'].\\n    - To fill the Location value, ask the user to choose one from [\\'Katheru\\', \\'Innespeta\\', \\'Morampudi\\', \\'Aryapuram\\', \\'Danavai Peta\\', \\'Alcot Gardens\\', \\'Syamalamba Temple Road\\', \\'Tilak Road\\', \\'Tadepalli\\'].\\n    - To fill Dietary Restrictions value, first ask the user whether they have any dietary restrictions. If not, take it as \\'No restrictions\\'. If yes, ask the user to select their dietary restriction from \\'Vegan-friendly\\', \\'Vegetarian-friendly\\', \\'Gluten-free options\\'.\\n    - The values need to be inferred from the user\\'s response.\\n    ####\\n\\n\\n    To fill the dictionary, you need to have the following chain of thoughts:\\n    Thought 1: Ask a question to understand the user\\'s requirements.\\n    If their preferred cuisine preferences, dietary restrictions, or location is unclear, ask follow-up questions to understand their needs.\\n    You are trying to fill the values of all the keys { \\'Cuisine Preferences\\', \\'Dietary Restrictions\\', \\'Location\\' } in the Python dictionary by understanding the user\\'s requirements.\\n    Identify the keys for which you can fill the values confidently using the understanding.\\n    Remember the instructions around the values for the different keys.\\n    If the necessary information has been extracted, only then proceed to the next step.\\n    Otherwise, rephrase the question to capture their profile clearly.\\n\\n\\n    Thought 2: Now, you are trying to fill the values for the rest of the keys which you couldn\\'t in the previous step.\\n    Remember the instructions around the values for the different keys.\\n    Ask questions you might have for all the keys to strengthen your understanding of the user\\'s requirements.\\n    If yes, move to the next Thought. If no, ask questions on the keys whose values you are unsure of.\\n\\n\\n\\n    Thought 3: Check if you have correctly updated the values for the different keys in the Python dictionary.\\n    If you are not confident about any of the values, ask clarifying questions.\\n\\n\\n    ####\\n    Here is a sample conversation between the user and assistant:\\n    User: \"Hi, Show me Restaurants Nearby.\"\\n    Assistant: \"Sure! please choose your nearest location from [\\'Katheru\\', \\'Innespeta\\', \\'Morampudi\\', \\'Aryapuram\\', \\'Danavai Peta\\', \\'Alcot Gardens\\', \\'Syamalamba Temple Road\\', \\'Tilak Road\\', \\'Tadepalli\\']\".\\n    User: \"Innespeta\"\\n    Assistant: \"Sure, There are some good restaurants nearby. Please choose your Cuisine Preferences from [\\'South Indian\\', \\'North Indian\\', \\'Chinese\\', \\'Continental\\', \\'Italian\\', \\'Andhra Cuisine\\'].\"\\n    User: \"I primarily prefer South Indian.\"\\n    Assistant: \"Good Choice!, Do you have any dietary restrictions?. Please Choose from [\\'No restrictions\\', \\'Vegan-friendly\\', \\'Vegetarian-friendly\\', \\'Gluten-free options\\'].\"\\n    User: \"I prefer Vegan friendly food.\"\\n    Assistant: \"Thank you for providing that information. {\\'Cuisine preferences\\': \\'South Indian\\', \\'Dietary restrictions\\': \\'Vegan-friendly\\', \\'Location\\': \\'Innespeta\\'}\"\\n\\n    ####\\n\\n    ####\\n    Here is a sample conversation between the user and assistant:\\n    User: \"Hi, Show me some Vegan friendly Restaurants Nearby.\"\\n    Assistant: \"Sure! Thanks for Specifying your dietary restrictions as Vegan-friendly .Now, Please choose your nearest location from [\\'Katheru\\', \\'Innespeta\\', \\'Morampudi\\', \\'Aryapuram\\', \\'Danavai Peta\\', \\'Alcot Gardens\\', \\'Syamalamba Temple Road\\', \\'Tilak Road\\', \\'Tadepalli\\']\".{\\'Cuisine preferences\\': \\'_\\', \\'Dietary restrictions\\': \\'Vegan-friendly\\', \\'Location\\': \\'_\\'}\\n    User: \"Innespeta\"\\n    Assistant: \"Sure, There are some good restaurants nearby. Please choose your Cuisine Preferences from [\\'South Indian\\', \\'North Indian\\', \\'Chinese\\', \\'Continental\\', \\'Italian\\', \\'Andhra Cuisine\\']. {\\'Cuisine preferences\\': \\'_\\', \\'Dietary restrictions\\': \\'Vegan-friendly\\', \\'Location\\': \\'Innespeta\\'}\\n    User: \"I primarily prefer Vegan friendly food.\"\\n    Assistant: \"Sure noted that, could you please provide your cuisine preference from [\\'South Indian\\', \\'North Indian\\', \\'Chinese\\', \\'Continental\\', \\'Italian\\', \\'Andhra Cuisine\\']\"\\n    User: \"sure, I prefer South Indian.\"\\n    Assistant: \"Thank you for providing that information. {\\'Cuisine preferences\\': \\'South Indian\\', \\'Dietary restrictions\\': \\'Vegan-friendly\\', \\'Location\\': \\'Innespeta\\'}\"\\n\\n    ####\\n    Start with a short welcome message and encourage the user to share their requirements.\\n    '}]\n"
     ]
    }
   ],
   "source": [
    "# System message looks like this\n",
    "debug_conversation = initialize_conversation()\n",
    "print(debug_conversation)"
   ]
  },
  {
   "cell_type": "code",
   "execution_count": 99,
   "metadata": {
    "colab": {
     "base_uri": "https://localhost:8080/",
     "height": 156
    },
    "executionInfo": {
     "elapsed": 26,
     "status": "ok",
     "timestamp": 1733087072938,
     "user": {
      "displayName": "v uma hyndavi",
      "userId": "16917374239320310048"
     },
     "user_tz": -330
    },
    "id": "pzxpdom2MLt4",
    "outputId": "ac2621ea-ca09-4fdf-d0b3-bcf56373a5fc"
   },
   "outputs": [
    {
     "data": {
      "application/vnd.google.colaboratory.intrinsic+json": {
       "type": "string"
      },
      "text/plain": [
       "'\\n    You are a helpful and knowledgeable restaurant recommendation assistant. Your role is to guide users in finding restaurants based on their preferences,\\n    such as cuisine, location, dietary restrictions. Be friendly, engaging, and concise while offering clear and accurate suggestions. Always prioritize user input and provide relevant follow-up questions if their request lacks details.\\n\\n    Your final objective is to fill the values for the different keys (\\'Cuisine preferences\\', \\'Dietary restrictions\\', \\'Location\\') in the Python dictionary and be confident of the values.\\n    These key-value pairs define the user\\'s profile. The Python dictionary looks like this:\\n    {\\'Cuisine preferences\\': \\'values\\', \\'Dietary restrictions\\': \\'values\\', \\'Location\\': \\'values\\'}\\n\\n    All the values in the example dictionary are only representative values.\\n\\n    ####\\n    Here are some instructions around the values for the different keys. If you do not follow this, you\\'ll be heavily penalized:\\n    - To fill the cuisine preferences value, ask the user to choose one from [\\'South Indian\\', \\'North Indian\\', \\'Chinese\\', \\'Continental\\', \\'Italian\\', \\'Andhra Cuisine\\'].\\n    - To fill the Location value, ask the user to choose one from [\\'Katheru\\', \\'Innespeta\\', \\'Morampudi\\', \\'Aryapuram\\', \\'Danavai Peta\\', \\'Alcot Gardens\\', \\'Syamalamba Temple Road\\', \\'Tilak Road\\', \\'Tadepalli\\'].\\n    - To fill Dietary Restrictions value, first ask the user whether they have any dietary restrictions. If not, take it as \\'No restrictions\\'. If yes, ask the user to select their dietary restriction from \\'Vegan-friendly\\', \\'Vegetarian-friendly\\', \\'Gluten-free options\\'.\\n    - The values need to be inferred from the user\\'s response.\\n    ####\\n\\n\\n    To fill the dictionary, you need to have the following chain of thoughts:\\n    Thought 1: Ask a question to understand the user\\'s requirements.\\n    If their preferred cuisine preferences, dietary restrictions, or location is unclear, ask follow-up questions to understand their needs.\\n    You are trying to fill the values of all the keys { \\'Cuisine Preferences\\', \\'Dietary Restrictions\\', \\'Location\\' } in the Python dictionary by understanding the user\\'s requirements.\\n    Identify the keys for which you can fill the values confidently using the understanding.\\n    Remember the instructions around the values for the different keys.\\n    If the necessary information has been extracted, only then proceed to the next step.\\n    Otherwise, rephrase the question to capture their profile clearly.\\n\\n\\n    Thought 2: Now, you are trying to fill the values for the rest of the keys which you couldn\\'t in the previous step.\\n    Remember the instructions around the values for the different keys.\\n    Ask questions you might have for all the keys to strengthen your understanding of the user\\'s requirements.\\n    If yes, move to the next Thought. If no, ask questions on the keys whose values you are unsure of.\\n\\n\\n\\n    Thought 3: Check if you have correctly updated the values for the different keys in the Python dictionary.\\n    If you are not confident about any of the values, ask clarifying questions.\\n\\n\\n    ####\\n    Here is a sample conversation between the user and assistant:\\n    User: \"Hi, Show me Restaurants Nearby.\"\\n    Assistant: \"Sure! please choose your nearest location from [\\'Katheru\\', \\'Innespeta\\', \\'Morampudi\\', \\'Aryapuram\\', \\'Danavai Peta\\', \\'Alcot Gardens\\', \\'Syamalamba Temple Road\\', \\'Tilak Road\\', \\'Tadepalli\\']\".\\n    User: \"Innespeta\"\\n    Assistant: \"Sure, There are some good restaurants nearby. Please choose your Cuisine Preferences from [\\'South Indian\\', \\'North Indian\\', \\'Chinese\\', \\'Continental\\', \\'Italian\\', \\'Andhra Cuisine\\'].\"\\n    User: \"I primarily prefer South Indian.\"\\n    Assistant: \"Good Choice!, Do you have any dietary restrictions?. Please Choose from [\\'No restrictions\\', \\'Vegan-friendly\\', \\'Vegetarian-friendly\\', \\'Gluten-free options\\'].\"\\n    User: \"I prefer Vegan friendly food.\"\\n    Assistant: \"Thank you for providing that information. {\\'Cuisine preferences\\': \\'South Indian\\', \\'Dietary restrictions\\': \\'Vegan-friendly\\', \\'Location\\': \\'Innespeta\\'}\"\\n\\n    ####\\n\\n    ####\\n    Here is a sample conversation between the user and assistant:\\n    User: \"Hi, Show me some Vegan friendly Restaurants Nearby.\"\\n    Assistant: \"Sure! Thanks for Specifying your dietary restrictions as Vegan-friendly .Now, Please choose your nearest location from [\\'Katheru\\', \\'Innespeta\\', \\'Morampudi\\', \\'Aryapuram\\', \\'Danavai Peta\\', \\'Alcot Gardens\\', \\'Syamalamba Temple Road\\', \\'Tilak Road\\', \\'Tadepalli\\']\".{\\'Cuisine preferences\\': \\'_\\', \\'Dietary restrictions\\': \\'Vegan-friendly\\', \\'Location\\': \\'_\\'}\\n    User: \"Innespeta\"\\n    Assistant: \"Sure, There are some good restaurants nearby. Please choose your Cuisine Preferences from [\\'South Indian\\', \\'North Indian\\', \\'Chinese\\', \\'Continental\\', \\'Italian\\', \\'Andhra Cuisine\\']. {\\'Cuisine preferences\\': \\'_\\', \\'Dietary restrictions\\': \\'Vegan-friendly\\', \\'Location\\': \\'Innespeta\\'}\\n    User: \"I primarily prefer Vegan friendly food.\"\\n    Assistant: \"Sure noted that, could you please provide your cuisine preference from [\\'South Indian\\', \\'North Indian\\', \\'Chinese\\', \\'Continental\\', \\'Italian\\', \\'Andhra Cuisine\\']\"\\n    User: \"sure, I prefer South Indian.\"\\n    Assistant: \"Thank you for providing that information. {\\'Cuisine preferences\\': \\'South Indian\\', \\'Dietary restrictions\\': \\'Vegan-friendly\\', \\'Location\\': \\'Innespeta\\'}\"\\n\\n    ####\\n    Start with a short welcome message and encourage the user to share their requirements.\\n    '"
      ]
     },
     "execution_count": 99,
     "metadata": {},
     "output_type": "execute_result"
    }
   ],
   "source": [
    "# debug conversation has role and content lets look at its content\n",
    "debug_conversation[0]['content']"
   ]
  },
  {
   "cell_type": "code",
   "execution_count": 100,
   "metadata": {
    "colab": {
     "base_uri": "https://localhost:8080/"
    },
    "executionInfo": {
     "elapsed": 24,
     "status": "ok",
     "timestamp": 1733087072938,
     "user": {
      "displayName": "v uma hyndavi",
      "userId": "16917374239320310048"
     },
     "user_tz": -330
    },
    "id": "y7wWTP6hMRuh",
    "outputId": "478f4712-25cc-4015-ba58-23373dc752e0"
   },
   "outputs": [
    {
     "name": "stdout",
     "output_type": "stream",
     "text": [
      "\n",
      "    You are a helpful and knowledgeable restaurant recommendation assistant. Your role is to guide users in finding restaurants based on their preferences,\n",
      "    such as cuisine, location, dietary restrictions. Be friendly, engaging, and concise while offering clear and accurate suggestions. Always prioritize user input and provide relevant follow-up questions if their request lacks details.\n",
      "\n",
      "    Your final objective is to fill the values for the different keys ('Cuisine preferences', 'Dietary restrictions', 'Location') in the Python dictionary and be confident of the values.\n",
      "    These key-value pairs define the user's profile. The Python dictionary looks like this:\n",
      "    {'Cuisine preferences': 'values', 'Dietary restrictions': 'values', 'Location': 'values'}\n",
      "\n",
      "    All the values in the example dictionary are only representative values.\n",
      "\n",
      "    ####\n",
      "    Here are some instructions around the values for the different keys. If you do not follow this, you'll be heavily penalized:\n",
      "    - To fill the cuisine preferences value, ask the user to choose one from ['South Indian', 'North Indian', 'Chinese', 'Continental', 'Italian', 'Andhra Cuisine'].\n",
      "    - To fill the Location value, ask the user to choose one from ['Katheru', 'Innespeta', 'Morampudi', 'Aryapuram', 'Danavai Peta', 'Alcot Gardens', 'Syamalamba Temple Road', 'Tilak Road', 'Tadepalli'].\n",
      "    - To fill Dietary Restrictions value, first ask the user whether they have any dietary restrictions. If not, take it as 'No restrictions'. If yes, ask the user to select their dietary restriction from 'Vegan-friendly', 'Vegetarian-friendly', 'Gluten-free options'.\n",
      "    - The values need to be inferred from the user's response.\n",
      "    ####\n",
      "\n",
      "\n",
      "    To fill the dictionary, you need to have the following chain of thoughts:\n",
      "    Thought 1: Ask a question to understand the user's requirements.\n",
      "    If their preferred cuisine preferences, dietary restrictions, or location is unclear, ask follow-up questions to understand their needs.\n",
      "    You are trying to fill the values of all the keys { 'Cuisine Preferences', 'Dietary Restrictions', 'Location' } in the Python dictionary by understanding the user's requirements.\n",
      "    Identify the keys for which you can fill the values confidently using the understanding.\n",
      "    Remember the instructions around the values for the different keys.\n",
      "    If the necessary information has been extracted, only then proceed to the next step.\n",
      "    Otherwise, rephrase the question to capture their profile clearly.\n",
      "\n",
      "\n",
      "    Thought 2: Now, you are trying to fill the values for the rest of the keys which you couldn't in the previous step.\n",
      "    Remember the instructions around the values for the different keys.\n",
      "    Ask questions you might have for all the keys to strengthen your understanding of the user's requirements.\n",
      "    If yes, move to the next Thought. If no, ask questions on the keys whose values you are unsure of.\n",
      "\n",
      "\n",
      "\n",
      "    Thought 3: Check if you have correctly updated the values for the different keys in the Python dictionary.\n",
      "    If you are not confident about any of the values, ask clarifying questions.\n",
      "\n",
      "\n",
      "    ####\n",
      "    Here is a sample conversation between the user and assistant:\n",
      "    User: \"Hi, Show me Restaurants Nearby.\"\n",
      "    Assistant: \"Sure! please choose your nearest location from ['Katheru', 'Innespeta', 'Morampudi', 'Aryapuram', 'Danavai Peta', 'Alcot Gardens', 'Syamalamba Temple Road', 'Tilak Road', 'Tadepalli']\".\n",
      "    User: \"Innespeta\"\n",
      "    Assistant: \"Sure, There are some good restaurants nearby. Please choose your Cuisine Preferences from ['South Indian', 'North Indian', 'Chinese', 'Continental', 'Italian', 'Andhra Cuisine'].\"\n",
      "    User: \"I primarily prefer South Indian.\"\n",
      "    Assistant: \"Good Choice!, Do you have any dietary restrictions?. Please Choose from ['No restrictions', 'Vegan-friendly', 'Vegetarian-friendly', 'Gluten-free options'].\"\n",
      "    User: \"I prefer Vegan friendly food.\"\n",
      "    Assistant: \"Thank you for providing that information. {'Cuisine preferences': 'South Indian', 'Dietary restrictions': 'Vegan-friendly', 'Location': 'Innespeta'}\"\n",
      "\n",
      "    ####\n",
      "\n",
      "    ####\n",
      "    Here is a sample conversation between the user and assistant:\n",
      "    User: \"Hi, Show me some Vegan friendly Restaurants Nearby.\"\n",
      "    Assistant: \"Sure! Thanks for Specifying your dietary restrictions as Vegan-friendly .Now, Please choose your nearest location from ['Katheru', 'Innespeta', 'Morampudi', 'Aryapuram', 'Danavai Peta', 'Alcot Gardens', 'Syamalamba Temple Road', 'Tilak Road', 'Tadepalli']\".{'Cuisine preferences': '_', 'Dietary restrictions': 'Vegan-friendly', 'Location': '_'}\n",
      "    User: \"Innespeta\"\n",
      "    Assistant: \"Sure, There are some good restaurants nearby. Please choose your Cuisine Preferences from ['South Indian', 'North Indian', 'Chinese', 'Continental', 'Italian', 'Andhra Cuisine']. {'Cuisine preferences': '_', 'Dietary restrictions': 'Vegan-friendly', 'Location': 'Innespeta'}\n",
      "    User: \"I primarily prefer Vegan friendly food.\"\n",
      "    Assistant: \"Sure noted that, could you please provide your cuisine preference from ['South Indian', 'North Indian', 'Chinese', 'Continental', 'Italian', 'Andhra Cuisine']\"\n",
      "    User: \"sure, I prefer South Indian.\"\n",
      "    Assistant: \"Thank you for providing that information. {'Cuisine preferences': 'South Indian', 'Dietary restrictions': 'Vegan-friendly', 'Location': 'Innespeta'}\"\n",
      "\n",
      "    ####\n",
      "    Start with a short welcome message and encourage the user to share their requirements.\n",
      "    \n"
     ]
    }
   ],
   "source": [
    "# lets initialize conversation\n",
    "system_message = initialize_conversation()\n",
    "print(system_message[0]['content'])"
   ]
  },
  {
   "cell_type": "code",
   "execution_count": 101,
   "metadata": {
    "executionInfo": {
     "elapsed": 20,
     "status": "ok",
     "timestamp": 1733087072938,
     "user": {
      "displayName": "v uma hyndavi",
      "userId": "16917374239320310048"
     },
     "user_tz": -330
    },
    "id": "_8o4S_08MYAj"
   },
   "outputs": [],
   "source": [
    "# get_chat_completions function - this function perform LLM call to get LLM Response\n",
    "# retry upto 6 attempts,waiting time min 1sec to maxing 20sec\n",
    " # Define a Chat Completions API call\n",
    "# Retry up to 6 times with exponential backoff, starting at 1 second and maxing out at 20 seconds delay\n",
    "@retry(wait=wait_random_exponential(min=1, max=20), stop=stop_after_attempt(6))\n",
    "def get_chat_completions(input, json_format = False):\n",
    "    MODEL = 'gpt-3.5-turbo'\n",
    "\n",
    "    system_message_json_output = \"\"\"<<. Return output in JSON format to the key output.>>\"\"\"\n",
    "\n",
    "    # If the output is required to be in JSON format\n",
    "    if json_format == True:\n",
    "        # Append the input prompt to include JSON response as specified by OpenAI\n",
    "        input[0]['content'] += system_message_json_output\n",
    "\n",
    "        # JSON return type specified\n",
    "        chat_completion_json = openai.chat.completions.create(\n",
    "            model = MODEL,\n",
    "            messages = input,\n",
    "            response_format = { \"type\": \"json_object\"},\n",
    "            seed = 1234)\n",
    "\n",
    "        output = json.loads(chat_completion_json.choices[0].message.content)\n",
    "\n",
    "    # No JSON return type specified\n",
    "    else:\n",
    "        chat_completion = openai.chat.completions.create(\n",
    "            model = MODEL,\n",
    "            messages = input,\n",
    "            seed = 2345)\n",
    "\n",
    "        output = chat_completion.choices[0].message.content\n",
    "\n",
    "    return output"
   ]
  },
  {
   "cell_type": "code",
   "execution_count": 102,
   "metadata": {
    "colab": {
     "base_uri": "https://localhost:8080/"
    },
    "executionInfo": {
     "elapsed": 19,
     "status": "ok",
     "timestamp": 1733087072938,
     "user": {
      "displayName": "v uma hyndavi",
      "userId": "16917374239320310048"
     },
     "user_tz": -330
    },
    "id": "A6O1TSSpMiK3",
    "outputId": "dc57d2a6-987e-40f0-ae47-7cff224eaaf4"
   },
   "outputs": [
    {
     "name": "stdout",
     "output_type": "stream",
     "text": [
      "[{'role': 'user', 'content': 'What is the capital of france?'}]\n"
     ]
    }
   ],
   "source": [
    "# testing openai functions defined above\n",
    "input_prompt = 'What is the capital of france?'\n",
    "messages = [{'role':'user', 'content':input_prompt}]\n",
    "print(messages)"
   ]
  },
  {
   "cell_type": "code",
   "execution_count": 103,
   "metadata": {
    "colab": {
     "base_uri": "https://localhost:8080/",
     "height": 35
    },
    "executionInfo": {
     "elapsed": 13,
     "status": "ok",
     "timestamp": 1733087072939,
     "user": {
      "displayName": "v uma hyndavi",
      "userId": "16917374239320310048"
     },
     "user_tz": -330
    },
    "id": "ClmTGvycMnQg",
    "outputId": "d594f84b-6e7a-493b-d7f7-eb7286a57b60"
   },
   "outputs": [
    {
     "data": {
      "application/vnd.google.colaboratory.intrinsic+json": {
       "type": "string"
      },
      "text/plain": [
       "'The capital of France is Paris.'"
      ]
     },
     "execution_count": 103,
     "metadata": {},
     "output_type": "execute_result"
    }
   ],
   "source": [
    "get_chat_completions(messages)"
   ]
  },
  {
   "cell_type": "code",
   "execution_count": 104,
   "metadata": {
    "colab": {
     "base_uri": "https://localhost:8080/"
    },
    "executionInfo": {
     "elapsed": 376,
     "status": "ok",
     "timestamp": 1733087073304,
     "user": {
      "displayName": "v uma hyndavi",
      "userId": "16917374239320310048"
     },
     "user_tz": -330
    },
    "id": "vKNnHx0jMshy",
    "outputId": "af1b1b1d-c45c-4c9b-cfb9-56304c1ecbb9"
   },
   "outputs": [
    {
     "data": {
      "text/plain": [
       "{'output': 'Paris'}"
      ]
     },
     "execution_count": 104,
     "metadata": {},
     "output_type": "execute_result"
    }
   ],
   "source": [
    "# get LLM response in JSon format\n",
    "get_chat_completions(messages, json_format=True)"
   ]
  },
  {
   "cell_type": "code",
   "execution_count": 105,
   "metadata": {
    "executionInfo": {
     "elapsed": 5,
     "status": "ok",
     "timestamp": 1733087073304,
     "user": {
      "displayName": "v uma hyndavi",
      "userId": "16917374239320310048"
     },
     "user_tz": -330
    },
    "id": "EPYbS3wKMzSU"
   },
   "outputs": [],
   "source": [
    "# creating a helper function which iterates any function any number of times, This is to check Consistency in LLM's response\n",
    "def iterate_llm_response(funct, debug_response, num = 6):\n",
    "    \"\"\"\n",
    "    Calls a specified function repeatedly and prints the results.\n",
    "    This function is designed to test the consistency of a response from a given function.\n",
    "    It calls the function multiple times (default is 10) and prints out the iteration count,\n",
    "    the function's response(s).\n",
    "    Args:\n",
    "        funct (function): The function to be tested. This function should accept a single argument\n",
    "                          and return the response value(s).\n",
    "        debug_response (dict): The input argument to be passed to 'funct' on each call.\n",
    "        num (int, optional): The number of times 'funct' will be called. Defaults to 10.\n",
    "    Returns:\n",
    "        This function only returns the results to the console.\n",
    "    \"\"\"\n",
    "    i = 0  # Initialize counter\n",
    "\n",
    "    while i < num:  # Loop to call the function 'num' times\n",
    "\n",
    "        response = funct(debug_response)  # Call the function with the debug response\n",
    "\n",
    "        # Print the iteration number, result, and reason from the response\n",
    "        print(\"Iteration: {0}\".format(i))\n",
    "        print(response)\n",
    "        print('-' * 50)  # Print a separator line for readability\n",
    "        i += 1  # Increment the counter\n",
    "\n"
   ]
  },
  {
   "cell_type": "code",
   "execution_count": 106,
   "metadata": {
    "colab": {
     "base_uri": "https://localhost:8080/"
    },
    "executionInfo": {
     "elapsed": 2434,
     "status": "ok",
     "timestamp": 1733087075733,
     "user": {
      "displayName": "v uma hyndavi",
      "userId": "16917374239320310048"
     },
     "user_tz": -330
    },
    "id": "-ORkxP4WM5p4",
    "outputId": "a2619a32-5599-40df-fa4d-270aeabc7d09"
   },
   "outputs": [
    {
     "name": "stdout",
     "output_type": "stream",
     "text": [
      "Iteration: 0\n",
      "{\n",
      "    \"output\": \"Paris\"\n",
      "}\n",
      "--------------------------------------------------\n",
      "Iteration: 1\n",
      "{\n",
      "    \"output\": \"Paris\"\n",
      "}\n",
      "--------------------------------------------------\n",
      "Iteration: 2\n",
      "{\n",
      "    \"output\": \"Paris\"\n",
      "}\n",
      "--------------------------------------------------\n",
      "Iteration: 3\n",
      "{\n",
      "    \"output\": \"Paris\"\n",
      "}\n",
      "--------------------------------------------------\n",
      "Iteration: 4\n",
      "{\n",
      "    \"output\": \"Paris\"\n",
      "}\n",
      "--------------------------------------------------\n",
      "Iteration: 5\n",
      "{\n",
      "    \"output\": \"Paris\"\n",
      "}\n",
      "--------------------------------------------------\n"
     ]
    }
   ],
   "source": [
    "# Example usage: test the consistency of responses from 'intent_confirmation_layer'\n",
    "iterate_llm_response(get_chat_completions, messages)"
   ]
  },
  {
   "cell_type": "code",
   "execution_count": 107,
   "metadata": {
    "executionInfo": {
     "elapsed": 10,
     "status": "ok",
     "timestamp": 1733087075733,
     "user": {
      "displayName": "v uma hyndavi",
      "userId": "16917374239320310048"
     },
     "user_tz": -330
    },
    "id": "5aDL_L1eNA_n"
   },
   "outputs": [],
   "source": [
    "# debugging to check assistant's response\n",
    "debug_user_input = \"Hi, show me nearby vegetarian restaurants\""
   ]
  },
  {
   "cell_type": "code",
   "execution_count": 108,
   "metadata": {
    "colab": {
     "base_uri": "https://localhost:8080/"
    },
    "executionInfo": {
     "elapsed": 9,
     "status": "ok",
     "timestamp": 1733087075733,
     "user": {
      "displayName": "v uma hyndavi",
      "userId": "16917374239320310048"
     },
     "user_tz": -330
    },
    "id": "T8Qyo6rjNSYQ",
    "outputId": "90eeff59-8745-4044-86c0-54480f308d6f"
   },
   "outputs": [
    {
     "name": "stdout",
     "output_type": "stream",
     "text": [
      "Hi, show me nearby vegetarian restaurants\n",
      "[{'role': 'system', 'content': '\\n    You are a helpful and knowledgeable restaurant recommendation assistant. Your role is to guide users in finding restaurants based on their preferences,\\n    such as cuisine, location, dietary restrictions. Be friendly, engaging, and concise while offering clear and accurate suggestions. Always prioritize user input and provide relevant follow-up questions if their request lacks details.\\n\\n    Your final objective is to fill the values for the different keys (\\'Cuisine preferences\\', \\'Dietary restrictions\\', \\'Location\\') in the Python dictionary and be confident of the values.\\n    These key-value pairs define the user\\'s profile. The Python dictionary looks like this:\\n    {\\'Cuisine preferences\\': \\'values\\', \\'Dietary restrictions\\': \\'values\\', \\'Location\\': \\'values\\'}\\n\\n    All the values in the example dictionary are only representative values.\\n\\n    ####\\n    Here are some instructions around the values for the different keys. If you do not follow this, you\\'ll be heavily penalized:\\n    - To fill the cuisine preferences value, ask the user to choose one from [\\'South Indian\\', \\'North Indian\\', \\'Chinese\\', \\'Continental\\', \\'Italian\\', \\'Andhra Cuisine\\'].\\n    - To fill the Location value, ask the user to choose one from [\\'Katheru\\', \\'Innespeta\\', \\'Morampudi\\', \\'Aryapuram\\', \\'Danavai Peta\\', \\'Alcot Gardens\\', \\'Syamalamba Temple Road\\', \\'Tilak Road\\', \\'Tadepalli\\'].\\n    - To fill Dietary Restrictions value, first ask the user whether they have any dietary restrictions. If not, take it as \\'No restrictions\\'. If yes, ask the user to select their dietary restriction from \\'Vegan-friendly\\', \\'Vegetarian-friendly\\', \\'Gluten-free options\\'.\\n    - The values need to be inferred from the user\\'s response.\\n    ####\\n\\n\\n    To fill the dictionary, you need to have the following chain of thoughts:\\n    Thought 1: Ask a question to understand the user\\'s requirements.\\n    If their preferred cuisine preferences, dietary restrictions, or location is unclear, ask follow-up questions to understand their needs.\\n    You are trying to fill the values of all the keys { \\'Cuisine Preferences\\', \\'Dietary Restrictions\\', \\'Location\\' } in the Python dictionary by understanding the user\\'s requirements.\\n    Identify the keys for which you can fill the values confidently using the understanding.\\n    Remember the instructions around the values for the different keys.\\n    If the necessary information has been extracted, only then proceed to the next step.\\n    Otherwise, rephrase the question to capture their profile clearly.\\n\\n\\n    Thought 2: Now, you are trying to fill the values for the rest of the keys which you couldn\\'t in the previous step.\\n    Remember the instructions around the values for the different keys.\\n    Ask questions you might have for all the keys to strengthen your understanding of the user\\'s requirements.\\n    If yes, move to the next Thought. If no, ask questions on the keys whose values you are unsure of.\\n\\n\\n\\n    Thought 3: Check if you have correctly updated the values for the different keys in the Python dictionary.\\n    If you are not confident about any of the values, ask clarifying questions.\\n\\n\\n    ####\\n    Here is a sample conversation between the user and assistant:\\n    User: \"Hi, Show me Restaurants Nearby.\"\\n    Assistant: \"Sure! please choose your nearest location from [\\'Katheru\\', \\'Innespeta\\', \\'Morampudi\\', \\'Aryapuram\\', \\'Danavai Peta\\', \\'Alcot Gardens\\', \\'Syamalamba Temple Road\\', \\'Tilak Road\\', \\'Tadepalli\\']\".\\n    User: \"Innespeta\"\\n    Assistant: \"Sure, There are some good restaurants nearby. Please choose your Cuisine Preferences from [\\'South Indian\\', \\'North Indian\\', \\'Chinese\\', \\'Continental\\', \\'Italian\\', \\'Andhra Cuisine\\'].\"\\n    User: \"I primarily prefer South Indian.\"\\n    Assistant: \"Good Choice!, Do you have any dietary restrictions?. Please Choose from [\\'No restrictions\\', \\'Vegan-friendly\\', \\'Vegetarian-friendly\\', \\'Gluten-free options\\'].\"\\n    User: \"I prefer Vegan friendly food.\"\\n    Assistant: \"Thank you for providing that information. {\\'Cuisine preferences\\': \\'South Indian\\', \\'Dietary restrictions\\': \\'Vegan-friendly\\', \\'Location\\': \\'Innespeta\\'}\"\\n\\n    ####\\n\\n    ####\\n    Here is a sample conversation between the user and assistant:\\n    User: \"Hi, Show me some Vegan friendly Restaurants Nearby.\"\\n    Assistant: \"Sure! Thanks for Specifying your dietary restrictions as Vegan-friendly .Now, Please choose your nearest location from [\\'Katheru\\', \\'Innespeta\\', \\'Morampudi\\', \\'Aryapuram\\', \\'Danavai Peta\\', \\'Alcot Gardens\\', \\'Syamalamba Temple Road\\', \\'Tilak Road\\', \\'Tadepalli\\']\".{\\'Cuisine preferences\\': \\'_\\', \\'Dietary restrictions\\': \\'Vegan-friendly\\', \\'Location\\': \\'_\\'}\\n    User: \"Innespeta\"\\n    Assistant: \"Sure, There are some good restaurants nearby. Please choose your Cuisine Preferences from [\\'South Indian\\', \\'North Indian\\', \\'Chinese\\', \\'Continental\\', \\'Italian\\', \\'Andhra Cuisine\\']. {\\'Cuisine preferences\\': \\'_\\', \\'Dietary restrictions\\': \\'Vegan-friendly\\', \\'Location\\': \\'Innespeta\\'}\\n    User: \"I primarily prefer Vegan friendly food.\"\\n    Assistant: \"Sure noted that, could you please provide your cuisine preference from [\\'South Indian\\', \\'North Indian\\', \\'Chinese\\', \\'Continental\\', \\'Italian\\', \\'Andhra Cuisine\\']\"\\n    User: \"sure, I prefer South Indian.\"\\n    Assistant: \"Thank you for providing that information. {\\'Cuisine preferences\\': \\'South Indian\\', \\'Dietary restrictions\\': \\'Vegan-friendly\\', \\'Location\\': \\'Innespeta\\'}\"\\n\\n    ####\\n    Start with a short welcome message and encourage the user to share their requirements.\\n    '}, {'role': 'user', 'content': 'Hi, show me nearby vegetarian restaurants'}]\n"
     ]
    }
   ],
   "source": [
    "debug_conversation.append({\"role\": \"user\", \"content\": debug_user_input})\n",
    "print(debug_conversation[1][\"content\"]) # User Input\n",
    "print(debug_conversation)"
   ]
  },
  {
   "cell_type": "code",
   "execution_count": 109,
   "metadata": {
    "colab": {
     "base_uri": "https://localhost:8080/",
     "height": 35
    },
    "executionInfo": {
     "elapsed": 436,
     "status": "ok",
     "timestamp": 1733087076165,
     "user": {
      "displayName": "v uma hyndavi",
      "userId": "16917374239320310048"
     },
     "user_tz": -330
    },
    "id": "eahlk4qkNheL",
    "outputId": "00f4ee4c-d295-4a6f-8ea8-96b9a3e95276"
   },
   "outputs": [
    {
     "data": {
      "application/vnd.google.colaboratory.intrinsic+json": {
       "type": "string"
      },
      "text/plain": [
       "'Sure! Do you have any specific location in mind for these vegetarian restaurants?'"
      ]
     },
     "metadata": {},
     "output_type": "display_data"
    }
   ],
   "source": [
    "debug_response_assistant = get_chat_completions(debug_conversation)\n",
    "display(debug_response_assistant)"
   ]
  },
  {
   "cell_type": "code",
   "execution_count": 110,
   "metadata": {
    "colab": {
     "base_uri": "https://localhost:8080/"
    },
    "executionInfo": {
     "elapsed": 17,
     "status": "ok",
     "timestamp": 1733087076165,
     "user": {
      "displayName": "v uma hyndavi",
      "userId": "16917374239320310048"
     },
     "user_tz": -330
    },
    "id": "TgCSmuq_N3aJ",
    "outputId": "f4586a28-f6f6-44f7-be27-e248101f6fdf"
   },
   "outputs": [
    {
     "data": {
      "text/plain": [
       "[{'role': 'system',\n",
       "  'content': '\\n    You are a helpful and knowledgeable restaurant recommendation assistant. Your role is to guide users in finding restaurants based on their preferences,\\n    such as cuisine, location, dietary restrictions. Be friendly, engaging, and concise while offering clear and accurate suggestions. Always prioritize user input and provide relevant follow-up questions if their request lacks details.\\n\\n    Your final objective is to fill the values for the different keys (\\'Cuisine preferences\\', \\'Dietary restrictions\\', \\'Location\\') in the Python dictionary and be confident of the values.\\n    These key-value pairs define the user\\'s profile. The Python dictionary looks like this:\\n    {\\'Cuisine preferences\\': \\'values\\', \\'Dietary restrictions\\': \\'values\\', \\'Location\\': \\'values\\'}\\n\\n    All the values in the example dictionary are only representative values.\\n\\n    ####\\n    Here are some instructions around the values for the different keys. If you do not follow this, you\\'ll be heavily penalized:\\n    - To fill the cuisine preferences value, ask the user to choose one from [\\'South Indian\\', \\'North Indian\\', \\'Chinese\\', \\'Continental\\', \\'Italian\\', \\'Andhra Cuisine\\'].\\n    - To fill the Location value, ask the user to choose one from [\\'Katheru\\', \\'Innespeta\\', \\'Morampudi\\', \\'Aryapuram\\', \\'Danavai Peta\\', \\'Alcot Gardens\\', \\'Syamalamba Temple Road\\', \\'Tilak Road\\', \\'Tadepalli\\'].\\n    - To fill Dietary Restrictions value, first ask the user whether they have any dietary restrictions. If not, take it as \\'No restrictions\\'. If yes, ask the user to select their dietary restriction from \\'Vegan-friendly\\', \\'Vegetarian-friendly\\', \\'Gluten-free options\\'.\\n    - The values need to be inferred from the user\\'s response.\\n    ####\\n\\n\\n    To fill the dictionary, you need to have the following chain of thoughts:\\n    Thought 1: Ask a question to understand the user\\'s requirements.\\n    If their preferred cuisine preferences, dietary restrictions, or location is unclear, ask follow-up questions to understand their needs.\\n    You are trying to fill the values of all the keys { \\'Cuisine Preferences\\', \\'Dietary Restrictions\\', \\'Location\\' } in the Python dictionary by understanding the user\\'s requirements.\\n    Identify the keys for which you can fill the values confidently using the understanding.\\n    Remember the instructions around the values for the different keys.\\n    If the necessary information has been extracted, only then proceed to the next step.\\n    Otherwise, rephrase the question to capture their profile clearly.\\n\\n\\n    Thought 2: Now, you are trying to fill the values for the rest of the keys which you couldn\\'t in the previous step.\\n    Remember the instructions around the values for the different keys.\\n    Ask questions you might have for all the keys to strengthen your understanding of the user\\'s requirements.\\n    If yes, move to the next Thought. If no, ask questions on the keys whose values you are unsure of.\\n\\n\\n\\n    Thought 3: Check if you have correctly updated the values for the different keys in the Python dictionary.\\n    If you are not confident about any of the values, ask clarifying questions.\\n\\n\\n    ####\\n    Here is a sample conversation between the user and assistant:\\n    User: \"Hi, Show me Restaurants Nearby.\"\\n    Assistant: \"Sure! please choose your nearest location from [\\'Katheru\\', \\'Innespeta\\', \\'Morampudi\\', \\'Aryapuram\\', \\'Danavai Peta\\', \\'Alcot Gardens\\', \\'Syamalamba Temple Road\\', \\'Tilak Road\\', \\'Tadepalli\\']\".\\n    User: \"Innespeta\"\\n    Assistant: \"Sure, There are some good restaurants nearby. Please choose your Cuisine Preferences from [\\'South Indian\\', \\'North Indian\\', \\'Chinese\\', \\'Continental\\', \\'Italian\\', \\'Andhra Cuisine\\'].\"\\n    User: \"I primarily prefer South Indian.\"\\n    Assistant: \"Good Choice!, Do you have any dietary restrictions?. Please Choose from [\\'No restrictions\\', \\'Vegan-friendly\\', \\'Vegetarian-friendly\\', \\'Gluten-free options\\'].\"\\n    User: \"I prefer Vegan friendly food.\"\\n    Assistant: \"Thank you for providing that information. {\\'Cuisine preferences\\': \\'South Indian\\', \\'Dietary restrictions\\': \\'Vegan-friendly\\', \\'Location\\': \\'Innespeta\\'}\"\\n\\n    ####\\n\\n    ####\\n    Here is a sample conversation between the user and assistant:\\n    User: \"Hi, Show me some Vegan friendly Restaurants Nearby.\"\\n    Assistant: \"Sure! Thanks for Specifying your dietary restrictions as Vegan-friendly .Now, Please choose your nearest location from [\\'Katheru\\', \\'Innespeta\\', \\'Morampudi\\', \\'Aryapuram\\', \\'Danavai Peta\\', \\'Alcot Gardens\\', \\'Syamalamba Temple Road\\', \\'Tilak Road\\', \\'Tadepalli\\']\".{\\'Cuisine preferences\\': \\'_\\', \\'Dietary restrictions\\': \\'Vegan-friendly\\', \\'Location\\': \\'_\\'}\\n    User: \"Innespeta\"\\n    Assistant: \"Sure, There are some good restaurants nearby. Please choose your Cuisine Preferences from [\\'South Indian\\', \\'North Indian\\', \\'Chinese\\', \\'Continental\\', \\'Italian\\', \\'Andhra Cuisine\\']. {\\'Cuisine preferences\\': \\'_\\', \\'Dietary restrictions\\': \\'Vegan-friendly\\', \\'Location\\': \\'Innespeta\\'}\\n    User: \"I primarily prefer Vegan friendly food.\"\\n    Assistant: \"Sure noted that, could you please provide your cuisine preference from [\\'South Indian\\', \\'North Indian\\', \\'Chinese\\', \\'Continental\\', \\'Italian\\', \\'Andhra Cuisine\\']\"\\n    User: \"sure, I prefer South Indian.\"\\n    Assistant: \"Thank you for providing that information. {\\'Cuisine preferences\\': \\'South Indian\\', \\'Dietary restrictions\\': \\'Vegan-friendly\\', \\'Location\\': \\'Innespeta\\'}\"\\n\\n    ####\\n    Start with a short welcome message and encourage the user to share their requirements.\\n    '},\n",
       " {'role': 'user', 'content': 'Hi, show me nearby vegetarian restaurants'},\n",
       " {'role': 'assistant',\n",
       "  'content': 'Sure! Do you have any specific location in mind for these vegetarian restaurants?'}]"
      ]
     },
     "execution_count": 110,
     "metadata": {},
     "output_type": "execute_result"
    }
   ],
   "source": [
    "# Let's append this to the conversation list\n",
    "debug_conversation.append(({\"role\": \"assistant\", \"content\": debug_response_assistant}))\n",
    "debug_conversation"
   ]
  },
  {
   "cell_type": "code",
   "execution_count": 111,
   "metadata": {
    "executionInfo": {
     "elapsed": 12,
     "status": "ok",
     "timestamp": 1733087076166,
     "user": {
      "displayName": "v uma hyndavi",
      "userId": "16917374239320310048"
     },
     "user_tz": -330
    },
    "id": "_7uh2eAcOT4Q"
   },
   "outputs": [],
   "source": [
    "# function which checks moderation in user and assitant's response, To detect Unsafe content\n",
    "# Define a function called moderation_check that takes user_input as a parameter.\n",
    "\n",
    "def moderation_check(user_input):\n",
    "    # Call the OpenAI API to perform moderation on the user's input.\n",
    "    response = openai.moderations.create(input=user_input)\n",
    "\n",
    "    # Extract the moderation result from the API response.\n",
    "    moderation_output = response.results[0].flagged\n",
    "    # Check if the input was flagged by the moderation system.\n",
    "    if response.results[0].flagged == True:\n",
    "        # If flagged, return \"Flagged\"\n",
    "        return \"Flagged\"\n",
    "    else:\n",
    "        # If not flagged, return \"Not Flagged\"\n",
    "        return \"Not Flagged\""
   ]
  },
  {
   "cell_type": "code",
   "execution_count": 112,
   "metadata": {
    "colab": {
     "base_uri": "https://localhost:8080/",
     "height": 35
    },
    "executionInfo": {
     "elapsed": 1001,
     "status": "ok",
     "timestamp": 1733087077156,
     "user": {
      "displayName": "v uma hyndavi",
      "userId": "16917374239320310048"
     },
     "user_tz": -330
    },
    "id": "1-_fdDrXOfN4",
    "outputId": "96754b8a-5186-43ea-8234-28f6b389298e"
   },
   "outputs": [
    {
     "data": {
      "application/vnd.google.colaboratory.intrinsic+json": {
       "type": "string"
      },
      "text/plain": [
       "'Flagged'"
      ]
     },
     "execution_count": 112,
     "metadata": {},
     "output_type": "execute_result"
    }
   ],
   "source": [
    "# This must be flagged as it is unsafe\n",
    "moderation_check('I want to self_harm')"
   ]
  },
  {
   "cell_type": "code",
   "execution_count": 113,
   "metadata": {
    "colab": {
     "base_uri": "https://localhost:8080/",
     "height": 35
    },
    "executionInfo": {
     "elapsed": 27,
     "status": "ok",
     "timestamp": 1733087077156,
     "user": {
      "displayName": "v uma hyndavi",
      "userId": "16917374239320310048"
     },
     "user_tz": -330
    },
    "id": "ekWdRhn6Oh7C",
    "outputId": "eeaa0269-f4db-4b1b-ba9b-498d43f7d565"
   },
   "outputs": [
    {
     "data": {
      "application/vnd.google.colaboratory.intrinsic+json": {
       "type": "string"
      },
      "text/plain": [
       "'Not Flagged'"
      ]
     },
     "execution_count": 113,
     "metadata": {},
     "output_type": "execute_result"
    }
   ],
   "source": [
    "# lets moderation check debug_user_input\n",
    "debug_moderation = moderation_check(debug_user_input)\n",
    "debug_moderation"
   ]
  },
  {
   "cell_type": "code",
   "execution_count": 114,
   "metadata": {
    "executionInfo": {
     "elapsed": 26,
     "status": "ok",
     "timestamp": 1733087077157,
     "user": {
      "displayName": "v uma hyndavi",
      "userId": "16917374239320310048"
     },
     "user_tz": -330
    },
    "id": "GlY36zRWOqJU"
   },
   "outputs": [],
   "source": [
    "# This function returns 'Yes' if all the specifications are gathered from the user. else returns 'No'\n",
    "def intent_confirmation_layer(response_assistant):\n",
    "\n",
    "    delimiter = \"####\"\n",
    "    Dietary_Restrictions = [\"No restrictions\", \"Vegan-friendly\", \"Vegetarian-friendly\", \"Gluten-free options\"]\n",
    "    Cuisine_Preferences = [\"South Indian\", \"North Indian\", \"Chinese\", \"Continental\", \"Italian\", \"Andhra Cuisine\"]\n",
    "    Restaurant_Locations = [\"Katheru\", \"Innespeta\", \"Morampudi\", \"Aryapuram\", \"Danavai Peta\", \"Alcot Gardens\",\n",
    "                            \"Syamalamba Temple Road\", \"Tilak Road\", \"Tadepalli\"]\n",
    "\n",
    "\n",
    "    prompt = f\"\"\"\n",
    "    You are a senior evaluator who has an eye for detail.The input text will contain a user requirement captured through 3 keys.\n",
    "    You are provided an input. You need to evaluate if the input text has the following keys:\n",
    "    { {'Cuisine preferences': \"values\",\n",
    "       'Dietary restrictions': \"values\",\n",
    "       'Location': \"values\"} }\n",
    "    The values of keys must match with respective Dietary_Restrictions from {Dietary_Restrictions}, Cuisine_Preferences from {Cuisine_Preferences} and Restaurant_locations from {Restaurant_Locations}\n",
    "    Next you need to evaluate if the keys have the the values filled correctly.\n",
    "    Only output a one-word string in JSON format at the key 'result' - Yes/No.\n",
    "    Thought 1 - Output a string 'Yes' if the values are correctly filled for all keys, otherwise output 'No'.\n",
    "    Thought 2 - If the answer is No, mention the reason in the key 'reason'.\n",
    "    THought 3 - Think carefully before the answering.\n",
    "    \"\"\"\n",
    "\n",
    "    messages=[{\"role\": \"system\", \"content\":prompt },\n",
    "              {\"role\": \"user\", \"content\":f\"\"\"Here is the input: {response_assistant}\"\"\" }]\n",
    "\n",
    "    response = openai.chat.completions.create(\n",
    "                                    model=\"gpt-3.5-turbo\",\n",
    "                                    messages = messages,\n",
    "                                    response_format={ \"type\": \"json_object\" },\n",
    "                                    seed = 1234\n",
    "                                    # n = 5\n",
    "                                    )\n",
    "\n",
    "    json_output = json.loads(response.choices[0].message.content)\n",
    "\n",
    "    return json_output"
   ]
  },
  {
   "cell_type": "code",
   "execution_count": 115,
   "metadata": {
    "colab": {
     "base_uri": "https://localhost:8080/",
     "height": 35
    },
    "executionInfo": {
     "elapsed": 25,
     "status": "ok",
     "timestamp": 1733087077157,
     "user": {
      "displayName": "v uma hyndavi",
      "userId": "16917374239320310048"
     },
     "user_tz": -330
    },
    "id": "6eDVyL-DPBDX",
    "outputId": "b4dcd5d2-50da-4385-b789-5d624979c2b6"
   },
   "outputs": [
    {
     "data": {
      "application/vnd.google.colaboratory.intrinsic+json": {
       "type": "string"
      },
      "text/plain": [
       "'Sure! Do you have any specific location in mind for these vegetarian restaurants?'"
      ]
     },
     "execution_count": 115,
     "metadata": {},
     "output_type": "execute_result"
    }
   ],
   "source": [
    "debug_response_assistant"
   ]
  },
  {
   "cell_type": "code",
   "execution_count": 116,
   "metadata": {
    "colab": {
     "base_uri": "https://localhost:8080/"
    },
    "executionInfo": {
     "elapsed": 24,
     "status": "ok",
     "timestamp": 1733087077157,
     "user": {
      "displayName": "v uma hyndavi",
      "userId": "16917374239320310048"
     },
     "user_tz": -330
    },
    "id": "9-ZEsvmnUjwH",
    "outputId": "d786bbbd-a572-4108-baa9-256d543ca00c"
   },
   "outputs": [
    {
     "name": "stdout",
     "output_type": "stream",
     "text": [
      "{'result': 'No', 'reason': 'Missing keys: Cuisine preferences, Dietary restrictions, Location'}\n"
     ]
    }
   ],
   "source": [
    "debug_confirmation = intent_confirmation_layer(debug_response_assistant)\n",
    "print(debug_confirmation)"
   ]
  },
  {
   "cell_type": "code",
   "execution_count": 117,
   "metadata": {
    "colab": {
     "base_uri": "https://localhost:8080/"
    },
    "executionInfo": {
     "elapsed": 20,
     "status": "ok",
     "timestamp": 1733087077158,
     "user": {
      "displayName": "v uma hyndavi",
      "userId": "16917374239320310048"
     },
     "user_tz": -330
    },
    "id": "_KrLPGSfVHR5",
    "outputId": "ef06bac8-d5f2-4cbb-f49f-b04e28a2c867"
   },
   "outputs": [
    {
     "name": "stdout",
     "output_type": "stream",
     "text": [
      "\n",
      "Great, thank you for clarifying your requirements.\n",
      "Based on your inputs, here is the final profile for the laptop you are looking for:\n",
      "{'Cuisine preferences': \"South Indian\",\n",
      "  'Dietary restrictions': \"Vegan-friendly\",\n",
      "  'Location': \"Innespeta\"}\n",
      "\n"
     ]
    }
   ],
   "source": [
    "# Example 1 - Let's check with the confirmation_layer if all the keys are present\n",
    "debug_response_assistant_1 = f\"\"\"\n",
    "Great, thank you for clarifying your requirements.\n",
    "Based on your inputs, here is the final profile for the laptop you are looking for:\n",
    "{{'Cuisine preferences': \"South Indian\",\n",
    "  'Dietary restrictions': \"Vegan-friendly\",\n",
    "  'Location': \"Innespeta\"}}\n",
    "\"\"\"\n",
    "print(debug_response_assistant_1)"
   ]
  },
  {
   "cell_type": "code",
   "execution_count": 118,
   "metadata": {
    "colab": {
     "base_uri": "https://localhost:8080/"
    },
    "executionInfo": {
     "elapsed": 1714,
     "status": "ok",
     "timestamp": 1733087078855,
     "user": {
      "displayName": "v uma hyndavi",
      "userId": "16917374239320310048"
     },
     "user_tz": -330
    },
    "id": "YijmGtvoVhn_",
    "outputId": "38559dd2-60c1-4256-ed17-b2aa3744e557"
   },
   "outputs": [
    {
     "name": "stdout",
     "output_type": "stream",
     "text": [
      "{'result': 'Yes'}\n"
     ]
    }
   ],
   "source": [
    "response = intent_confirmation_layer(debug_response_assistant_1)\n",
    "print(response)"
   ]
  },
  {
   "cell_type": "code",
   "execution_count": 119,
   "metadata": {
    "colab": {
     "base_uri": "https://localhost:8080/"
    },
    "executionInfo": {
     "elapsed": 21,
     "status": "ok",
     "timestamp": 1733087078856,
     "user": {
      "displayName": "v uma hyndavi",
      "userId": "16917374239320310048"
     },
     "user_tz": -330
    },
    "id": "OORxwgNNVmPp",
    "outputId": "c08f278f-484a-45d4-8c58-6ba06d06a1e3"
   },
   "outputs": [
    {
     "name": "stdout",
     "output_type": "stream",
     "text": [
      "\n",
      "Great, thank you for clarifying your requirements.\n",
      "Based on your inputs, here is the final profile for the laptop you are looking for:\n",
      "{'Cuisine preference': \"South Indian\",\n",
      "  'Dietary restrictions': \"Vegan-friendly\",\n",
      "  'Location': '_'}\n",
      "\n"
     ]
    }
   ],
   "source": [
    "#Example 2\n",
    "debug_response_assistant_1 = f\"\"\"\n",
    "Great, thank you for clarifying your requirements.\n",
    "Based on your inputs, here is the final profile for the laptop you are looking for:\n",
    "{{'Cuisine preference': \"South Indian\",\n",
    "  'Dietary restrictions': \"Vegan-friendly\",\n",
    "  'Location': '_'}}\n",
    "\"\"\"\n",
    "print(debug_response_assistant_1)"
   ]
  },
  {
   "cell_type": "code",
   "execution_count": 120,
   "metadata": {
    "colab": {
     "base_uri": "https://localhost:8080/"
    },
    "executionInfo": {
     "elapsed": 16,
     "status": "ok",
     "timestamp": 1733087078856,
     "user": {
      "displayName": "v uma hyndavi",
      "userId": "16917374239320310048"
     },
     "user_tz": -330
    },
    "id": "u4XaRt8OVvt2",
    "outputId": "f0ca3b1b-1ec3-487d-ba83-fd7cabffb5de"
   },
   "outputs": [
    {
     "name": "stdout",
     "output_type": "stream",
     "text": [
      "{'result': 'No', 'reason': 'Location value is missing'}\n"
     ]
    }
   ],
   "source": [
    "response = intent_confirmation_layer(debug_response_assistant_1)\n",
    "print(response)"
   ]
  },
  {
   "cell_type": "code",
   "execution_count": 121,
   "metadata": {
    "executionInfo": {
     "elapsed": 13,
     "status": "ok",
     "timestamp": 1733087078856,
     "user": {
      "displayName": "v uma hyndavi",
      "userId": "16917374239320310048"
     },
     "user_tz": -330
    },
    "id": "vommF8O6V3a8"
   },
   "outputs": [],
   "source": [
    "# This Function converts the gathered user specifications to dictionary format\n",
    "def dictionary_present(response):\n",
    "    delimiter = \"####\"\n",
    "    Dietary_Restrictions = [\"No restrictions\", \"Vegan-friendly\", \"Vegetarian-friendly\", \"Gluten-free options\"]\n",
    "    Cuisine_Preferences = [\"South Indian\", \"North Indian\", \"Chinese\", \"Continental\", \"Italian\", \"Andhra Cuisine\"]\n",
    "    Restaurant_Locations = [\"Katheru\", \"Innespeta\", \"Morampudi\", \"Aryapuram\", \"Danavai Peta\", \"Alcot Gardens\",\n",
    "                            \"Syamalamba Temple Road\", \"Tilak Road\", \"Tadepalli\"]\n",
    "    user_req = {'Cuisine preferences': \"South Indian\",\n",
    "                'Dietary restrictions': \"Vegan-friendly\",\n",
    "                'Location': \"Innespeta\"}\n",
    "\n",
    "    prompt = f\"\"\"You are a python expert. You are provided an input.\n",
    "            You have to check if there is a python dictionary present in the string.\n",
    "            It will have the following format {user_req}.\n",
    "            Your task is to just extract the relevant values from the input and return only the python dictionary in JSON format.\n",
    "            The output should match the format as {user_req}.\n",
    "\n",
    "            {delimiter}\n",
    "            The output should contain the exact keys and values as present in the input.\n",
    "            Ensure the keys and values are in the given format:\n",
    "            {{'Cuisine preferences': \"South Indian\"/\"North Indian\"/\"Chinese\"/\"Continental\"/\"Italian\"/\"Andhra Cuisine\"  ,\n",
    "                'Dietary restrictions': \"No restrictions\"/\"Vegan-friendly\"/\"Vegetarian-friendly\"/\"Gluten-free options\",\n",
    "                'Location': \"Katheru\"/\"Innespeta\"/\"Morampudi\"/\"Aryapuram\"/\"Danavai Peta\"/\"Alcot Gardens\"/\"Syamalamba Temple Road\"/\"Tilak Road\"/\"Tadepalli\"\n",
    "            Here are some sample input output pairs for better understanding:\n",
    "            {delimiter}\n",
    "            input 1: 'Cuisine preferences': \"South Indian\", 'Dietary restrictions': \"Vegan-friendly\", 'Location': \"Innespeta\"\n",
    "            output 1: {{'Cuisine preferences': \"South Indian\", 'Dietary restrictions': \"Vegan-friendly\", 'Location': \"Innespeta\"}}\n",
    "\n",
    "            input 2: {{'Cuisine preferences':     \"South Indian\", 'Dietary restrictions':     \"Vegan-friendly\", 'Location':     \"Innespeta\"}}\n",
    "            output 2: {{'Cuisine preferences': \"South Indian\", 'Dietary restrictions': \"Vegan-friendly\", 'Location': \"Innespeta\"}}\n",
    "\n",
    "            input 3: Here is your user profile 'Cuisine preferences': \"North Indian\", 'Dietary restrictions': \"Gluten-free options\", 'Location': \"Morampudi\"\n",
    "            output 3: {{'Cuisine preferences': \"North Indian\", 'Dietary restrictions': \"Gluten-free options\", 'Location': \"Morampudi\"}}\n",
    "            {delimiter}\n",
    "            \"\"\"\n",
    "    messages = [{\"role\": \"system\", \"content\":prompt },\n",
    "                {\"role\": \"user\", \"content\":f\"\"\"Here is the user input: {response}\"\"\" }]\n",
    "\n",
    "    confirmation = get_chat_completions(messages, json_format = True)\n",
    "    return confirmation"
   ]
  },
  {
   "cell_type": "code",
   "execution_count": 122,
   "metadata": {
    "executionInfo": {
     "elapsed": 12,
     "status": "ok",
     "timestamp": 1733087078856,
     "user": {
      "displayName": "v uma hyndavi",
      "userId": "16917374239320310048"
     },
     "user_tz": -330
    },
    "id": "LgJ3ivaFjHoG"
   },
   "outputs": [],
   "source": [
    "debug_response_assistant_n = {'Cuisine preferences': 'South Indian', 'Dietary restrictions': 'Vegan-friendly', 'Location': 'Innespeta'}"
   ]
  },
  {
   "cell_type": "code",
   "execution_count": 123,
   "metadata": {
    "colab": {
     "base_uri": "https://localhost:8080/",
     "height": 69
    },
    "executionInfo": {
     "elapsed": 12,
     "status": "ok",
     "timestamp": 1733087078856,
     "user": {
      "displayName": "v uma hyndavi",
      "userId": "16917374239320310048"
     },
     "user_tz": -330
    },
    "id": "P4kcduu0mnGi",
    "outputId": "847c9990-f553-4008-f2bf-3c0fe777ce85"
   },
   "outputs": [
    {
     "data": {
      "text/plain": [
       "{'Cuisine preferences': 'South Indian',\n",
       " 'Dietary restrictions': 'Vegan-friendly',\n",
       " 'Location': 'Innespeta'}"
      ]
     },
     "metadata": {},
     "output_type": "display_data"
    }
   ],
   "source": [
    "response_dict_n = dictionary_present(debug_response_assistant_n)\n",
    "display(response_dict_n)"
   ]
  },
  {
   "cell_type": "code",
   "execution_count": 124,
   "metadata": {
    "colab": {
     "base_uri": "https://localhost:8080/"
    },
    "executionInfo": {
     "elapsed": 11,
     "status": "ok",
     "timestamp": 1733087078857,
     "user": {
      "displayName": "v uma hyndavi",
      "userId": "16917374239320310048"
     },
     "user_tz": -330
    },
    "id": "GitOSoeZmqBr",
    "outputId": "16d1ebc3-4dba-4985-feff-ad1f28ba28f4"
   },
   "outputs": [
    {
     "data": {
      "text/plain": [
       "dict"
      ]
     },
     "execution_count": 124,
     "metadata": {},
     "output_type": "execute_result"
    }
   ],
   "source": [
    "type(response_dict_n)"
   ]
  },
  {
   "cell_type": "code",
   "execution_count": 125,
   "metadata": {
    "executionInfo": {
     "elapsed": 9,
     "status": "ok",
     "timestamp": 1733087078857,
     "user": {
      "displayName": "v uma hyndavi",
      "userId": "16917374239320310048"
     },
     "user_tz": -330
    },
    "id": "yerVqPnPmtlM"
   },
   "outputs": [],
   "source": [
    "debug_response_assistant_n = f\"\"\"Thank you for providing your requirements\n",
    "Here are the restaurant specifications:\n",
    "- 'Cuisine preference': 'South Indian'\n",
    "- 'Dietary restrictions': 'Vegan-friendly'\n",
    "- 'Location': 'Innespeta'\n",
    "\n",
    "Please, Let me know if there's anything else I can assist you with!\"\"\""
   ]
  },
  {
   "cell_type": "code",
   "execution_count": 126,
   "metadata": {
    "colab": {
     "base_uri": "https://localhost:8080/",
     "height": 69
    },
    "executionInfo": {
     "elapsed": 390,
     "status": "ok",
     "timestamp": 1733087079239,
     "user": {
      "displayName": "v uma hyndavi",
      "userId": "16917374239320310048"
     },
     "user_tz": -330
    },
    "id": "-xy_1pi8nTet",
    "outputId": "1c4091a2-9f4f-45f6-da80-06c51aa48bb4"
   },
   "outputs": [
    {
     "data": {
      "text/plain": [
       "{'Cuisine preferences': 'South Indian',\n",
       " 'Dietary restrictions': 'Vegan-friendly',\n",
       " 'Location': 'Innespeta'}"
      ]
     },
     "metadata": {},
     "output_type": "display_data"
    }
   ],
   "source": [
    "response_dict_n = dictionary_present(debug_response_assistant_n)\n",
    "display(response_dict_n)"
   ]
  },
  {
   "cell_type": "code",
   "execution_count": 127,
   "metadata": {
    "colab": {
     "base_uri": "https://localhost:8080/"
    },
    "executionInfo": {
     "elapsed": 11,
     "status": "ok",
     "timestamp": 1733087079240,
     "user": {
      "displayName": "v uma hyndavi",
      "userId": "16917374239320310048"
     },
     "user_tz": -330
    },
    "id": "cC7W3zcunWrW",
    "outputId": "22ad6265-471f-497c-8b0e-d17cad29f204"
   },
   "outputs": [
    {
     "data": {
      "text/plain": [
       "dict"
      ]
     },
     "execution_count": 127,
     "metadata": {},
     "output_type": "execute_result"
    }
   ],
   "source": [
    "type(response_dict_n)"
   ]
  },
  {
   "cell_type": "code",
   "execution_count": 128,
   "metadata": {
    "colab": {
     "base_uri": "https://localhost:8080/"
    },
    "executionInfo": {
     "elapsed": 4102,
     "status": "ok",
     "timestamp": 1733087083335,
     "user": {
      "displayName": "v uma hyndavi",
      "userId": "16917374239320310048"
     },
     "user_tz": -330
    },
    "id": "guIV0twincYm",
    "outputId": "6b0700b1-e251-4120-f3f9-5788a2f7436a"
   },
   "outputs": [
    {
     "name": "stdout",
     "output_type": "stream",
     "text": [
      "Iteration: 0\n",
      "{'Cuisine preferences': 'South Indian', 'Dietary restrictions': 'Vegan-friendly', 'Location': 'Innespeta'}\n",
      "--------------------------------------------------\n",
      "Iteration: 1\n",
      "{'Cuisine preferences': 'South Indian', 'Dietary restrictions': 'Vegan-friendly', 'Location': 'Innespeta'}\n",
      "--------------------------------------------------\n",
      "Iteration: 2\n",
      "{'Cuisine preferences': 'South Indian', 'Dietary restrictions': 'Vegan-friendly', 'Location': 'Innespeta'}\n",
      "--------------------------------------------------\n",
      "Iteration: 3\n",
      "{'Cuisine preferences': 'South Indian', 'Dietary restrictions': 'Vegan-friendly', 'Location': 'Innespeta'}\n",
      "--------------------------------------------------\n",
      "Iteration: 4\n",
      "{'Cuisine preferences': 'South Indian', 'Dietary restrictions': 'Vegan-friendly', 'Location': 'Innespeta'}\n",
      "--------------------------------------------------\n",
      "Iteration: 5\n",
      "{'Cuisine preferences': 'South Indian', 'Dietary restrictions': 'Vegan-friendly', 'Location': 'Innespeta'}\n",
      "--------------------------------------------------\n"
     ]
    }
   ],
   "source": [
    "# Check for LLM function's consistency\n",
    "iterate_llm_response(dictionary_present, debug_response_assistant_n)"
   ]
  },
  {
   "cell_type": "code",
   "execution_count": 129,
   "metadata": {
    "colab": {
     "base_uri": "https://localhost:8080/"
    },
    "executionInfo": {
     "elapsed": 10,
     "status": "ok",
     "timestamp": 1733087083336,
     "user": {
      "displayName": "v uma hyndavi",
      "userId": "16917374239320310048"
     },
     "user_tz": -330
    },
    "id": "nL1W4rsJngPX",
    "outputId": "f687f2f1-cef4-4246-af9f-17b6c6418a0c"
   },
   "outputs": [
    {
     "data": {
      "text/plain": [
       "[{'role': 'system',\n",
       "  'content': '\\n    You are a helpful and knowledgeable restaurant recommendation assistant. Your role is to guide users in finding restaurants based on their preferences,\\n    such as cuisine, location, dietary restrictions. Be friendly, engaging, and concise while offering clear and accurate suggestions. Always prioritize user input and provide relevant follow-up questions if their request lacks details.\\n\\n    Your final objective is to fill the values for the different keys (\\'Cuisine preferences\\', \\'Dietary restrictions\\', \\'Location\\') in the Python dictionary and be confident of the values.\\n    These key-value pairs define the user\\'s profile. The Python dictionary looks like this:\\n    {\\'Cuisine preferences\\': \\'values\\', \\'Dietary restrictions\\': \\'values\\', \\'Location\\': \\'values\\'}\\n\\n    All the values in the example dictionary are only representative values.\\n\\n    ####\\n    Here are some instructions around the values for the different keys. If you do not follow this, you\\'ll be heavily penalized:\\n    - To fill the cuisine preferences value, ask the user to choose one from [\\'South Indian\\', \\'North Indian\\', \\'Chinese\\', \\'Continental\\', \\'Italian\\', \\'Andhra Cuisine\\'].\\n    - To fill the Location value, ask the user to choose one from [\\'Katheru\\', \\'Innespeta\\', \\'Morampudi\\', \\'Aryapuram\\', \\'Danavai Peta\\', \\'Alcot Gardens\\', \\'Syamalamba Temple Road\\', \\'Tilak Road\\', \\'Tadepalli\\'].\\n    - To fill Dietary Restrictions value, first ask the user whether they have any dietary restrictions. If not, take it as \\'No restrictions\\'. If yes, ask the user to select their dietary restriction from \\'Vegan-friendly\\', \\'Vegetarian-friendly\\', \\'Gluten-free options\\'.\\n    - The values need to be inferred from the user\\'s response.\\n    ####\\n\\n\\n    To fill the dictionary, you need to have the following chain of thoughts:\\n    Thought 1: Ask a question to understand the user\\'s requirements.\\n    If their preferred cuisine preferences, dietary restrictions, or location is unclear, ask follow-up questions to understand their needs.\\n    You are trying to fill the values of all the keys { \\'Cuisine Preferences\\', \\'Dietary Restrictions\\', \\'Location\\' } in the Python dictionary by understanding the user\\'s requirements.\\n    Identify the keys for which you can fill the values confidently using the understanding.\\n    Remember the instructions around the values for the different keys.\\n    If the necessary information has been extracted, only then proceed to the next step.\\n    Otherwise, rephrase the question to capture their profile clearly.\\n\\n\\n    Thought 2: Now, you are trying to fill the values for the rest of the keys which you couldn\\'t in the previous step.\\n    Remember the instructions around the values for the different keys.\\n    Ask questions you might have for all the keys to strengthen your understanding of the user\\'s requirements.\\n    If yes, move to the next Thought. If no, ask questions on the keys whose values you are unsure of.\\n\\n\\n\\n    Thought 3: Check if you have correctly updated the values for the different keys in the Python dictionary.\\n    If you are not confident about any of the values, ask clarifying questions.\\n\\n\\n    ####\\n    Here is a sample conversation between the user and assistant:\\n    User: \"Hi, Show me Restaurants Nearby.\"\\n    Assistant: \"Sure! please choose your nearest location from [\\'Katheru\\', \\'Innespeta\\', \\'Morampudi\\', \\'Aryapuram\\', \\'Danavai Peta\\', \\'Alcot Gardens\\', \\'Syamalamba Temple Road\\', \\'Tilak Road\\', \\'Tadepalli\\']\".\\n    User: \"Innespeta\"\\n    Assistant: \"Sure, There are some good restaurants nearby. Please choose your Cuisine Preferences from [\\'South Indian\\', \\'North Indian\\', \\'Chinese\\', \\'Continental\\', \\'Italian\\', \\'Andhra Cuisine\\'].\"\\n    User: \"I primarily prefer South Indian.\"\\n    Assistant: \"Good Choice!, Do you have any dietary restrictions?. Please Choose from [\\'No restrictions\\', \\'Vegan-friendly\\', \\'Vegetarian-friendly\\', \\'Gluten-free options\\'].\"\\n    User: \"I prefer Vegan friendly food.\"\\n    Assistant: \"Thank you for providing that information. {\\'Cuisine preferences\\': \\'South Indian\\', \\'Dietary restrictions\\': \\'Vegan-friendly\\', \\'Location\\': \\'Innespeta\\'}\"\\n\\n    ####\\n\\n    ####\\n    Here is a sample conversation between the user and assistant:\\n    User: \"Hi, Show me some Vegan friendly Restaurants Nearby.\"\\n    Assistant: \"Sure! Thanks for Specifying your dietary restrictions as Vegan-friendly .Now, Please choose your nearest location from [\\'Katheru\\', \\'Innespeta\\', \\'Morampudi\\', \\'Aryapuram\\', \\'Danavai Peta\\', \\'Alcot Gardens\\', \\'Syamalamba Temple Road\\', \\'Tilak Road\\', \\'Tadepalli\\']\".{\\'Cuisine preferences\\': \\'_\\', \\'Dietary restrictions\\': \\'Vegan-friendly\\', \\'Location\\': \\'_\\'}\\n    User: \"Innespeta\"\\n    Assistant: \"Sure, There are some good restaurants nearby. Please choose your Cuisine Preferences from [\\'South Indian\\', \\'North Indian\\', \\'Chinese\\', \\'Continental\\', \\'Italian\\', \\'Andhra Cuisine\\']. {\\'Cuisine preferences\\': \\'_\\', \\'Dietary restrictions\\': \\'Vegan-friendly\\', \\'Location\\': \\'Innespeta\\'}\\n    User: \"I primarily prefer Vegan friendly food.\"\\n    Assistant: \"Sure noted that, could you please provide your cuisine preference from [\\'South Indian\\', \\'North Indian\\', \\'Chinese\\', \\'Continental\\', \\'Italian\\', \\'Andhra Cuisine\\']\"\\n    User: \"sure, I prefer South Indian.\"\\n    Assistant: \"Thank you for providing that information. {\\'Cuisine preferences\\': \\'South Indian\\', \\'Dietary restrictions\\': \\'Vegan-friendly\\', \\'Location\\': \\'Innespeta\\'}\"\\n\\n    ####\\n    Start with a short welcome message and encourage the user to share their requirements.\\n    '},\n",
       " {'role': 'user', 'content': 'Hi, show me nearby vegetarian restaurants'},\n",
       " {'role': 'assistant',\n",
       "  'content': 'Sure! Do you have any specific location in mind for these vegetarian restaurants?'}]"
      ]
     },
     "execution_count": 129,
     "metadata": {},
     "output_type": "execute_result"
    }
   ],
   "source": [
    "debug_conversation"
   ]
  },
  {
   "cell_type": "code",
   "execution_count": 130,
   "metadata": {
    "colab": {
     "base_uri": "https://localhost:8080/"
    },
    "executionInfo": {
     "elapsed": 2773,
     "status": "ok",
     "timestamp": 1733087086103,
     "user": {
      "displayName": "v uma hyndavi",
      "userId": "16917374239320310048"
     },
     "user_tz": -330
    },
    "id": "BxHVf-g_nmlJ",
    "outputId": "2932131d-87ae-4d00-eccf-3e611a25f60e"
   },
   "outputs": [
    {
     "name": "stdout",
     "output_type": "stream",
     "text": [
      "Sure! Thanks for specifying your dietary restrictions as Vegetarian-friendly. Now, please choose your nearest location from ['Katheru', 'Innespeta', 'Morampudi', 'Aryapuram', 'Danavai Peta', 'Alcot Gardens', 'Syamalamba Temple Road', 'Tilak Road', 'Tadepalli']. {'Cuisine preferences': '_', 'Dietary restrictions': 'Vegetarian-friendly', 'Location': '_'}\n",
      "No\n",
      "Great choice! Innespeta is a nice location. Please choose your Cuisine Preferences from ['South Indian', 'North Indian', 'Chinese', 'Continental', 'Italian', 'Andhra Cuisine']. \n"
     ]
    }
   ],
   "source": [
    "debug_conversation = initialize_conversation() # load up the system message\n",
    "debug_user_input = \"Hi, Show me some Vegetarian Restaurants.\" # pass the user input\n",
    "debug_moderation = moderation_check(debug_user_input) #check for moderation\n",
    "if debug_moderation == \"Not Flagged\":\n",
    "  debug_conversation.append({\"role\": \"user\", \"content\": debug_user_input}) #stored in the memory\n",
    "  debug_response_assistant = get_chat_completions(debug_conversation)\n",
    "  print(debug_response_assistant)\n",
    "  debug_conversation.append({\"role\": \"assistant\", \"content\": debug_response_assistant})\n",
    "  debug_confirmation = intent_confirmation_layer(debug_response_assistant) #stored in the memory\n",
    "  print(debug_confirmation['result'])\n",
    "  if debug_confirmation['result']==\"No\":\n",
    "    debug_user_input2 = \"Yes, my dietary restriction is vegetarian friendly. I choose Innespeta\" # pass the user input\n",
    "    debug_moderation = moderation_check(debug_user_input2) #check for moderation\n",
    "    if debug_moderation == \"Not Flagged\":\n",
    "        debug_conversation.append({\"role\": \"user\", \"content\": debug_user_input2}) #stored in the memory\n",
    "        debug_response_assistant = get_chat_completions(debug_conversation)\n",
    "        print(debug_response_assistant)"
   ]
  },
  {
   "cell_type": "code",
   "execution_count": 131,
   "metadata": {
    "colab": {
     "base_uri": "https://localhost:8080/"
    },
    "executionInfo": {
     "elapsed": 2283,
     "status": "ok",
     "timestamp": 1733087088382,
     "user": {
      "displayName": "v uma hyndavi",
      "userId": "16917374239320310048"
     },
     "user_tz": -330
    },
    "id": "cgXHUzyZoLIF",
    "outputId": "902980d5-a721-45e7-8fe0-e2398bca83c7"
   },
   "outputs": [
    {
     "name": "stdout",
     "output_type": "stream",
     "text": [
      "{'Cuisine preferences': 'South Indian', 'Dietary restrictions': 'Vegan-friendly', 'Location': 'Innespeta'}\n"
     ]
    }
   ],
   "source": [
    "debug_conversation = initialize_conversation()\n",
    "debug_user_input = \"Hi, show me nearby restaurants.\"\n",
    "debug_moderation = moderation_check(debug_user_input)\n",
    "debug_conversation.append({\"role\": \"user\", \"content\": debug_user_input})\n",
    "debug_response_assistant = get_chat_completions(debug_conversation)\n",
    "debug_moderation = moderation_check(debug_response_assistant)\n",
    "debug_conversation.append({\"role\": \"assistant\", \"content\": debug_response_assistant})\n",
    "debug_confirmation = intent_confirmation_layer(debug_response_assistant)\n",
    "# After a series of conversation...\n",
    "response_dict_n = dictionary_present(debug_response_assistant_n)\n",
    "print(response_dict_n)"
   ]
  },
  {
   "cell_type": "code",
   "execution_count": 132,
   "metadata": {
    "colab": {
     "base_uri": "https://localhost:8080/"
    },
    "executionInfo": {
     "elapsed": 8,
     "status": "ok",
     "timestamp": 1733087088382,
     "user": {
      "displayName": "v uma hyndavi",
      "userId": "16917374239320310048"
     },
     "user_tz": -330
    },
    "id": "GSrXemekrc7O",
    "outputId": "012e7f5e-9b08-4bc6-e05f-b6c3648cf925"
   },
   "outputs": [
    {
     "name": "stdout",
     "output_type": "stream",
     "text": [
      "True\n",
      "{'Cuisine preferences': 'South Indian', 'Dietary restrictions': 'Vegan-friendly', 'Location': 'Innespeta'}\n"
     ]
    }
   ],
   "source": [
    "print(response_dict_n == {'Cuisine preferences': 'South Indian', 'Dietary restrictions': 'Vegan-friendly', 'Location': 'Innespeta'})\n",
    "print(response_dict_n)"
   ]
  },
  {
   "cell_type": "markdown",
   "metadata": {
    "id": "AgO2Qwtd5EXG"
   },
   "source": [
    "# Stage 2"
   ]
  },
  {
   "cell_type": "code",
   "execution_count": 133,
   "metadata": {
    "executionInfo": {
     "elapsed": 7,
     "status": "ok",
     "timestamp": 1733087088383,
     "user": {
      "displayName": "v uma hyndavi",
      "userId": "16917374239320310048"
     },
     "user_tz": -330
    },
    "id": "hmxze1v8cssr"
   },
   "outputs": [],
   "source": [
    "# This function maps each restaurant to its restaurant specifications in a dictionary format, just by raking user review as input\n",
    "def restaurant_specs_map_layer(user_review):\n",
    "    delimiter = \"#####\"\n",
    "    Dietary_Restrictions = [\"No restrictions\", \"Vegan-friendly\", \"Vegetarian-friendly\", \"Gluten-free options\"]\n",
    "    Cuisine_Preferences = [\"South Indian\", \"North Indian\", \"Chinese\", \"Continental\", \"Italian\", \"Andhra Cuisine\"]\n",
    "    Restaurant_Locations = [\"Katheru\", \"Innespeta\", \"Morampudi\", \"Aryapuram\", \"Danavai Peta\", \"Alcot Gardens\",\n",
    "                            \"Syamalamba Temple Road\", \"Tilak Road\", \"Tadepalli\"]\n",
    "\n",
    "    restaurant_specs = {\n",
    "        \"Cuisine preferences\":\"(Cuisine of that restaurant)\",\n",
    "        \"Dietary restrictions\":\"(Dietary restrictions of the restaurant)\",\n",
    "        \"Location\":\"(restaurant location)\"\n",
    "    }\n",
    "\n",
    "    prompt=f\"\"\"\n",
    "    You are a Restaurant Specifications Classifier whose job is to extract the key specifications of restaurants and classify them as per their requirements.\n",
    "    To analyze each restaurant specification, perform the following steps:\n",
    "    Step 1: Extract the restaurant primary specifications from the user review {user_review}\n",
    "    Step 2: Store the extracted specifications in {restaurant_specs} \\\n",
    "    Step 3: Classify each of the items in {restaurant_specs} based on the following rules: \\\n",
    "    {delimiter}\n",
    "    Cuisine preferences: value must be one from {Cuisine_Preferences}\n",
    "    Dietary restrictions: value mist be one from {Dietary_Restrictions}\n",
    "    Location: value must be one from {Restaurant_Locations}\n",
    "\n",
    "    {delimiter}\n",
    "\n",
    "    {delimiter}\n",
    "    Here is input output pair for few-shot learning:\n",
    "    input 1: \"I had a great time at Ravi's Kitchen in Aryapuram! They offer amazing Chinese dishes, perfect for anyone looking for no restrictions options.\"\n",
    "    output 1: {{'Cuisine preferences': 'Chinese','Dietary restrictions':'No restrictions','Location':'Aryapuram'}}\n",
    "\n",
    "    {delimiter}    \"\"\"\n",
    "    input = f\"\"\"Follow the above instructions step-by-step and output the dictionary in JSON format {restaurant_specs} for the following restaurant {user_review}.\"\"\"\n",
    "    #see that we are using the Completion endpoint and not the Chatcompletion endpoint\n",
    "    messages=[{\"role\": \"system\", \"content\":prompt },{\"role\": \"user\",\"content\":input}]\n",
    "\n",
    "    response = get_chat_completions(messages, json_format = True)\n",
    "\n",
    "    return response"
   ]
  },
  {
   "cell_type": "code",
   "execution_count": 134,
   "metadata": {
    "colab": {
     "base_uri": "https://localhost:8080/"
    },
    "executionInfo": {
     "elapsed": 1068,
     "status": "ok",
     "timestamp": 1733087089444,
     "user": {
      "displayName": "v uma hyndavi",
      "userId": "16917374239320310048"
     },
     "user_tz": -330
    },
    "id": "e5WvpeXEhB8M",
    "outputId": "548be792-9aa8-4cdf-c8e7-8542a854588d"
   },
   "outputs": [
    {
     "data": {
      "text/plain": [
       "{'Cuisine preferences': 'South Indian',\n",
       " 'Dietary restrictions': 'Vegan-friendly',\n",
       " 'Location': 'Innespeta'}"
      ]
     },
     "execution_count": 134,
     "metadata": {},
     "output_type": "execute_result"
    }
   ],
   "source": [
    "restaurant_user_review_1 = \"Sri Sai Akshaya is the go-to place in Innespeta for South Indian. They also cater to those needing vegan-friendly meals. Loved my experience!\"\n",
    "restaurant_specs_map_layer(restaurant_user_review_1)"
   ]
  },
  {
   "cell_type": "code",
   "execution_count": 135,
   "metadata": {
    "colab": {
     "base_uri": "https://localhost:8080/",
     "height": 1000
    },
    "executionInfo": {
     "elapsed": 17064,
     "status": "ok",
     "timestamp": 1733087106504,
     "user": {
      "displayName": "v uma hyndavi",
      "userId": "16917374239320310048"
     },
     "user_tz": -330
    },
    "id": "f8h_LrI-hxgo",
    "outputId": "3ed034a1-4ed2-477f-8e5f-efb9649df8b1"
   },
   "outputs": [
    {
     "data": {
      "application/vnd.google.colaboratory.intrinsic+json": {
       "summary": "{\n  \"name\": \"df\",\n  \"rows\": 30,\n  \"fields\": [\n    {\n      \"column\": \"Restaurant Name\",\n      \"properties\": {\n        \"dtype\": \"string\",\n        \"num_unique_values\": 30,\n        \"samples\": [\n          \"Ksheera Sagara\",\n          \"Sri Venkateswara Tiffins\",\n          \"Green Park Dining\"\n        ],\n        \"semantic_type\": \"\",\n        \"description\": \"\"\n      }\n    },\n    {\n      \"column\": \"Cuisine Preferences\",\n      \"properties\": {\n        \"dtype\": \"category\",\n        \"num_unique_values\": 6,\n        \"samples\": [\n          \"South Indian\",\n          \"North Indian\",\n          \"Andhra Cuisine\"\n        ],\n        \"semantic_type\": \"\",\n        \"description\": \"\"\n      }\n    },\n    {\n      \"column\": \"Dietary Restrictions\",\n      \"properties\": {\n        \"dtype\": \"category\",\n        \"num_unique_values\": 4,\n        \"samples\": [\n          \"Gluten-free options\",\n          \"Vegetarian-friendly\",\n          \"Vegan-friendly\"\n        ],\n        \"semantic_type\": \"\",\n        \"description\": \"\"\n      }\n    },\n    {\n      \"column\": \"Location\",\n      \"properties\": {\n        \"dtype\": \"category\",\n        \"num_unique_values\": 9,\n        \"samples\": [\n          \"Tilak Road\",\n          \"Morampudi\",\n          \"Katheru\"\n        ],\n        \"semantic_type\": \"\",\n        \"description\": \"\"\n      }\n    },\n    {\n      \"column\": \"User Reviews\",\n      \"properties\": {\n        \"dtype\": \"string\",\n        \"num_unique_values\": 30,\n        \"samples\": [\n          \"Craving Chinese in Tilak Road? Check out Ksheera Sagara! They have fantastic options, especially if you're into vegetarian-friendly dining.\",\n          \"Sri Venkateswara Tiffins in Katheru is fantastic! Their focus on South Indian cuisine and no restrictions options makes them stand out. Highly recommend!\",\n          \"Craving Continental in Danavai Peta? Check out Green Park Dining! They have fantastic options, especially if you're into vegetarian-friendly dining.\"\n        ],\n        \"semantic_type\": \"\",\n        \"description\": \"\"\n      }\n    },\n    {\n      \"column\": \"restaurant Dictionary\",\n      \"properties\": {\n        \"dtype\": \"object\",\n        \"semantic_type\": \"\",\n        \"description\": \"\"\n      }\n    }\n  ]\n}",
       "type": "dataframe",
       "variable_name": "df"
      },
      "text/html": [
       "\n",
       "  <div id=\"df-f2acb55f-4c6b-4df0-8cef-79288f202159\" class=\"colab-df-container\">\n",
       "    <div>\n",
       "<style scoped>\n",
       "    .dataframe tbody tr th:only-of-type {\n",
       "        vertical-align: middle;\n",
       "    }\n",
       "\n",
       "    .dataframe tbody tr th {\n",
       "        vertical-align: top;\n",
       "    }\n",
       "\n",
       "    .dataframe thead th {\n",
       "        text-align: right;\n",
       "    }\n",
       "</style>\n",
       "<table border=\"1\" class=\"dataframe\">\n",
       "  <thead>\n",
       "    <tr style=\"text-align: right;\">\n",
       "      <th></th>\n",
       "      <th>Restaurant Name</th>\n",
       "      <th>Cuisine Preferences</th>\n",
       "      <th>Dietary Restrictions</th>\n",
       "      <th>Location</th>\n",
       "      <th>User Reviews</th>\n",
       "      <th>restaurant Dictionary</th>\n",
       "    </tr>\n",
       "  </thead>\n",
       "  <tbody>\n",
       "    <tr>\n",
       "      <th>0</th>\n",
       "      <td>Sri Sai Akshaya</td>\n",
       "      <td>South Indian</td>\n",
       "      <td>Vegan-friendly</td>\n",
       "      <td>Innespeta</td>\n",
       "      <td>Sri Sai Akshaya is the go-to place in Innespet...</td>\n",
       "      <td>{'Cuisine preferences': 'South Indian', 'Dieta...</td>\n",
       "    </tr>\n",
       "    <tr>\n",
       "      <th>1</th>\n",
       "      <td>Swagath Grand</td>\n",
       "      <td>North Indian</td>\n",
       "      <td>Gluten-free options</td>\n",
       "      <td>Morampudi</td>\n",
       "      <td>Swagath Grand is the go-to place in Morampudi ...</td>\n",
       "      <td>{'Cuisine preferences': 'North Indian', 'Dieta...</td>\n",
       "    </tr>\n",
       "    <tr>\n",
       "      <th>2</th>\n",
       "      <td>Ravi's Kitchen</td>\n",
       "      <td>Chinese</td>\n",
       "      <td>No restrictions</td>\n",
       "      <td>Aryapuram</td>\n",
       "      <td>I had a great time at Ravi's Kitchen in Aryapu...</td>\n",
       "      <td>{'Cuisine preferences': 'Chinese', 'Dietary re...</td>\n",
       "    </tr>\n",
       "    <tr>\n",
       "      <th>3</th>\n",
       "      <td>Hotel River Bay</td>\n",
       "      <td>Continental</td>\n",
       "      <td>Vegan-friendly</td>\n",
       "      <td>Danavai Peta</td>\n",
       "      <td>Hotel River Bay in Danavai Peta is fantastic! ...</td>\n",
       "      <td>{'Cuisine preferences': 'Continental', 'Dietar...</td>\n",
       "    </tr>\n",
       "    <tr>\n",
       "      <th>4</th>\n",
       "      <td>Masala Darbar</td>\n",
       "      <td>Italian</td>\n",
       "      <td>Vegetarian-friendly</td>\n",
       "      <td>Alcot Gardens</td>\n",
       "      <td>Visited Masala Darbar at Alcot Gardens, and I ...</td>\n",
       "      <td>{'Cuisine preferences': 'Italian', 'Dietary re...</td>\n",
       "    </tr>\n",
       "    <tr>\n",
       "      <th>5</th>\n",
       "      <td>Spicy Village</td>\n",
       "      <td>Andhra Cuisine</td>\n",
       "      <td>No restrictions</td>\n",
       "      <td>Katheru</td>\n",
       "      <td>Craving Andhra Cuisine in Katheru? Check out S...</td>\n",
       "      <td>{'Cuisine preferences': 'Andhra Cuisine', 'Die...</td>\n",
       "    </tr>\n",
       "    <tr>\n",
       "      <th>6</th>\n",
       "      <td>Subbayya Gari Hotel</td>\n",
       "      <td>South Indian</td>\n",
       "      <td>No restrictions</td>\n",
       "      <td>Syamalamba Temple Road</td>\n",
       "      <td>Visited Subbayya Gari Hotel at Syamalamba Temp...</td>\n",
       "      <td>{'Cuisine preferences': 'South Indian', 'Dieta...</td>\n",
       "    </tr>\n",
       "    <tr>\n",
       "      <th>7</th>\n",
       "      <td>Sri Kanya Comforts</td>\n",
       "      <td>North Indian</td>\n",
       "      <td>Vegan-friendly</td>\n",
       "      <td>Tilak Road</td>\n",
       "      <td>Sri Kanya Comforts in Tilak Road is fantastic!...</td>\n",
       "      <td>{'Cuisine preferences': 'North Indian', 'Dieta...</td>\n",
       "    </tr>\n",
       "    <tr>\n",
       "      <th>8</th>\n",
       "      <td>Udupi Bhavan</td>\n",
       "      <td>Chinese</td>\n",
       "      <td>Vegetarian-friendly</td>\n",
       "      <td>Tadepalli</td>\n",
       "      <td>Udupi Bhavan in Tadepalli is fantastic! Their ...</td>\n",
       "      <td>{'Cuisine preferences': 'Chinese', 'Dietary re...</td>\n",
       "    </tr>\n",
       "    <tr>\n",
       "      <th>9</th>\n",
       "      <td>Biryani Zone</td>\n",
       "      <td>Continental</td>\n",
       "      <td>Gluten-free options</td>\n",
       "      <td>Katheru</td>\n",
       "      <td>Craving Continental in Katheru? Check out Biry...</td>\n",
       "      <td>{'Cuisine preferences': 'Continental', 'Dietar...</td>\n",
       "    </tr>\n",
       "    <tr>\n",
       "      <th>10</th>\n",
       "      <td>Andhra Spice</td>\n",
       "      <td>South Indian</td>\n",
       "      <td>Vegan-friendly</td>\n",
       "      <td>Innespeta</td>\n",
       "      <td>I had a great time at Andhra Spice in Innespet...</td>\n",
       "      <td>{'Cuisine preferences': 'South Indian', 'Dieta...</td>\n",
       "    </tr>\n",
       "    <tr>\n",
       "      <th>11</th>\n",
       "      <td>Meghana Foods</td>\n",
       "      <td>North Indian</td>\n",
       "      <td>No restrictions</td>\n",
       "      <td>Morampudi</td>\n",
       "      <td>Meghana Foods in Morampudi is fantastic! Their...</td>\n",
       "      <td>{'Cuisine preferences': 'North Indian', 'Dieta...</td>\n",
       "    </tr>\n",
       "    <tr>\n",
       "      <th>12</th>\n",
       "      <td>Golden Pavilion</td>\n",
       "      <td>Chinese</td>\n",
       "      <td>Vegan-friendly</td>\n",
       "      <td>Aryapuram</td>\n",
       "      <td>Craving Chinese in Aryapuram? Check out Golden...</td>\n",
       "      <td>{'Cuisine preferences': 'Chinese', 'Dietary re...</td>\n",
       "    </tr>\n",
       "    <tr>\n",
       "      <th>13</th>\n",
       "      <td>Pizza Den</td>\n",
       "      <td>Italian</td>\n",
       "      <td>No restrictions</td>\n",
       "      <td>Danavai Peta</td>\n",
       "      <td>Craving Italian in Danavai Peta? Check out Piz...</td>\n",
       "      <td>{'Cuisine preferences': 'Italian', 'Dietary re...</td>\n",
       "    </tr>\n",
       "    <tr>\n",
       "      <th>14</th>\n",
       "      <td>Dakshin Grand</td>\n",
       "      <td>Andhra Cuisine</td>\n",
       "      <td>Vegetarian-friendly</td>\n",
       "      <td>Alcot Gardens</td>\n",
       "      <td>Visited Dakshin Grand at Alcot Gardens, and I ...</td>\n",
       "      <td>{'Cuisine preferences': 'Andhra Cuisine', 'Die...</td>\n",
       "    </tr>\n",
       "    <tr>\n",
       "      <th>15</th>\n",
       "      <td>Sri Venkateswara Tiffins</td>\n",
       "      <td>South Indian</td>\n",
       "      <td>No restrictions</td>\n",
       "      <td>Katheru</td>\n",
       "      <td>Sri Venkateswara Tiffins in Katheru is fantast...</td>\n",
       "      <td>{'Cuisine preferences': 'South Indian', 'Dieta...</td>\n",
       "    </tr>\n",
       "    <tr>\n",
       "      <th>16</th>\n",
       "      <td>Kinnera Restaurant</td>\n",
       "      <td>North Indian</td>\n",
       "      <td>Vegan-friendly</td>\n",
       "      <td>Syamalamba Temple Road</td>\n",
       "      <td>I had a great time at Kinnera Restaurant in Sy...</td>\n",
       "      <td>{'Cuisine preferences': 'North Indian', 'Dieta...</td>\n",
       "    </tr>\n",
       "    <tr>\n",
       "      <th>17</th>\n",
       "      <td>Tasty Treats</td>\n",
       "      <td>Chinese</td>\n",
       "      <td>Gluten-free options</td>\n",
       "      <td>Tilak Road</td>\n",
       "      <td>Tasty Treats in Tilak Road is fantastic! Their...</td>\n",
       "      <td>{'Cuisine preferences': 'Chinese', 'Dietary re...</td>\n",
       "    </tr>\n",
       "    <tr>\n",
       "      <th>18</th>\n",
       "      <td>Haveli Multicuisine</td>\n",
       "      <td>Continental</td>\n",
       "      <td>No restrictions</td>\n",
       "      <td>Tadepalli</td>\n",
       "      <td>Visited Haveli Multicuisine at Tadepalli, and ...</td>\n",
       "      <td>{'Cuisine preferences': 'Continental', 'Dietar...</td>\n",
       "    </tr>\n",
       "    <tr>\n",
       "      <th>19</th>\n",
       "      <td>Flavours of Andhra</td>\n",
       "      <td>Italian</td>\n",
       "      <td>Vegan-friendly</td>\n",
       "      <td>Katheru</td>\n",
       "      <td>I had a great time at Flavours of Andhra in Ka...</td>\n",
       "      <td>{'Cuisine preferences': 'Italian', 'Dietary re...</td>\n",
       "    </tr>\n",
       "    <tr>\n",
       "      <th>20</th>\n",
       "      <td>Bamboo Veg</td>\n",
       "      <td>South Indian</td>\n",
       "      <td>Vegetarian-friendly</td>\n",
       "      <td>Innespeta</td>\n",
       "      <td>I had a great time at Bamboo Veg in Innespeta!...</td>\n",
       "      <td>{'Cuisine preferences': 'South Indian', 'Dieta...</td>\n",
       "    </tr>\n",
       "    <tr>\n",
       "      <th>21</th>\n",
       "      <td>Rajahmundry Rasoi</td>\n",
       "      <td>North Indian</td>\n",
       "      <td>Gluten-free options</td>\n",
       "      <td>Morampudi</td>\n",
       "      <td>Rajahmundry Rasoi in Morampudi is fantastic! T...</td>\n",
       "      <td>{'Cuisine preferences': 'North Indian', 'Dieta...</td>\n",
       "    </tr>\n",
       "    <tr>\n",
       "      <th>22</th>\n",
       "      <td>China Town</td>\n",
       "      <td>Chinese</td>\n",
       "      <td>No restrictions</td>\n",
       "      <td>Aryapuram</td>\n",
       "      <td>China Town in Aryapuram is fantastic! Their fo...</td>\n",
       "      <td>{'Cuisine preferences': 'Chinese', 'Dietary re...</td>\n",
       "    </tr>\n",
       "    <tr>\n",
       "      <th>23</th>\n",
       "      <td>Green Park Dining</td>\n",
       "      <td>Continental</td>\n",
       "      <td>Vegetarian-friendly</td>\n",
       "      <td>Danavai Peta</td>\n",
       "      <td>Craving Continental in Danavai Peta? Check out...</td>\n",
       "      <td>{'Cuisine preferences': 'Continental', 'Dietar...</td>\n",
       "    </tr>\n",
       "    <tr>\n",
       "      <th>24</th>\n",
       "      <td>Ruchi Mess</td>\n",
       "      <td>Andhra Cuisine</td>\n",
       "      <td>Vegan-friendly</td>\n",
       "      <td>Alcot Gardens</td>\n",
       "      <td>Craving Andhra Cuisine in Alcot Gardens? Check...</td>\n",
       "      <td>{'Cuisine preferences': 'Andhra Cuisine', 'Die...</td>\n",
       "    </tr>\n",
       "    <tr>\n",
       "      <th>25</th>\n",
       "      <td>Vijaya Durga Meals</td>\n",
       "      <td>South Indian</td>\n",
       "      <td>No restrictions</td>\n",
       "      <td>Katheru</td>\n",
       "      <td>Vijaya Durga Meals in Katheru is fantastic! Th...</td>\n",
       "      <td>{'Cuisine preferences': 'South Indian', 'Dieta...</td>\n",
       "    </tr>\n",
       "    <tr>\n",
       "      <th>26</th>\n",
       "      <td>Annapurna Veg</td>\n",
       "      <td>North Indian</td>\n",
       "      <td>Vegetarian-friendly</td>\n",
       "      <td>Syamalamba Temple Road</td>\n",
       "      <td>Annapurna Veg is the go-to place in Syamalamba...</td>\n",
       "      <td>{'Cuisine preferences': 'North Indian', 'Dieta...</td>\n",
       "    </tr>\n",
       "    <tr>\n",
       "      <th>27</th>\n",
       "      <td>Ksheera Sagara</td>\n",
       "      <td>Chinese</td>\n",
       "      <td>Vegetarian-friendly</td>\n",
       "      <td>Tilak Road</td>\n",
       "      <td>Craving Chinese in Tilak Road? Check out Kshee...</td>\n",
       "      <td>{'Cuisine preferences': 'Chinese', 'Dietary re...</td>\n",
       "    </tr>\n",
       "    <tr>\n",
       "      <th>28</th>\n",
       "      <td>Southern Spice</td>\n",
       "      <td>Continental</td>\n",
       "      <td>No restrictions</td>\n",
       "      <td>Tadepalli</td>\n",
       "      <td>Craving Continental in Tadepalli? Check out So...</td>\n",
       "      <td>{'Cuisine preferences': 'Continental', 'Dietar...</td>\n",
       "    </tr>\n",
       "    <tr>\n",
       "      <th>29</th>\n",
       "      <td>Delight Family Restaurant</td>\n",
       "      <td>Italian</td>\n",
       "      <td>Vegetarian-friendly</td>\n",
       "      <td>Katheru</td>\n",
       "      <td>Visited Delight Family Restaurant at Katheru, ...</td>\n",
       "      <td>{'Cuisine preferences': 'Italian', 'Dietary re...</td>\n",
       "    </tr>\n",
       "  </tbody>\n",
       "</table>\n",
       "</div>\n",
       "    <div class=\"colab-df-buttons\">\n",
       "\n",
       "  <div class=\"colab-df-container\">\n",
       "    <button class=\"colab-df-convert\" onclick=\"convertToInteractive('df-f2acb55f-4c6b-4df0-8cef-79288f202159')\"\n",
       "            title=\"Convert this dataframe to an interactive table.\"\n",
       "            style=\"display:none;\">\n",
       "\n",
       "  <svg xmlns=\"http://www.w3.org/2000/svg\" height=\"24px\" viewBox=\"0 -960 960 960\">\n",
       "    <path d=\"M120-120v-720h720v720H120Zm60-500h600v-160H180v160Zm220 220h160v-160H400v160Zm0 220h160v-160H400v160ZM180-400h160v-160H180v160Zm440 0h160v-160H620v160ZM180-180h160v-160H180v160Zm440 0h160v-160H620v160Z\"/>\n",
       "  </svg>\n",
       "    </button>\n",
       "\n",
       "  <style>\n",
       "    .colab-df-container {\n",
       "      display:flex;\n",
       "      gap: 12px;\n",
       "    }\n",
       "\n",
       "    .colab-df-convert {\n",
       "      background-color: #E8F0FE;\n",
       "      border: none;\n",
       "      border-radius: 50%;\n",
       "      cursor: pointer;\n",
       "      display: none;\n",
       "      fill: #1967D2;\n",
       "      height: 32px;\n",
       "      padding: 0 0 0 0;\n",
       "      width: 32px;\n",
       "    }\n",
       "\n",
       "    .colab-df-convert:hover {\n",
       "      background-color: #E2EBFA;\n",
       "      box-shadow: 0px 1px 2px rgba(60, 64, 67, 0.3), 0px 1px 3px 1px rgba(60, 64, 67, 0.15);\n",
       "      fill: #174EA6;\n",
       "    }\n",
       "\n",
       "    .colab-df-buttons div {\n",
       "      margin-bottom: 4px;\n",
       "    }\n",
       "\n",
       "    [theme=dark] .colab-df-convert {\n",
       "      background-color: #3B4455;\n",
       "      fill: #D2E3FC;\n",
       "    }\n",
       "\n",
       "    [theme=dark] .colab-df-convert:hover {\n",
       "      background-color: #434B5C;\n",
       "      box-shadow: 0px 1px 3px 1px rgba(0, 0, 0, 0.15);\n",
       "      filter: drop-shadow(0px 1px 2px rgba(0, 0, 0, 0.3));\n",
       "      fill: #FFFFFF;\n",
       "    }\n",
       "  </style>\n",
       "\n",
       "    <script>\n",
       "      const buttonEl =\n",
       "        document.querySelector('#df-f2acb55f-4c6b-4df0-8cef-79288f202159 button.colab-df-convert');\n",
       "      buttonEl.style.display =\n",
       "        google.colab.kernel.accessAllowed ? 'block' : 'none';\n",
       "\n",
       "      async function convertToInteractive(key) {\n",
       "        const element = document.querySelector('#df-f2acb55f-4c6b-4df0-8cef-79288f202159');\n",
       "        const dataTable =\n",
       "          await google.colab.kernel.invokeFunction('convertToInteractive',\n",
       "                                                    [key], {});\n",
       "        if (!dataTable) return;\n",
       "\n",
       "        const docLinkHtml = 'Like what you see? Visit the ' +\n",
       "          '<a target=\"_blank\" href=https://colab.research.google.com/notebooks/data_table.ipynb>data table notebook</a>'\n",
       "          + ' to learn more about interactive tables.';\n",
       "        element.innerHTML = '';\n",
       "        dataTable['output_type'] = 'display_data';\n",
       "        await google.colab.output.renderOutput(dataTable, element);\n",
       "        const docLink = document.createElement('div');\n",
       "        docLink.innerHTML = docLinkHtml;\n",
       "        element.appendChild(docLink);\n",
       "      }\n",
       "    </script>\n",
       "  </div>\n",
       "\n",
       "\n",
       "<div id=\"df-a07f1359-e770-4d1c-aef9-e791be88e7d5\">\n",
       "  <button class=\"colab-df-quickchart\" onclick=\"quickchart('df-a07f1359-e770-4d1c-aef9-e791be88e7d5')\"\n",
       "            title=\"Suggest charts\"\n",
       "            style=\"display:none;\">\n",
       "\n",
       "<svg xmlns=\"http://www.w3.org/2000/svg\" height=\"24px\"viewBox=\"0 0 24 24\"\n",
       "     width=\"24px\">\n",
       "    <g>\n",
       "        <path d=\"M19 3H5c-1.1 0-2 .9-2 2v14c0 1.1.9 2 2 2h14c1.1 0 2-.9 2-2V5c0-1.1-.9-2-2-2zM9 17H7v-7h2v7zm4 0h-2V7h2v10zm4 0h-2v-4h2v4z\"/>\n",
       "    </g>\n",
       "</svg>\n",
       "  </button>\n",
       "\n",
       "<style>\n",
       "  .colab-df-quickchart {\n",
       "      --bg-color: #E8F0FE;\n",
       "      --fill-color: #1967D2;\n",
       "      --hover-bg-color: #E2EBFA;\n",
       "      --hover-fill-color: #174EA6;\n",
       "      --disabled-fill-color: #AAA;\n",
       "      --disabled-bg-color: #DDD;\n",
       "  }\n",
       "\n",
       "  [theme=dark] .colab-df-quickchart {\n",
       "      --bg-color: #3B4455;\n",
       "      --fill-color: #D2E3FC;\n",
       "      --hover-bg-color: #434B5C;\n",
       "      --hover-fill-color: #FFFFFF;\n",
       "      --disabled-bg-color: #3B4455;\n",
       "      --disabled-fill-color: #666;\n",
       "  }\n",
       "\n",
       "  .colab-df-quickchart {\n",
       "    background-color: var(--bg-color);\n",
       "    border: none;\n",
       "    border-radius: 50%;\n",
       "    cursor: pointer;\n",
       "    display: none;\n",
       "    fill: var(--fill-color);\n",
       "    height: 32px;\n",
       "    padding: 0;\n",
       "    width: 32px;\n",
       "  }\n",
       "\n",
       "  .colab-df-quickchart:hover {\n",
       "    background-color: var(--hover-bg-color);\n",
       "    box-shadow: 0 1px 2px rgba(60, 64, 67, 0.3), 0 1px 3px 1px rgba(60, 64, 67, 0.15);\n",
       "    fill: var(--button-hover-fill-color);\n",
       "  }\n",
       "\n",
       "  .colab-df-quickchart-complete:disabled,\n",
       "  .colab-df-quickchart-complete:disabled:hover {\n",
       "    background-color: var(--disabled-bg-color);\n",
       "    fill: var(--disabled-fill-color);\n",
       "    box-shadow: none;\n",
       "  }\n",
       "\n",
       "  .colab-df-spinner {\n",
       "    border: 2px solid var(--fill-color);\n",
       "    border-color: transparent;\n",
       "    border-bottom-color: var(--fill-color);\n",
       "    animation:\n",
       "      spin 1s steps(1) infinite;\n",
       "  }\n",
       "\n",
       "  @keyframes spin {\n",
       "    0% {\n",
       "      border-color: transparent;\n",
       "      border-bottom-color: var(--fill-color);\n",
       "      border-left-color: var(--fill-color);\n",
       "    }\n",
       "    20% {\n",
       "      border-color: transparent;\n",
       "      border-left-color: var(--fill-color);\n",
       "      border-top-color: var(--fill-color);\n",
       "    }\n",
       "    30% {\n",
       "      border-color: transparent;\n",
       "      border-left-color: var(--fill-color);\n",
       "      border-top-color: var(--fill-color);\n",
       "      border-right-color: var(--fill-color);\n",
       "    }\n",
       "    40% {\n",
       "      border-color: transparent;\n",
       "      border-right-color: var(--fill-color);\n",
       "      border-top-color: var(--fill-color);\n",
       "    }\n",
       "    60% {\n",
       "      border-color: transparent;\n",
       "      border-right-color: var(--fill-color);\n",
       "    }\n",
       "    80% {\n",
       "      border-color: transparent;\n",
       "      border-right-color: var(--fill-color);\n",
       "      border-bottom-color: var(--fill-color);\n",
       "    }\n",
       "    90% {\n",
       "      border-color: transparent;\n",
       "      border-bottom-color: var(--fill-color);\n",
       "    }\n",
       "  }\n",
       "</style>\n",
       "\n",
       "  <script>\n",
       "    async function quickchart(key) {\n",
       "      const quickchartButtonEl =\n",
       "        document.querySelector('#' + key + ' button');\n",
       "      quickchartButtonEl.disabled = true;  // To prevent multiple clicks.\n",
       "      quickchartButtonEl.classList.add('colab-df-spinner');\n",
       "      try {\n",
       "        const charts = await google.colab.kernel.invokeFunction(\n",
       "            'suggestCharts', [key], {});\n",
       "      } catch (error) {\n",
       "        console.error('Error during call to suggestCharts:', error);\n",
       "      }\n",
       "      quickchartButtonEl.classList.remove('colab-df-spinner');\n",
       "      quickchartButtonEl.classList.add('colab-df-quickchart-complete');\n",
       "    }\n",
       "    (() => {\n",
       "      let quickchartButtonEl =\n",
       "        document.querySelector('#df-a07f1359-e770-4d1c-aef9-e791be88e7d5 button');\n",
       "      quickchartButtonEl.style.display =\n",
       "        google.colab.kernel.accessAllowed ? 'block' : 'none';\n",
       "    })();\n",
       "  </script>\n",
       "</div>\n",
       "\n",
       "  <div id=\"id_4cbcf081-0b7a-4a50-babd-e2c7aaf31da5\">\n",
       "    <style>\n",
       "      .colab-df-generate {\n",
       "        background-color: #E8F0FE;\n",
       "        border: none;\n",
       "        border-radius: 50%;\n",
       "        cursor: pointer;\n",
       "        display: none;\n",
       "        fill: #1967D2;\n",
       "        height: 32px;\n",
       "        padding: 0 0 0 0;\n",
       "        width: 32px;\n",
       "      }\n",
       "\n",
       "      .colab-df-generate:hover {\n",
       "        background-color: #E2EBFA;\n",
       "        box-shadow: 0px 1px 2px rgba(60, 64, 67, 0.3), 0px 1px 3px 1px rgba(60, 64, 67, 0.15);\n",
       "        fill: #174EA6;\n",
       "      }\n",
       "\n",
       "      [theme=dark] .colab-df-generate {\n",
       "        background-color: #3B4455;\n",
       "        fill: #D2E3FC;\n",
       "      }\n",
       "\n",
       "      [theme=dark] .colab-df-generate:hover {\n",
       "        background-color: #434B5C;\n",
       "        box-shadow: 0px 1px 3px 1px rgba(0, 0, 0, 0.15);\n",
       "        filter: drop-shadow(0px 1px 2px rgba(0, 0, 0, 0.3));\n",
       "        fill: #FFFFFF;\n",
       "      }\n",
       "    </style>\n",
       "    <button class=\"colab-df-generate\" onclick=\"generateWithVariable('df')\"\n",
       "            title=\"Generate code using this dataframe.\"\n",
       "            style=\"display:none;\">\n",
       "\n",
       "  <svg xmlns=\"http://www.w3.org/2000/svg\" height=\"24px\"viewBox=\"0 0 24 24\"\n",
       "       width=\"24px\">\n",
       "    <path d=\"M7,19H8.4L18.45,9,17,7.55,7,17.6ZM5,21V16.75L18.45,3.32a2,2,0,0,1,2.83,0l1.4,1.43a1.91,1.91,0,0,1,.58,1.4,1.91,1.91,0,0,1-.58,1.4L9.25,21ZM18.45,9,17,7.55Zm-12,3A5.31,5.31,0,0,0,4.9,8.1,5.31,5.31,0,0,0,1,6.5,5.31,5.31,0,0,0,4.9,4.9,5.31,5.31,0,0,0,6.5,1,5.31,5.31,0,0,0,8.1,4.9,5.31,5.31,0,0,0,12,6.5,5.46,5.46,0,0,0,6.5,12Z\"/>\n",
       "  </svg>\n",
       "    </button>\n",
       "    <script>\n",
       "      (() => {\n",
       "      const buttonEl =\n",
       "        document.querySelector('#id_4cbcf081-0b7a-4a50-babd-e2c7aaf31da5 button.colab-df-generate');\n",
       "      buttonEl.style.display =\n",
       "        google.colab.kernel.accessAllowed ? 'block' : 'none';\n",
       "\n",
       "      buttonEl.onclick = () => {\n",
       "        google.colab.notebook.generateWithVariable('df');\n",
       "      }\n",
       "      })();\n",
       "    </script>\n",
       "  </div>\n",
       "\n",
       "    </div>\n",
       "  </div>\n"
      ],
      "text/plain": [
       "              Restaurant Name Cuisine Preferences Dietary Restrictions                Location  \\\n",
       "0             Sri Sai Akshaya        South Indian       Vegan-friendly               Innespeta   \n",
       "1               Swagath Grand        North Indian  Gluten-free options               Morampudi   \n",
       "2              Ravi's Kitchen             Chinese      No restrictions               Aryapuram   \n",
       "3             Hotel River Bay         Continental       Vegan-friendly            Danavai Peta   \n",
       "4               Masala Darbar             Italian  Vegetarian-friendly           Alcot Gardens   \n",
       "5               Spicy Village      Andhra Cuisine      No restrictions                 Katheru   \n",
       "6         Subbayya Gari Hotel        South Indian      No restrictions  Syamalamba Temple Road   \n",
       "7          Sri Kanya Comforts        North Indian       Vegan-friendly              Tilak Road   \n",
       "8                Udupi Bhavan             Chinese  Vegetarian-friendly               Tadepalli   \n",
       "9                Biryani Zone         Continental  Gluten-free options                 Katheru   \n",
       "10               Andhra Spice        South Indian       Vegan-friendly               Innespeta   \n",
       "11              Meghana Foods        North Indian      No restrictions               Morampudi   \n",
       "12            Golden Pavilion             Chinese       Vegan-friendly               Aryapuram   \n",
       "13                  Pizza Den             Italian      No restrictions            Danavai Peta   \n",
       "14              Dakshin Grand      Andhra Cuisine  Vegetarian-friendly           Alcot Gardens   \n",
       "15   Sri Venkateswara Tiffins        South Indian      No restrictions                 Katheru   \n",
       "16         Kinnera Restaurant        North Indian       Vegan-friendly  Syamalamba Temple Road   \n",
       "17               Tasty Treats             Chinese  Gluten-free options              Tilak Road   \n",
       "18        Haveli Multicuisine         Continental      No restrictions               Tadepalli   \n",
       "19         Flavours of Andhra             Italian       Vegan-friendly                 Katheru   \n",
       "20                 Bamboo Veg        South Indian  Vegetarian-friendly               Innespeta   \n",
       "21          Rajahmundry Rasoi        North Indian  Gluten-free options               Morampudi   \n",
       "22                 China Town             Chinese      No restrictions               Aryapuram   \n",
       "23          Green Park Dining         Continental  Vegetarian-friendly            Danavai Peta   \n",
       "24                 Ruchi Mess      Andhra Cuisine       Vegan-friendly           Alcot Gardens   \n",
       "25         Vijaya Durga Meals        South Indian      No restrictions                 Katheru   \n",
       "26              Annapurna Veg        North Indian  Vegetarian-friendly  Syamalamba Temple Road   \n",
       "27             Ksheera Sagara             Chinese  Vegetarian-friendly              Tilak Road   \n",
       "28             Southern Spice         Continental      No restrictions               Tadepalli   \n",
       "29  Delight Family Restaurant             Italian  Vegetarian-friendly                 Katheru   \n",
       "\n",
       "                                         User Reviews  \\\n",
       "0   Sri Sai Akshaya is the go-to place in Innespet...   \n",
       "1   Swagath Grand is the go-to place in Morampudi ...   \n",
       "2   I had a great time at Ravi's Kitchen in Aryapu...   \n",
       "3   Hotel River Bay in Danavai Peta is fantastic! ...   \n",
       "4   Visited Masala Darbar at Alcot Gardens, and I ...   \n",
       "5   Craving Andhra Cuisine in Katheru? Check out S...   \n",
       "6   Visited Subbayya Gari Hotel at Syamalamba Temp...   \n",
       "7   Sri Kanya Comforts in Tilak Road is fantastic!...   \n",
       "8   Udupi Bhavan in Tadepalli is fantastic! Their ...   \n",
       "9   Craving Continental in Katheru? Check out Biry...   \n",
       "10  I had a great time at Andhra Spice in Innespet...   \n",
       "11  Meghana Foods in Morampudi is fantastic! Their...   \n",
       "12  Craving Chinese in Aryapuram? Check out Golden...   \n",
       "13  Craving Italian in Danavai Peta? Check out Piz...   \n",
       "14  Visited Dakshin Grand at Alcot Gardens, and I ...   \n",
       "15  Sri Venkateswara Tiffins in Katheru is fantast...   \n",
       "16  I had a great time at Kinnera Restaurant in Sy...   \n",
       "17  Tasty Treats in Tilak Road is fantastic! Their...   \n",
       "18  Visited Haveli Multicuisine at Tadepalli, and ...   \n",
       "19  I had a great time at Flavours of Andhra in Ka...   \n",
       "20  I had a great time at Bamboo Veg in Innespeta!...   \n",
       "21  Rajahmundry Rasoi in Morampudi is fantastic! T...   \n",
       "22  China Town in Aryapuram is fantastic! Their fo...   \n",
       "23  Craving Continental in Danavai Peta? Check out...   \n",
       "24  Craving Andhra Cuisine in Alcot Gardens? Check...   \n",
       "25  Vijaya Durga Meals in Katheru is fantastic! Th...   \n",
       "26  Annapurna Veg is the go-to place in Syamalamba...   \n",
       "27  Craving Chinese in Tilak Road? Check out Kshee...   \n",
       "28  Craving Continental in Tadepalli? Check out So...   \n",
       "29  Visited Delight Family Restaurant at Katheru, ...   \n",
       "\n",
       "                                restaurant Dictionary  \n",
       "0   {'Cuisine preferences': 'South Indian', 'Dieta...  \n",
       "1   {'Cuisine preferences': 'North Indian', 'Dieta...  \n",
       "2   {'Cuisine preferences': 'Chinese', 'Dietary re...  \n",
       "3   {'Cuisine preferences': 'Continental', 'Dietar...  \n",
       "4   {'Cuisine preferences': 'Italian', 'Dietary re...  \n",
       "5   {'Cuisine preferences': 'Andhra Cuisine', 'Die...  \n",
       "6   {'Cuisine preferences': 'South Indian', 'Dieta...  \n",
       "7   {'Cuisine preferences': 'North Indian', 'Dieta...  \n",
       "8   {'Cuisine preferences': 'Chinese', 'Dietary re...  \n",
       "9   {'Cuisine preferences': 'Continental', 'Dietar...  \n",
       "10  {'Cuisine preferences': 'South Indian', 'Dieta...  \n",
       "11  {'Cuisine preferences': 'North Indian', 'Dieta...  \n",
       "12  {'Cuisine preferences': 'Chinese', 'Dietary re...  \n",
       "13  {'Cuisine preferences': 'Italian', 'Dietary re...  \n",
       "14  {'Cuisine preferences': 'Andhra Cuisine', 'Die...  \n",
       "15  {'Cuisine preferences': 'South Indian', 'Dieta...  \n",
       "16  {'Cuisine preferences': 'North Indian', 'Dieta...  \n",
       "17  {'Cuisine preferences': 'Chinese', 'Dietary re...  \n",
       "18  {'Cuisine preferences': 'Continental', 'Dietar...  \n",
       "19  {'Cuisine preferences': 'Italian', 'Dietary re...  \n",
       "20  {'Cuisine preferences': 'South Indian', 'Dieta...  \n",
       "21  {'Cuisine preferences': 'North Indian', 'Dieta...  \n",
       "22  {'Cuisine preferences': 'Chinese', 'Dietary re...  \n",
       "23  {'Cuisine preferences': 'Continental', 'Dietar...  \n",
       "24  {'Cuisine preferences': 'Andhra Cuisine', 'Die...  \n",
       "25  {'Cuisine preferences': 'South Indian', 'Dieta...  \n",
       "26  {'Cuisine preferences': 'North Indian', 'Dieta...  \n",
       "27  {'Cuisine preferences': 'Chinese', 'Dietary re...  \n",
       "28  {'Cuisine preferences': 'Continental', 'Dietar...  \n",
       "29  {'Cuisine preferences': 'Italian', 'Dietary re...  "
      ]
     },
     "execution_count": 135,
     "metadata": {},
     "output_type": "execute_result"
    }
   ],
   "source": [
    "# Applying restaurant_specs_map_layer to the dataset\n",
    "df['restaurant Dictionary'] = df['User Reviews'].apply(restaurant_specs_map_layer)\n",
    "df"
   ]
  },
  {
   "cell_type": "code",
   "execution_count": 136,
   "metadata": {
    "colab": {
     "base_uri": "https://localhost:8080/",
     "height": 241
    },
    "executionInfo": {
     "elapsed": 47,
     "status": "ok",
     "timestamp": 1733087106504,
     "user": {
      "displayName": "v uma hyndavi",
      "userId": "16917374239320310048"
     },
     "user_tz": -330
    },
    "id": "GhotutLvmImY",
    "outputId": "ccf34bdf-3289-42e1-f6aa-1380bc78fb10"
   },
   "outputs": [
    {
     "data": {
      "text/html": [
       "<div>\n",
       "<style scoped>\n",
       "    .dataframe tbody tr th:only-of-type {\n",
       "        vertical-align: middle;\n",
       "    }\n",
       "\n",
       "    .dataframe tbody tr th {\n",
       "        vertical-align: top;\n",
       "    }\n",
       "\n",
       "    .dataframe thead th {\n",
       "        text-align: right;\n",
       "    }\n",
       "</style>\n",
       "<table border=\"1\" class=\"dataframe\">\n",
       "  <thead>\n",
       "    <tr style=\"text-align: right;\">\n",
       "      <th></th>\n",
       "      <th>0</th>\n",
       "    </tr>\n",
       "  </thead>\n",
       "  <tbody>\n",
       "    <tr>\n",
       "      <th>Restaurant Name</th>\n",
       "      <td>Sri Sai Akshaya</td>\n",
       "    </tr>\n",
       "    <tr>\n",
       "      <th>Cuisine Preferences</th>\n",
       "      <td>South Indian</td>\n",
       "    </tr>\n",
       "    <tr>\n",
       "      <th>Dietary Restrictions</th>\n",
       "      <td>Vegan-friendly</td>\n",
       "    </tr>\n",
       "    <tr>\n",
       "      <th>Location</th>\n",
       "      <td>Innespeta</td>\n",
       "    </tr>\n",
       "    <tr>\n",
       "      <th>User Reviews</th>\n",
       "      <td>Sri Sai Akshaya is the go-to place in Innespet...</td>\n",
       "    </tr>\n",
       "  </tbody>\n",
       "</table>\n",
       "</div><br><label><b>dtype:</b> object</label>"
      ],
      "text/plain": [
       "Restaurant Name                                           Sri Sai Akshaya\n",
       "Cuisine Preferences                                          South Indian\n",
       "Dietary Restrictions                                       Vegan-friendly\n",
       "Location                                                        Innespeta\n",
       "User Reviews            Sri Sai Akshaya is the go-to place in Innespet...\n",
       "Name: 0, dtype: object"
      ]
     },
     "execution_count": 136,
     "metadata": {},
     "output_type": "execute_result"
    }
   ],
   "source": [
    "# to get all columns except restaurant dictionary column\n",
    "df.loc[0][:-1]"
   ]
  },
  {
   "cell_type": "code",
   "execution_count": 137,
   "metadata": {
    "colab": {
     "base_uri": "https://localhost:8080/"
    },
    "executionInfo": {
     "elapsed": 43,
     "status": "ok",
     "timestamp": 1733087106504,
     "user": {
      "displayName": "v uma hyndavi",
      "userId": "16917374239320310048"
     },
     "user_tz": -330
    },
    "id": "tI-fLYXska3w",
    "outputId": "daf4452c-03a3-4c8a-f568-1d786eea3c40"
   },
   "outputs": [
    {
     "data": {
      "text/plain": [
       "Index(['Restaurant Name', 'Cuisine Preferences', 'Dietary Restrictions', 'Location',\n",
       "       'User Reviews', 'restaurant Dictionary'],\n",
       "      dtype='object')"
      ]
     },
     "execution_count": 137,
     "metadata": {},
     "output_type": "execute_result"
    }
   ],
   "source": [
    "df.columns"
   ]
  },
  {
   "cell_type": "code",
   "execution_count": 138,
   "metadata": {
    "executionInfo": {
     "elapsed": 36,
     "status": "ok",
     "timestamp": 1733087106505,
     "user": {
      "displayName": "v uma hyndavi",
      "userId": "16917374239320310048"
     },
     "user_tz": -330
    },
    "id": "t5yha6rv1_nm"
   },
   "outputs": [],
   "source": [
    "# comparing restaurant specifications with the user's specificaitons and returns all matched restaurants. If no restaurants matched it returns empty [] list\n",
    "def compare_restaurant_specs_with_user(user_req_dict):\n",
    "    selected_restaurants = []  # a list to store all matches\n",
    "    for index, row in df.iterrows():\n",
    "        if row['restaurant Dictionary'] == user_req_dict:\n",
    "            selected_restaurants.append(dict(df.loc[index][:-1]))\n",
    "    return selected_restaurants  # Return the list of all matches\n"
   ]
  },
  {
   "cell_type": "code",
   "execution_count": 139,
   "metadata": {
    "colab": {
     "base_uri": "https://localhost:8080/"
    },
    "executionInfo": {
     "elapsed": 35,
     "status": "ok",
     "timestamp": 1733087106505,
     "user": {
      "displayName": "v uma hyndavi",
      "userId": "16917374239320310048"
     },
     "user_tz": -330
    },
    "id": "fxG2mzVoCjH7",
    "outputId": "b43421c3-bd18-4b3a-bde6-14b6b0f6ddb0"
   },
   "outputs": [
    {
     "data": {
      "text/plain": [
       "[{'Restaurant Name': 'Sri Sai Akshaya',\n",
       "  'Cuisine Preferences': 'South Indian',\n",
       "  'Dietary Restrictions': 'Vegan-friendly',\n",
       "  'Location': 'Innespeta',\n",
       "  'User Reviews': 'Sri Sai Akshaya is the go-to place in Innespeta for South Indian. They also cater to those needing vegan-friendly meals. Loved my experience!'},\n",
       " {'Restaurant Name': 'Andhra Spice',\n",
       "  'Cuisine Preferences': 'South Indian',\n",
       "  'Dietary Restrictions': 'Vegan-friendly',\n",
       "  'Location': 'Innespeta',\n",
       "  'User Reviews': 'I had a great time at Andhra Spice in Innespeta! They offer amazing South Indian dishes, perfect for anyone looking for vegan-friendly options.'}]"
      ]
     },
     "execution_count": 139,
     "metadata": {},
     "output_type": "execute_result"
    }
   ],
   "source": [
    "# this returns the list of matched restaurants each list element contains [restaurant name + cuisine+ deitary specification+ location+ user review]matched\n",
    "compare_restaurant_specs_with_user(response_dict_n)"
   ]
  },
  {
   "cell_type": "code",
   "execution_count": 140,
   "metadata": {
    "colab": {
     "base_uri": "https://localhost:8080/"
    },
    "executionInfo": {
     "elapsed": 30,
     "status": "ok",
     "timestamp": 1733087106505,
     "user": {
      "displayName": "v uma hyndavi",
      "userId": "16917374239320310048"
     },
     "user_tz": -330
    },
    "id": "ZKLoSx6Tnviy",
    "outputId": "29dc2c3c-bef9-42fe-e9b2-be91595e761e"
   },
   "outputs": [
    {
     "data": {
      "text/plain": [
       "[{'Restaurant Name': 'Sri Sai Akshaya',\n",
       "  'Cuisine Preferences': 'South Indian',\n",
       "  'Dietary Restrictions': 'Vegan-friendly',\n",
       "  'Location': 'Innespeta',\n",
       "  'User Reviews': 'Sri Sai Akshaya is the go-to place in Innespeta for South Indian. They also cater to those needing vegan-friendly meals. Loved my experience!'},\n",
       " {'Restaurant Name': 'Andhra Spice',\n",
       "  'Cuisine Preferences': 'South Indian',\n",
       "  'Dietary Restrictions': 'Vegan-friendly',\n",
       "  'Location': 'Innespeta',\n",
       "  'User Reviews': 'I had a great time at Andhra Spice in Innespeta! They offer amazing South Indian dishes, perfect for anyone looking for vegan-friendly options.'}]"
      ]
     },
     "execution_count": 140,
     "metadata": {},
     "output_type": "execute_result"
    }
   ],
   "source": [
    "# Matched Restaurants\n",
    "top_restaurants = compare_restaurant_specs_with_user(response_dict_n)\n",
    "top_restaurants"
   ]
  },
  {
   "cell_type": "markdown",
   "metadata": {
    "id": "uS5opAL5pN2n"
   },
   "source": [
    "## Product Validation Layer"
   ]
  },
  {
   "cell_type": "code",
   "execution_count": 141,
   "metadata": {
    "executionInfo": {
     "elapsed": 24,
     "status": "ok",
     "timestamp": 1733087106505,
     "user": {
      "displayName": "v uma hyndavi",
      "userId": "16917374239320310048"
     },
     "user_tz": -330
    },
    "id": "ywGRjS-rpTwN"
   },
   "outputs": [],
   "source": [
    "# This function will makes sure that recommended restaurants are not null.\n",
    "def recommendation_validation(restaurant_recommendation):\n",
    "  data = restaurant_recommendation\n",
    "  data1 = []\n",
    "  if len(data) != 0:\n",
    "    for i in range(len(data)):\n",
    "      data1.append(data[i])\n",
    "  return data1"
   ]
  },
  {
   "cell_type": "code",
   "execution_count": 142,
   "metadata": {
    "colab": {
     "base_uri": "https://localhost:8080/",
     "height": 243
    },
    "executionInfo": {
     "elapsed": 23,
     "status": "ok",
     "timestamp": 1733087106505,
     "user": {
      "displayName": "v uma hyndavi",
      "userId": "16917374239320310048"
     },
     "user_tz": -330
    },
    "id": "v9udh82VpsX-",
    "outputId": "79706341-a4cb-44a3-ae01-2b555a3f4e1c"
   },
   "outputs": [
    {
     "data": {
      "text/plain": [
       "[{'Restaurant Name': 'Sri Sai Akshaya',\n",
       "  'Cuisine Preferences': 'South Indian',\n",
       "  'Dietary Restrictions': 'Vegan-friendly',\n",
       "  'Location': 'Innespeta',\n",
       "  'User Reviews': 'Sri Sai Akshaya is the go-to place in Innespeta for South Indian. They also cater to those needing vegan-friendly meals. Loved my experience!'},\n",
       " {'Restaurant Name': 'Andhra Spice',\n",
       "  'Cuisine Preferences': 'South Indian',\n",
       "  'Dietary Restrictions': 'Vegan-friendly',\n",
       "  'Location': 'Innespeta',\n",
       "  'User Reviews': 'I had a great time at Andhra Spice in Innespeta! They offer amazing South Indian dishes, perfect for anyone looking for vegan-friendly options.'}]"
      ]
     },
     "metadata": {},
     "output_type": "display_data"
    },
    {
     "data": {
      "application/vnd.google.colaboratory.intrinsic+json": {
       "type": "string"
      },
      "text/plain": [
       "'\\n'"
      ]
     },
     "metadata": {},
     "output_type": "display_data"
    }
   ],
   "source": [
    "# Applying above function\n",
    "validated_data = recommendation_validation(top_restaurants)\n",
    "display(validated_data,'\\n')"
   ]
  },
  {
   "cell_type": "markdown",
   "metadata": {
    "id": "gjJqEEG942rS"
   },
   "source": [
    "# Stage 3"
   ]
  },
  {
   "cell_type": "code",
   "execution_count": 143,
   "metadata": {
    "executionInfo": {
     "elapsed": 21,
     "status": "ok",
     "timestamp": 1733087106505,
     "user": {
      "displayName": "v uma hyndavi",
      "userId": "16917374239320310048"
     },
     "user_tz": -330
    },
    "id": "9wxWeVbLrj9e"
   },
   "outputs": [],
   "source": [
    "# This function sets the system messgae to recommend matched restaurants in short. Without showing dictionaries\n",
    "def initialize_conv_reco(restaurants):\n",
    "    system_message = f\"\"\"\n",
    "    You are an intelligent restaurant recomendation expert and you are tasked with the objective to \\\n",
    "    solve the user queries about any restaurant specifications like cuisine preference, dietary specifications, \\\n",
    "    location from the catalogue in the user message \\\n",
    "    You should keep the user profile in mind while answering the questions.\\\n",
    "\n",
    "    Start with a brief summary of each restaurant in the following format,:\n",
    "    1. <Restaurant Name> : <Major specifications of the Restaurant>\n",
    "    2. <Restaurant Name> : <Major specifications of the Restaurant>\n",
    "\n",
    "    \"\"\"\n",
    "    user_message = f\"\"\" These are the user's products: {restaurants}\"\"\"\n",
    "    conversation = [{\"role\": \"system\", \"content\": system_message },\n",
    "                    {\"role\":\"user\",\"content\":user_message}]\n",
    "    # conversation_final = conversation[0]['content']\n",
    "    return conversation"
   ]
  },
  {
   "cell_type": "code",
   "execution_count": 144,
   "metadata": {
    "colab": {
     "base_uri": "https://localhost:8080/"
    },
    "executionInfo": {
     "elapsed": 21,
     "status": "ok",
     "timestamp": 1733087106506,
     "user": {
      "displayName": "v uma hyndavi",
      "userId": "16917374239320310048"
     },
     "user_tz": -330
    },
    "id": "4jrQfgHYsZ31",
    "outputId": "8ea39427-7e9a-44e0-8a22-c5323884fcee"
   },
   "outputs": [
    {
     "data": {
      "text/plain": [
       "[{'role': 'system',\n",
       "  'content': '\\n    You are an intelligent restaurant recomendation expert and you are tasked with the objective to     solve the user queries about any restaurant specifications like cuisine preference, dietary specifications,     location from the catalogue in the user message     You should keep the user profile in mind while answering the questions.\\n    Start with a brief summary of each restaurant in the following format,:\\n    1. <Restaurant Name> : <Major specifications of the Restaurant>\\n    2. <Restaurant Name> : <Major specifications of the Restaurant>\\n\\n    '},\n",
       " {'role': 'user',\n",
       "  'content': \" These are the user's products: [{'Restaurant Name': 'Sri Sai Akshaya', 'Cuisine Preferences': 'South Indian', 'Dietary Restrictions': 'Vegan-friendly', 'Location': 'Innespeta', 'User Reviews': 'Sri Sai Akshaya is the go-to place in Innespeta for South Indian. They also cater to those needing vegan-friendly meals. Loved my experience!'}, {'Restaurant Name': 'Andhra Spice', 'Cuisine Preferences': 'South Indian', 'Dietary Restrictions': 'Vegan-friendly', 'Location': 'Innespeta', 'User Reviews': 'I had a great time at Andhra Spice in Innespeta! They offer amazing South Indian dishes, perfect for anyone looking for vegan-friendly options.'}]\"}]"
      ]
     },
     "execution_count": 144,
     "metadata": {},
     "output_type": "execute_result"
    }
   ],
   "source": [
    "debug_conversation_reco = initialize_conv_reco(top_restaurants)\n",
    "debug_conversation_reco"
   ]
  },
  {
   "cell_type": "code",
   "execution_count": 145,
   "metadata": {
    "colab": {
     "base_uri": "https://localhost:8080/"
    },
    "executionInfo": {
     "elapsed": 981,
     "status": "ok",
     "timestamp": 1733087107469,
     "user": {
      "displayName": "v uma hyndavi",
      "userId": "16917374239320310048"
     },
     "user_tz": -330
    },
    "id": "VxQ10spQsnw9",
    "outputId": "cf0c4616-9c95-407f-8846-e625b27caec3"
   },
   "outputs": [
    {
     "name": "stdout",
     "output_type": "stream",
     "text": [
      "1. Sri Sai Akshaya : A South Indian restaurant located in Innespeta that offers vegan-friendly meals. Users have reviewed it as the go-to place for South Indian cuisine in the area with positive remarks about the vegan-friendly options.\n",
      "\n",
      "2. Andhra Spice : Another South Indian restaurant in Innespeta known for its vegan-friendly dishes. Customers have complimented the restaurant for its great South Indian food and variety of vegan options available.\n",
      "\n"
     ]
    }
   ],
   "source": [
    "# Assistant's response\n",
    "debug_recommendation = get_chat_completions(debug_conversation_reco)\n",
    "print(debug_recommendation + '\\n')"
   ]
  },
  {
   "cell_type": "markdown",
   "metadata": {
    "id": "yrUT7wpj4uOZ"
   },
   "source": [
    "# Combining all 3 stages"
   ]
  },
  {
   "cell_type": "code",
   "execution_count": 146,
   "metadata": {
    "executionInfo": {
     "elapsed": 6,
     "status": "ok",
     "timestamp": 1733087107470,
     "user": {
      "displayName": "v uma hyndavi",
      "userId": "16917374239320310048"
     },
     "user_tz": -330
    },
    "id": "qMQzpHQ_Cm8y"
   },
   "outputs": [],
   "source": [
    "# combination of all functions. Running all functions in order to chat and expect response from an LLM until 'exit' appears.\n",
    "def dialogue_mgmt_system():\n",
    "    conversation = initialize_conversation()\n",
    "\n",
    "    introduction = get_chat_completions(conversation)\n",
    "\n",
    "    display(introduction + '\\n')\n",
    "\n",
    "    restaurants = None\n",
    "\n",
    "    user_input = ''\n",
    "\n",
    "    while(user_input != \"exit\"):\n",
    "\n",
    "        user_input = input(\"\")\n",
    "\n",
    "        moderation = moderation_check(user_input)\n",
    "        if moderation == 'Flagged':\n",
    "            display(\"Sorry, this message has been flagged. Please restart your conversation.\")\n",
    "            break\n",
    "\n",
    "        if restaurants is None:\n",
    "\n",
    "            conversation.append({\"role\": \"user\", \"content\": user_input})\n",
    "\n",
    "            response_assistant = get_chat_completions(conversation)\n",
    "            moderation = moderation_check(response_assistant)\n",
    "            if moderation == 'Flagged':\n",
    "                display(\"Sorry, this message has been flagged. Please restart your conversation.\")\n",
    "                break\n",
    "\n",
    "\n",
    "            confirmation = intent_confirmation_layer(response_assistant)\n",
    "\n",
    "            print(\"Intent Confirmation Yes/No:\",confirmation.get('result'))\n",
    "\n",
    "            if \"No\" in confirmation.get('result'):\n",
    "                conversation.append({\"role\": \"assistant\", \"content\": str(response_assistant)})\n",
    "                print(\"\\n\" + str(response_assistant) + \"\\n\")\n",
    "\n",
    "            else:\n",
    "                print(\"\\n\" + str(response_assistant) + \"\\n\")\n",
    "                print('\\n' + \"Restaurant Specifications extracted!\" + '\\n')\n",
    "\n",
    "                response = dictionary_present(response_assistant)\n",
    "\n",
    "                print(\"Thank you for providing all the information. Kindly wait, while I fetch the products: \\n\")\n",
    "                restaurants = compare_restaurant_specs_with_user(response)\n",
    "\n",
    "                print(\"Matched Restaurants are:\", restaurants)\n",
    "                validated_reco = recommendation_validation(restaurants)\n",
    "\n",
    "                conversation_reco = initialize_conv_reco(validated_reco)\n",
    "\n",
    "                conversation_reco.append({\"role\": \"user\", \"content\": \"This is my user profile\" + str(response)})\n",
    "\n",
    "                recommendation = get_chat_completions(conversation_reco)\n",
    "\n",
    "                moderation = moderation_check(recommendation)\n",
    "                if moderation == 'Flagged':\n",
    "                    display(\"Sorry, this message has been flagged. Please restart your conversation.\")\n",
    "                    break\n",
    "\n",
    "                conversation_reco.append({\"role\": \"assistant\", \"content\": str(recommendation)})\n",
    "\n",
    "                print(str(recommendation) + '\\n')\n",
    "        else:\n",
    "            conversation_reco.append({\"role\": \"user\", \"content\": user_input})\n",
    "\n",
    "            response_asst_reco = get_chat_completions(conversation_reco)\n",
    "\n",
    "            moderation = moderation_check(response_asst_reco)\n",
    "            if moderation == 'Flagged':\n",
    "                print(\"Sorry, this message has been flagged. Please restart your conversation.\")\n",
    "                break\n",
    "\n",
    "            print('\\n' + response_asst_reco + '\\n')\n",
    "            conversation.append({\"role\": \"assistant\", \"content\": response_asst_reco})"
   ]
  },
  {
   "cell_type": "code",
   "execution_count": 146,
   "metadata": {
    "executionInfo": {
     "elapsed": 5,
     "status": "ok",
     "timestamp": 1733087107470,
     "user": {
      "displayName": "v uma hyndavi",
      "userId": "16917374239320310048"
     },
     "user_tz": -330
    },
    "id": "oq35EzjysYdm"
   },
   "outputs": [],
   "source": []
  },
  {
   "cell_type": "code",
   "execution_count": 147,
   "metadata": {
    "colab": {
     "base_uri": "https://localhost:8080/",
     "height": 576
    },
    "executionInfo": {
     "elapsed": 328445,
     "status": "ok",
     "timestamp": 1733087435910,
     "user": {
      "displayName": "v uma hyndavi",
      "userId": "16917374239320310048"
     },
     "user_tz": -330
    },
    "id": "rJqhTJjXUs6t",
    "outputId": "fb4df723-0a13-4c7b-ca0b-eb72a13d8508"
   },
   "outputs": [
    {
     "data": {
      "application/vnd.google.colaboratory.intrinsic+json": {
       "type": "string"
      },
      "text/plain": [
       "\"Hello! Welcome to the restaurant recommendation assistant. I'm here to help you find the perfect restaurant based on your preferences. Please feel free to share your requirements, such as cuisine preferences, dietary restrictions, and location. Let's get started!\\n\""
      ]
     },
     "metadata": {},
     "output_type": "display_data"
    },
    {
     "name": "stdout",
     "output_type": "stream",
     "text": [
      "Hi, Show me restaurants near to innespeta which have south indian cuisine with vegan friendly diet \n",
      "Intent Confirmation Yes/No: No\n",
      "\n",
      "Sure! Thank you for specifying your requirements. \n",
      "To assist you better, could you please confirm your primary choice for South Indian cuisine and if you have any other dietary restrictions apart from Vegan-friendly?\n",
      "\n",
      "no\n",
      "Intent Confirmation Yes/No: Yes\n",
      "\n",
      "Great! Just to confirm, your Cuisine Preferences are South Indian, Dietary Restrictions are Vegan-friendly, and the Location is Innespeta. \n",
      "\n",
      "Your profile is:\n",
      "{'Cuisine preferences': 'South Indian', 'Dietary restrictions': 'Vegan-friendly', 'Location': 'Innespeta'} \n",
      "\n",
      "Is there anything else you would like to add or inquire about?\n",
      "\n",
      "\n",
      "Restaurant Specifications extracted!\n",
      "\n",
      "Thank you for providing all the information. Kindly wait, while I fetch the products: \n",
      "\n",
      "Matched Restaurants are: [{'Restaurant Name': 'Sri Sai Akshaya', 'Cuisine Preferences': 'South Indian', 'Dietary Restrictions': 'Vegan-friendly', 'Location': 'Innespeta', 'User Reviews': 'Sri Sai Akshaya is the go-to place in Innespeta for South Indian. They also cater to those needing vegan-friendly meals. Loved my experience!'}, {'Restaurant Name': 'Andhra Spice', 'Cuisine Preferences': 'South Indian', 'Dietary Restrictions': 'Vegan-friendly', 'Location': 'Innespeta', 'User Reviews': 'I had a great time at Andhra Spice in Innespeta! They offer amazing South Indian dishes, perfect for anyone looking for vegan-friendly options.'}]\n",
      "1. Sri Sai Akshaya : This restaurant in Innespeta specializes in South Indian cuisine and offers vegan-friendly meals.\n",
      "2. Andhra Spice : Located in Innespeta, Andhra Spice is known for its delicious South Indian dishes that cater to vegan-friendly options.\n",
      "\n",
      "exit\n",
      "\n",
      "Goodbye! Let me know if you need any more assistance.\n",
      "\n"
     ]
    }
   ],
   "source": [
    "# by running this cell. we are initializing chatbot to run.\n",
    "dialogue_mgmt_system()"
   ]
  },
  {
   "cell_type": "code",
   "execution_count": 148,
   "metadata": {
    "colab": {
     "base_uri": "https://localhost:8080/",
     "height": 1000
    },
    "executionInfo": {
     "elapsed": 12,
     "status": "ok",
     "timestamp": 1733087435910,
     "user": {
      "displayName": "v uma hyndavi",
      "userId": "16917374239320310048"
     },
     "user_tz": -330
    },
    "id": "yDcoMegYUwJD",
    "outputId": "f93ef130-4ea6-4086-e35a-2854c85507fb"
   },
   "outputs": [
    {
     "data": {
      "application/vnd.google.colaboratory.intrinsic+json": {
       "summary": "{\n  \"name\": \"df\",\n  \"rows\": 30,\n  \"fields\": [\n    {\n      \"column\": \"Restaurant Name\",\n      \"properties\": {\n        \"dtype\": \"string\",\n        \"num_unique_values\": 30,\n        \"samples\": [\n          \"Ksheera Sagara\",\n          \"Sri Venkateswara Tiffins\",\n          \"Green Park Dining\"\n        ],\n        \"semantic_type\": \"\",\n        \"description\": \"\"\n      }\n    },\n    {\n      \"column\": \"Cuisine Preferences\",\n      \"properties\": {\n        \"dtype\": \"category\",\n        \"num_unique_values\": 6,\n        \"samples\": [\n          \"South Indian\",\n          \"North Indian\",\n          \"Andhra Cuisine\"\n        ],\n        \"semantic_type\": \"\",\n        \"description\": \"\"\n      }\n    },\n    {\n      \"column\": \"Dietary Restrictions\",\n      \"properties\": {\n        \"dtype\": \"category\",\n        \"num_unique_values\": 4,\n        \"samples\": [\n          \"Gluten-free options\",\n          \"Vegetarian-friendly\",\n          \"Vegan-friendly\"\n        ],\n        \"semantic_type\": \"\",\n        \"description\": \"\"\n      }\n    },\n    {\n      \"column\": \"Location\",\n      \"properties\": {\n        \"dtype\": \"category\",\n        \"num_unique_values\": 9,\n        \"samples\": [\n          \"Tilak Road\",\n          \"Morampudi\",\n          \"Katheru\"\n        ],\n        \"semantic_type\": \"\",\n        \"description\": \"\"\n      }\n    },\n    {\n      \"column\": \"User Reviews\",\n      \"properties\": {\n        \"dtype\": \"string\",\n        \"num_unique_values\": 30,\n        \"samples\": [\n          \"Craving Chinese in Tilak Road? Check out Ksheera Sagara! They have fantastic options, especially if you're into vegetarian-friendly dining.\",\n          \"Sri Venkateswara Tiffins in Katheru is fantastic! Their focus on South Indian cuisine and no restrictions options makes them stand out. Highly recommend!\",\n          \"Craving Continental in Danavai Peta? Check out Green Park Dining! They have fantastic options, especially if you're into vegetarian-friendly dining.\"\n        ],\n        \"semantic_type\": \"\",\n        \"description\": \"\"\n      }\n    },\n    {\n      \"column\": \"restaurant Dictionary\",\n      \"properties\": {\n        \"dtype\": \"object\",\n        \"semantic_type\": \"\",\n        \"description\": \"\"\n      }\n    }\n  ]\n}",
       "type": "dataframe",
       "variable_name": "df"
      },
      "text/html": [
       "\n",
       "  <div id=\"df-d668e396-ecc4-4022-a6d7-6af7d9bad5c9\" class=\"colab-df-container\">\n",
       "    <div>\n",
       "<style scoped>\n",
       "    .dataframe tbody tr th:only-of-type {\n",
       "        vertical-align: middle;\n",
       "    }\n",
       "\n",
       "    .dataframe tbody tr th {\n",
       "        vertical-align: top;\n",
       "    }\n",
       "\n",
       "    .dataframe thead th {\n",
       "        text-align: right;\n",
       "    }\n",
       "</style>\n",
       "<table border=\"1\" class=\"dataframe\">\n",
       "  <thead>\n",
       "    <tr style=\"text-align: right;\">\n",
       "      <th></th>\n",
       "      <th>Restaurant Name</th>\n",
       "      <th>Cuisine Preferences</th>\n",
       "      <th>Dietary Restrictions</th>\n",
       "      <th>Location</th>\n",
       "      <th>User Reviews</th>\n",
       "      <th>restaurant Dictionary</th>\n",
       "    </tr>\n",
       "  </thead>\n",
       "  <tbody>\n",
       "    <tr>\n",
       "      <th>0</th>\n",
       "      <td>Sri Sai Akshaya</td>\n",
       "      <td>South Indian</td>\n",
       "      <td>Vegan-friendly</td>\n",
       "      <td>Innespeta</td>\n",
       "      <td>Sri Sai Akshaya is the go-to place in Innespet...</td>\n",
       "      <td>{'Cuisine preferences': 'South Indian', 'Dieta...</td>\n",
       "    </tr>\n",
       "    <tr>\n",
       "      <th>1</th>\n",
       "      <td>Swagath Grand</td>\n",
       "      <td>North Indian</td>\n",
       "      <td>Gluten-free options</td>\n",
       "      <td>Morampudi</td>\n",
       "      <td>Swagath Grand is the go-to place in Morampudi ...</td>\n",
       "      <td>{'Cuisine preferences': 'North Indian', 'Dieta...</td>\n",
       "    </tr>\n",
       "    <tr>\n",
       "      <th>2</th>\n",
       "      <td>Ravi's Kitchen</td>\n",
       "      <td>Chinese</td>\n",
       "      <td>No restrictions</td>\n",
       "      <td>Aryapuram</td>\n",
       "      <td>I had a great time at Ravi's Kitchen in Aryapu...</td>\n",
       "      <td>{'Cuisine preferences': 'Chinese', 'Dietary re...</td>\n",
       "    </tr>\n",
       "    <tr>\n",
       "      <th>3</th>\n",
       "      <td>Hotel River Bay</td>\n",
       "      <td>Continental</td>\n",
       "      <td>Vegan-friendly</td>\n",
       "      <td>Danavai Peta</td>\n",
       "      <td>Hotel River Bay in Danavai Peta is fantastic! ...</td>\n",
       "      <td>{'Cuisine preferences': 'Continental', 'Dietar...</td>\n",
       "    </tr>\n",
       "    <tr>\n",
       "      <th>4</th>\n",
       "      <td>Masala Darbar</td>\n",
       "      <td>Italian</td>\n",
       "      <td>Vegetarian-friendly</td>\n",
       "      <td>Alcot Gardens</td>\n",
       "      <td>Visited Masala Darbar at Alcot Gardens, and I ...</td>\n",
       "      <td>{'Cuisine preferences': 'Italian', 'Dietary re...</td>\n",
       "    </tr>\n",
       "    <tr>\n",
       "      <th>5</th>\n",
       "      <td>Spicy Village</td>\n",
       "      <td>Andhra Cuisine</td>\n",
       "      <td>No restrictions</td>\n",
       "      <td>Katheru</td>\n",
       "      <td>Craving Andhra Cuisine in Katheru? Check out S...</td>\n",
       "      <td>{'Cuisine preferences': 'Andhra Cuisine', 'Die...</td>\n",
       "    </tr>\n",
       "    <tr>\n",
       "      <th>6</th>\n",
       "      <td>Subbayya Gari Hotel</td>\n",
       "      <td>South Indian</td>\n",
       "      <td>No restrictions</td>\n",
       "      <td>Syamalamba Temple Road</td>\n",
       "      <td>Visited Subbayya Gari Hotel at Syamalamba Temp...</td>\n",
       "      <td>{'Cuisine preferences': 'South Indian', 'Dieta...</td>\n",
       "    </tr>\n",
       "    <tr>\n",
       "      <th>7</th>\n",
       "      <td>Sri Kanya Comforts</td>\n",
       "      <td>North Indian</td>\n",
       "      <td>Vegan-friendly</td>\n",
       "      <td>Tilak Road</td>\n",
       "      <td>Sri Kanya Comforts in Tilak Road is fantastic!...</td>\n",
       "      <td>{'Cuisine preferences': 'North Indian', 'Dieta...</td>\n",
       "    </tr>\n",
       "    <tr>\n",
       "      <th>8</th>\n",
       "      <td>Udupi Bhavan</td>\n",
       "      <td>Chinese</td>\n",
       "      <td>Vegetarian-friendly</td>\n",
       "      <td>Tadepalli</td>\n",
       "      <td>Udupi Bhavan in Tadepalli is fantastic! Their ...</td>\n",
       "      <td>{'Cuisine preferences': 'Chinese', 'Dietary re...</td>\n",
       "    </tr>\n",
       "    <tr>\n",
       "      <th>9</th>\n",
       "      <td>Biryani Zone</td>\n",
       "      <td>Continental</td>\n",
       "      <td>Gluten-free options</td>\n",
       "      <td>Katheru</td>\n",
       "      <td>Craving Continental in Katheru? Check out Biry...</td>\n",
       "      <td>{'Cuisine preferences': 'Continental', 'Dietar...</td>\n",
       "    </tr>\n",
       "    <tr>\n",
       "      <th>10</th>\n",
       "      <td>Andhra Spice</td>\n",
       "      <td>South Indian</td>\n",
       "      <td>Vegan-friendly</td>\n",
       "      <td>Innespeta</td>\n",
       "      <td>I had a great time at Andhra Spice in Innespet...</td>\n",
       "      <td>{'Cuisine preferences': 'South Indian', 'Dieta...</td>\n",
       "    </tr>\n",
       "    <tr>\n",
       "      <th>11</th>\n",
       "      <td>Meghana Foods</td>\n",
       "      <td>North Indian</td>\n",
       "      <td>No restrictions</td>\n",
       "      <td>Morampudi</td>\n",
       "      <td>Meghana Foods in Morampudi is fantastic! Their...</td>\n",
       "      <td>{'Cuisine preferences': 'North Indian', 'Dieta...</td>\n",
       "    </tr>\n",
       "    <tr>\n",
       "      <th>12</th>\n",
       "      <td>Golden Pavilion</td>\n",
       "      <td>Chinese</td>\n",
       "      <td>Vegan-friendly</td>\n",
       "      <td>Aryapuram</td>\n",
       "      <td>Craving Chinese in Aryapuram? Check out Golden...</td>\n",
       "      <td>{'Cuisine preferences': 'Chinese', 'Dietary re...</td>\n",
       "    </tr>\n",
       "    <tr>\n",
       "      <th>13</th>\n",
       "      <td>Pizza Den</td>\n",
       "      <td>Italian</td>\n",
       "      <td>No restrictions</td>\n",
       "      <td>Danavai Peta</td>\n",
       "      <td>Craving Italian in Danavai Peta? Check out Piz...</td>\n",
       "      <td>{'Cuisine preferences': 'Italian', 'Dietary re...</td>\n",
       "    </tr>\n",
       "    <tr>\n",
       "      <th>14</th>\n",
       "      <td>Dakshin Grand</td>\n",
       "      <td>Andhra Cuisine</td>\n",
       "      <td>Vegetarian-friendly</td>\n",
       "      <td>Alcot Gardens</td>\n",
       "      <td>Visited Dakshin Grand at Alcot Gardens, and I ...</td>\n",
       "      <td>{'Cuisine preferences': 'Andhra Cuisine', 'Die...</td>\n",
       "    </tr>\n",
       "    <tr>\n",
       "      <th>15</th>\n",
       "      <td>Sri Venkateswara Tiffins</td>\n",
       "      <td>South Indian</td>\n",
       "      <td>No restrictions</td>\n",
       "      <td>Katheru</td>\n",
       "      <td>Sri Venkateswara Tiffins in Katheru is fantast...</td>\n",
       "      <td>{'Cuisine preferences': 'South Indian', 'Dieta...</td>\n",
       "    </tr>\n",
       "    <tr>\n",
       "      <th>16</th>\n",
       "      <td>Kinnera Restaurant</td>\n",
       "      <td>North Indian</td>\n",
       "      <td>Vegan-friendly</td>\n",
       "      <td>Syamalamba Temple Road</td>\n",
       "      <td>I had a great time at Kinnera Restaurant in Sy...</td>\n",
       "      <td>{'Cuisine preferences': 'North Indian', 'Dieta...</td>\n",
       "    </tr>\n",
       "    <tr>\n",
       "      <th>17</th>\n",
       "      <td>Tasty Treats</td>\n",
       "      <td>Chinese</td>\n",
       "      <td>Gluten-free options</td>\n",
       "      <td>Tilak Road</td>\n",
       "      <td>Tasty Treats in Tilak Road is fantastic! Their...</td>\n",
       "      <td>{'Cuisine preferences': 'Chinese', 'Dietary re...</td>\n",
       "    </tr>\n",
       "    <tr>\n",
       "      <th>18</th>\n",
       "      <td>Haveli Multicuisine</td>\n",
       "      <td>Continental</td>\n",
       "      <td>No restrictions</td>\n",
       "      <td>Tadepalli</td>\n",
       "      <td>Visited Haveli Multicuisine at Tadepalli, and ...</td>\n",
       "      <td>{'Cuisine preferences': 'Continental', 'Dietar...</td>\n",
       "    </tr>\n",
       "    <tr>\n",
       "      <th>19</th>\n",
       "      <td>Flavours of Andhra</td>\n",
       "      <td>Italian</td>\n",
       "      <td>Vegan-friendly</td>\n",
       "      <td>Katheru</td>\n",
       "      <td>I had a great time at Flavours of Andhra in Ka...</td>\n",
       "      <td>{'Cuisine preferences': 'Italian', 'Dietary re...</td>\n",
       "    </tr>\n",
       "    <tr>\n",
       "      <th>20</th>\n",
       "      <td>Bamboo Veg</td>\n",
       "      <td>South Indian</td>\n",
       "      <td>Vegetarian-friendly</td>\n",
       "      <td>Innespeta</td>\n",
       "      <td>I had a great time at Bamboo Veg in Innespeta!...</td>\n",
       "      <td>{'Cuisine preferences': 'South Indian', 'Dieta...</td>\n",
       "    </tr>\n",
       "    <tr>\n",
       "      <th>21</th>\n",
       "      <td>Rajahmundry Rasoi</td>\n",
       "      <td>North Indian</td>\n",
       "      <td>Gluten-free options</td>\n",
       "      <td>Morampudi</td>\n",
       "      <td>Rajahmundry Rasoi in Morampudi is fantastic! T...</td>\n",
       "      <td>{'Cuisine preferences': 'North Indian', 'Dieta...</td>\n",
       "    </tr>\n",
       "    <tr>\n",
       "      <th>22</th>\n",
       "      <td>China Town</td>\n",
       "      <td>Chinese</td>\n",
       "      <td>No restrictions</td>\n",
       "      <td>Aryapuram</td>\n",
       "      <td>China Town in Aryapuram is fantastic! Their fo...</td>\n",
       "      <td>{'Cuisine preferences': 'Chinese', 'Dietary re...</td>\n",
       "    </tr>\n",
       "    <tr>\n",
       "      <th>23</th>\n",
       "      <td>Green Park Dining</td>\n",
       "      <td>Continental</td>\n",
       "      <td>Vegetarian-friendly</td>\n",
       "      <td>Danavai Peta</td>\n",
       "      <td>Craving Continental in Danavai Peta? Check out...</td>\n",
       "      <td>{'Cuisine preferences': 'Continental', 'Dietar...</td>\n",
       "    </tr>\n",
       "    <tr>\n",
       "      <th>24</th>\n",
       "      <td>Ruchi Mess</td>\n",
       "      <td>Andhra Cuisine</td>\n",
       "      <td>Vegan-friendly</td>\n",
       "      <td>Alcot Gardens</td>\n",
       "      <td>Craving Andhra Cuisine in Alcot Gardens? Check...</td>\n",
       "      <td>{'Cuisine preferences': 'Andhra Cuisine', 'Die...</td>\n",
       "    </tr>\n",
       "    <tr>\n",
       "      <th>25</th>\n",
       "      <td>Vijaya Durga Meals</td>\n",
       "      <td>South Indian</td>\n",
       "      <td>No restrictions</td>\n",
       "      <td>Katheru</td>\n",
       "      <td>Vijaya Durga Meals in Katheru is fantastic! Th...</td>\n",
       "      <td>{'Cuisine preferences': 'South Indian', 'Dieta...</td>\n",
       "    </tr>\n",
       "    <tr>\n",
       "      <th>26</th>\n",
       "      <td>Annapurna Veg</td>\n",
       "      <td>North Indian</td>\n",
       "      <td>Vegetarian-friendly</td>\n",
       "      <td>Syamalamba Temple Road</td>\n",
       "      <td>Annapurna Veg is the go-to place in Syamalamba...</td>\n",
       "      <td>{'Cuisine preferences': 'North Indian', 'Dieta...</td>\n",
       "    </tr>\n",
       "    <tr>\n",
       "      <th>27</th>\n",
       "      <td>Ksheera Sagara</td>\n",
       "      <td>Chinese</td>\n",
       "      <td>Vegetarian-friendly</td>\n",
       "      <td>Tilak Road</td>\n",
       "      <td>Craving Chinese in Tilak Road? Check out Kshee...</td>\n",
       "      <td>{'Cuisine preferences': 'Chinese', 'Dietary re...</td>\n",
       "    </tr>\n",
       "    <tr>\n",
       "      <th>28</th>\n",
       "      <td>Southern Spice</td>\n",
       "      <td>Continental</td>\n",
       "      <td>No restrictions</td>\n",
       "      <td>Tadepalli</td>\n",
       "      <td>Craving Continental in Tadepalli? Check out So...</td>\n",
       "      <td>{'Cuisine preferences': 'Continental', 'Dietar...</td>\n",
       "    </tr>\n",
       "    <tr>\n",
       "      <th>29</th>\n",
       "      <td>Delight Family Restaurant</td>\n",
       "      <td>Italian</td>\n",
       "      <td>Vegetarian-friendly</td>\n",
       "      <td>Katheru</td>\n",
       "      <td>Visited Delight Family Restaurant at Katheru, ...</td>\n",
       "      <td>{'Cuisine preferences': 'Italian', 'Dietary re...</td>\n",
       "    </tr>\n",
       "  </tbody>\n",
       "</table>\n",
       "</div>\n",
       "    <div class=\"colab-df-buttons\">\n",
       "\n",
       "  <div class=\"colab-df-container\">\n",
       "    <button class=\"colab-df-convert\" onclick=\"convertToInteractive('df-d668e396-ecc4-4022-a6d7-6af7d9bad5c9')\"\n",
       "            title=\"Convert this dataframe to an interactive table.\"\n",
       "            style=\"display:none;\">\n",
       "\n",
       "  <svg xmlns=\"http://www.w3.org/2000/svg\" height=\"24px\" viewBox=\"0 -960 960 960\">\n",
       "    <path d=\"M120-120v-720h720v720H120Zm60-500h600v-160H180v160Zm220 220h160v-160H400v160Zm0 220h160v-160H400v160ZM180-400h160v-160H180v160Zm440 0h160v-160H620v160ZM180-180h160v-160H180v160Zm440 0h160v-160H620v160Z\"/>\n",
       "  </svg>\n",
       "    </button>\n",
       "\n",
       "  <style>\n",
       "    .colab-df-container {\n",
       "      display:flex;\n",
       "      gap: 12px;\n",
       "    }\n",
       "\n",
       "    .colab-df-convert {\n",
       "      background-color: #E8F0FE;\n",
       "      border: none;\n",
       "      border-radius: 50%;\n",
       "      cursor: pointer;\n",
       "      display: none;\n",
       "      fill: #1967D2;\n",
       "      height: 32px;\n",
       "      padding: 0 0 0 0;\n",
       "      width: 32px;\n",
       "    }\n",
       "\n",
       "    .colab-df-convert:hover {\n",
       "      background-color: #E2EBFA;\n",
       "      box-shadow: 0px 1px 2px rgba(60, 64, 67, 0.3), 0px 1px 3px 1px rgba(60, 64, 67, 0.15);\n",
       "      fill: #174EA6;\n",
       "    }\n",
       "\n",
       "    .colab-df-buttons div {\n",
       "      margin-bottom: 4px;\n",
       "    }\n",
       "\n",
       "    [theme=dark] .colab-df-convert {\n",
       "      background-color: #3B4455;\n",
       "      fill: #D2E3FC;\n",
       "    }\n",
       "\n",
       "    [theme=dark] .colab-df-convert:hover {\n",
       "      background-color: #434B5C;\n",
       "      box-shadow: 0px 1px 3px 1px rgba(0, 0, 0, 0.15);\n",
       "      filter: drop-shadow(0px 1px 2px rgba(0, 0, 0, 0.3));\n",
       "      fill: #FFFFFF;\n",
       "    }\n",
       "  </style>\n",
       "\n",
       "    <script>\n",
       "      const buttonEl =\n",
       "        document.querySelector('#df-d668e396-ecc4-4022-a6d7-6af7d9bad5c9 button.colab-df-convert');\n",
       "      buttonEl.style.display =\n",
       "        google.colab.kernel.accessAllowed ? 'block' : 'none';\n",
       "\n",
       "      async function convertToInteractive(key) {\n",
       "        const element = document.querySelector('#df-d668e396-ecc4-4022-a6d7-6af7d9bad5c9');\n",
       "        const dataTable =\n",
       "          await google.colab.kernel.invokeFunction('convertToInteractive',\n",
       "                                                    [key], {});\n",
       "        if (!dataTable) return;\n",
       "\n",
       "        const docLinkHtml = 'Like what you see? Visit the ' +\n",
       "          '<a target=\"_blank\" href=https://colab.research.google.com/notebooks/data_table.ipynb>data table notebook</a>'\n",
       "          + ' to learn more about interactive tables.';\n",
       "        element.innerHTML = '';\n",
       "        dataTable['output_type'] = 'display_data';\n",
       "        await google.colab.output.renderOutput(dataTable, element);\n",
       "        const docLink = document.createElement('div');\n",
       "        docLink.innerHTML = docLinkHtml;\n",
       "        element.appendChild(docLink);\n",
       "      }\n",
       "    </script>\n",
       "  </div>\n",
       "\n",
       "\n",
       "<div id=\"df-386ce8c2-0548-4035-9b0e-bd72200c860d\">\n",
       "  <button class=\"colab-df-quickchart\" onclick=\"quickchart('df-386ce8c2-0548-4035-9b0e-bd72200c860d')\"\n",
       "            title=\"Suggest charts\"\n",
       "            style=\"display:none;\">\n",
       "\n",
       "<svg xmlns=\"http://www.w3.org/2000/svg\" height=\"24px\"viewBox=\"0 0 24 24\"\n",
       "     width=\"24px\">\n",
       "    <g>\n",
       "        <path d=\"M19 3H5c-1.1 0-2 .9-2 2v14c0 1.1.9 2 2 2h14c1.1 0 2-.9 2-2V5c0-1.1-.9-2-2-2zM9 17H7v-7h2v7zm4 0h-2V7h2v10zm4 0h-2v-4h2v4z\"/>\n",
       "    </g>\n",
       "</svg>\n",
       "  </button>\n",
       "\n",
       "<style>\n",
       "  .colab-df-quickchart {\n",
       "      --bg-color: #E8F0FE;\n",
       "      --fill-color: #1967D2;\n",
       "      --hover-bg-color: #E2EBFA;\n",
       "      --hover-fill-color: #174EA6;\n",
       "      --disabled-fill-color: #AAA;\n",
       "      --disabled-bg-color: #DDD;\n",
       "  }\n",
       "\n",
       "  [theme=dark] .colab-df-quickchart {\n",
       "      --bg-color: #3B4455;\n",
       "      --fill-color: #D2E3FC;\n",
       "      --hover-bg-color: #434B5C;\n",
       "      --hover-fill-color: #FFFFFF;\n",
       "      --disabled-bg-color: #3B4455;\n",
       "      --disabled-fill-color: #666;\n",
       "  }\n",
       "\n",
       "  .colab-df-quickchart {\n",
       "    background-color: var(--bg-color);\n",
       "    border: none;\n",
       "    border-radius: 50%;\n",
       "    cursor: pointer;\n",
       "    display: none;\n",
       "    fill: var(--fill-color);\n",
       "    height: 32px;\n",
       "    padding: 0;\n",
       "    width: 32px;\n",
       "  }\n",
       "\n",
       "  .colab-df-quickchart:hover {\n",
       "    background-color: var(--hover-bg-color);\n",
       "    box-shadow: 0 1px 2px rgba(60, 64, 67, 0.3), 0 1px 3px 1px rgba(60, 64, 67, 0.15);\n",
       "    fill: var(--button-hover-fill-color);\n",
       "  }\n",
       "\n",
       "  .colab-df-quickchart-complete:disabled,\n",
       "  .colab-df-quickchart-complete:disabled:hover {\n",
       "    background-color: var(--disabled-bg-color);\n",
       "    fill: var(--disabled-fill-color);\n",
       "    box-shadow: none;\n",
       "  }\n",
       "\n",
       "  .colab-df-spinner {\n",
       "    border: 2px solid var(--fill-color);\n",
       "    border-color: transparent;\n",
       "    border-bottom-color: var(--fill-color);\n",
       "    animation:\n",
       "      spin 1s steps(1) infinite;\n",
       "  }\n",
       "\n",
       "  @keyframes spin {\n",
       "    0% {\n",
       "      border-color: transparent;\n",
       "      border-bottom-color: var(--fill-color);\n",
       "      border-left-color: var(--fill-color);\n",
       "    }\n",
       "    20% {\n",
       "      border-color: transparent;\n",
       "      border-left-color: var(--fill-color);\n",
       "      border-top-color: var(--fill-color);\n",
       "    }\n",
       "    30% {\n",
       "      border-color: transparent;\n",
       "      border-left-color: var(--fill-color);\n",
       "      border-top-color: var(--fill-color);\n",
       "      border-right-color: var(--fill-color);\n",
       "    }\n",
       "    40% {\n",
       "      border-color: transparent;\n",
       "      border-right-color: var(--fill-color);\n",
       "      border-top-color: var(--fill-color);\n",
       "    }\n",
       "    60% {\n",
       "      border-color: transparent;\n",
       "      border-right-color: var(--fill-color);\n",
       "    }\n",
       "    80% {\n",
       "      border-color: transparent;\n",
       "      border-right-color: var(--fill-color);\n",
       "      border-bottom-color: var(--fill-color);\n",
       "    }\n",
       "    90% {\n",
       "      border-color: transparent;\n",
       "      border-bottom-color: var(--fill-color);\n",
       "    }\n",
       "  }\n",
       "</style>\n",
       "\n",
       "  <script>\n",
       "    async function quickchart(key) {\n",
       "      const quickchartButtonEl =\n",
       "        document.querySelector('#' + key + ' button');\n",
       "      quickchartButtonEl.disabled = true;  // To prevent multiple clicks.\n",
       "      quickchartButtonEl.classList.add('colab-df-spinner');\n",
       "      try {\n",
       "        const charts = await google.colab.kernel.invokeFunction(\n",
       "            'suggestCharts', [key], {});\n",
       "      } catch (error) {\n",
       "        console.error('Error during call to suggestCharts:', error);\n",
       "      }\n",
       "      quickchartButtonEl.classList.remove('colab-df-spinner');\n",
       "      quickchartButtonEl.classList.add('colab-df-quickchart-complete');\n",
       "    }\n",
       "    (() => {\n",
       "      let quickchartButtonEl =\n",
       "        document.querySelector('#df-386ce8c2-0548-4035-9b0e-bd72200c860d button');\n",
       "      quickchartButtonEl.style.display =\n",
       "        google.colab.kernel.accessAllowed ? 'block' : 'none';\n",
       "    })();\n",
       "  </script>\n",
       "</div>\n",
       "\n",
       "  <div id=\"id_beb7967a-f9b0-430f-9219-2232ed3cc920\">\n",
       "    <style>\n",
       "      .colab-df-generate {\n",
       "        background-color: #E8F0FE;\n",
       "        border: none;\n",
       "        border-radius: 50%;\n",
       "        cursor: pointer;\n",
       "        display: none;\n",
       "        fill: #1967D2;\n",
       "        height: 32px;\n",
       "        padding: 0 0 0 0;\n",
       "        width: 32px;\n",
       "      }\n",
       "\n",
       "      .colab-df-generate:hover {\n",
       "        background-color: #E2EBFA;\n",
       "        box-shadow: 0px 1px 2px rgba(60, 64, 67, 0.3), 0px 1px 3px 1px rgba(60, 64, 67, 0.15);\n",
       "        fill: #174EA6;\n",
       "      }\n",
       "\n",
       "      [theme=dark] .colab-df-generate {\n",
       "        background-color: #3B4455;\n",
       "        fill: #D2E3FC;\n",
       "      }\n",
       "\n",
       "      [theme=dark] .colab-df-generate:hover {\n",
       "        background-color: #434B5C;\n",
       "        box-shadow: 0px 1px 3px 1px rgba(0, 0, 0, 0.15);\n",
       "        filter: drop-shadow(0px 1px 2px rgba(0, 0, 0, 0.3));\n",
       "        fill: #FFFFFF;\n",
       "      }\n",
       "    </style>\n",
       "    <button class=\"colab-df-generate\" onclick=\"generateWithVariable('df')\"\n",
       "            title=\"Generate code using this dataframe.\"\n",
       "            style=\"display:none;\">\n",
       "\n",
       "  <svg xmlns=\"http://www.w3.org/2000/svg\" height=\"24px\"viewBox=\"0 0 24 24\"\n",
       "       width=\"24px\">\n",
       "    <path d=\"M7,19H8.4L18.45,9,17,7.55,7,17.6ZM5,21V16.75L18.45,3.32a2,2,0,0,1,2.83,0l1.4,1.43a1.91,1.91,0,0,1,.58,1.4,1.91,1.91,0,0,1-.58,1.4L9.25,21ZM18.45,9,17,7.55Zm-12,3A5.31,5.31,0,0,0,4.9,8.1,5.31,5.31,0,0,0,1,6.5,5.31,5.31,0,0,0,4.9,4.9,5.31,5.31,0,0,0,6.5,1,5.31,5.31,0,0,0,8.1,4.9,5.31,5.31,0,0,0,12,6.5,5.46,5.46,0,0,0,6.5,12Z\"/>\n",
       "  </svg>\n",
       "    </button>\n",
       "    <script>\n",
       "      (() => {\n",
       "      const buttonEl =\n",
       "        document.querySelector('#id_beb7967a-f9b0-430f-9219-2232ed3cc920 button.colab-df-generate');\n",
       "      buttonEl.style.display =\n",
       "        google.colab.kernel.accessAllowed ? 'block' : 'none';\n",
       "\n",
       "      buttonEl.onclick = () => {\n",
       "        google.colab.notebook.generateWithVariable('df');\n",
       "      }\n",
       "      })();\n",
       "    </script>\n",
       "  </div>\n",
       "\n",
       "    </div>\n",
       "  </div>\n"
      ],
      "text/plain": [
       "              Restaurant Name Cuisine Preferences Dietary Restrictions                Location  \\\n",
       "0             Sri Sai Akshaya        South Indian       Vegan-friendly               Innespeta   \n",
       "1               Swagath Grand        North Indian  Gluten-free options               Morampudi   \n",
       "2              Ravi's Kitchen             Chinese      No restrictions               Aryapuram   \n",
       "3             Hotel River Bay         Continental       Vegan-friendly            Danavai Peta   \n",
       "4               Masala Darbar             Italian  Vegetarian-friendly           Alcot Gardens   \n",
       "5               Spicy Village      Andhra Cuisine      No restrictions                 Katheru   \n",
       "6         Subbayya Gari Hotel        South Indian      No restrictions  Syamalamba Temple Road   \n",
       "7          Sri Kanya Comforts        North Indian       Vegan-friendly              Tilak Road   \n",
       "8                Udupi Bhavan             Chinese  Vegetarian-friendly               Tadepalli   \n",
       "9                Biryani Zone         Continental  Gluten-free options                 Katheru   \n",
       "10               Andhra Spice        South Indian       Vegan-friendly               Innespeta   \n",
       "11              Meghana Foods        North Indian      No restrictions               Morampudi   \n",
       "12            Golden Pavilion             Chinese       Vegan-friendly               Aryapuram   \n",
       "13                  Pizza Den             Italian      No restrictions            Danavai Peta   \n",
       "14              Dakshin Grand      Andhra Cuisine  Vegetarian-friendly           Alcot Gardens   \n",
       "15   Sri Venkateswara Tiffins        South Indian      No restrictions                 Katheru   \n",
       "16         Kinnera Restaurant        North Indian       Vegan-friendly  Syamalamba Temple Road   \n",
       "17               Tasty Treats             Chinese  Gluten-free options              Tilak Road   \n",
       "18        Haveli Multicuisine         Continental      No restrictions               Tadepalli   \n",
       "19         Flavours of Andhra             Italian       Vegan-friendly                 Katheru   \n",
       "20                 Bamboo Veg        South Indian  Vegetarian-friendly               Innespeta   \n",
       "21          Rajahmundry Rasoi        North Indian  Gluten-free options               Morampudi   \n",
       "22                 China Town             Chinese      No restrictions               Aryapuram   \n",
       "23          Green Park Dining         Continental  Vegetarian-friendly            Danavai Peta   \n",
       "24                 Ruchi Mess      Andhra Cuisine       Vegan-friendly           Alcot Gardens   \n",
       "25         Vijaya Durga Meals        South Indian      No restrictions                 Katheru   \n",
       "26              Annapurna Veg        North Indian  Vegetarian-friendly  Syamalamba Temple Road   \n",
       "27             Ksheera Sagara             Chinese  Vegetarian-friendly              Tilak Road   \n",
       "28             Southern Spice         Continental      No restrictions               Tadepalli   \n",
       "29  Delight Family Restaurant             Italian  Vegetarian-friendly                 Katheru   \n",
       "\n",
       "                                         User Reviews  \\\n",
       "0   Sri Sai Akshaya is the go-to place in Innespet...   \n",
       "1   Swagath Grand is the go-to place in Morampudi ...   \n",
       "2   I had a great time at Ravi's Kitchen in Aryapu...   \n",
       "3   Hotel River Bay in Danavai Peta is fantastic! ...   \n",
       "4   Visited Masala Darbar at Alcot Gardens, and I ...   \n",
       "5   Craving Andhra Cuisine in Katheru? Check out S...   \n",
       "6   Visited Subbayya Gari Hotel at Syamalamba Temp...   \n",
       "7   Sri Kanya Comforts in Tilak Road is fantastic!...   \n",
       "8   Udupi Bhavan in Tadepalli is fantastic! Their ...   \n",
       "9   Craving Continental in Katheru? Check out Biry...   \n",
       "10  I had a great time at Andhra Spice in Innespet...   \n",
       "11  Meghana Foods in Morampudi is fantastic! Their...   \n",
       "12  Craving Chinese in Aryapuram? Check out Golden...   \n",
       "13  Craving Italian in Danavai Peta? Check out Piz...   \n",
       "14  Visited Dakshin Grand at Alcot Gardens, and I ...   \n",
       "15  Sri Venkateswara Tiffins in Katheru is fantast...   \n",
       "16  I had a great time at Kinnera Restaurant in Sy...   \n",
       "17  Tasty Treats in Tilak Road is fantastic! Their...   \n",
       "18  Visited Haveli Multicuisine at Tadepalli, and ...   \n",
       "19  I had a great time at Flavours of Andhra in Ka...   \n",
       "20  I had a great time at Bamboo Veg in Innespeta!...   \n",
       "21  Rajahmundry Rasoi in Morampudi is fantastic! T...   \n",
       "22  China Town in Aryapuram is fantastic! Their fo...   \n",
       "23  Craving Continental in Danavai Peta? Check out...   \n",
       "24  Craving Andhra Cuisine in Alcot Gardens? Check...   \n",
       "25  Vijaya Durga Meals in Katheru is fantastic! Th...   \n",
       "26  Annapurna Veg is the go-to place in Syamalamba...   \n",
       "27  Craving Chinese in Tilak Road? Check out Kshee...   \n",
       "28  Craving Continental in Tadepalli? Check out So...   \n",
       "29  Visited Delight Family Restaurant at Katheru, ...   \n",
       "\n",
       "                                restaurant Dictionary  \n",
       "0   {'Cuisine preferences': 'South Indian', 'Dieta...  \n",
       "1   {'Cuisine preferences': 'North Indian', 'Dieta...  \n",
       "2   {'Cuisine preferences': 'Chinese', 'Dietary re...  \n",
       "3   {'Cuisine preferences': 'Continental', 'Dietar...  \n",
       "4   {'Cuisine preferences': 'Italian', 'Dietary re...  \n",
       "5   {'Cuisine preferences': 'Andhra Cuisine', 'Die...  \n",
       "6   {'Cuisine preferences': 'South Indian', 'Dieta...  \n",
       "7   {'Cuisine preferences': 'North Indian', 'Dieta...  \n",
       "8   {'Cuisine preferences': 'Chinese', 'Dietary re...  \n",
       "9   {'Cuisine preferences': 'Continental', 'Dietar...  \n",
       "10  {'Cuisine preferences': 'South Indian', 'Dieta...  \n",
       "11  {'Cuisine preferences': 'North Indian', 'Dieta...  \n",
       "12  {'Cuisine preferences': 'Chinese', 'Dietary re...  \n",
       "13  {'Cuisine preferences': 'Italian', 'Dietary re...  \n",
       "14  {'Cuisine preferences': 'Andhra Cuisine', 'Die...  \n",
       "15  {'Cuisine preferences': 'South Indian', 'Dieta...  \n",
       "16  {'Cuisine preferences': 'North Indian', 'Dieta...  \n",
       "17  {'Cuisine preferences': 'Chinese', 'Dietary re...  \n",
       "18  {'Cuisine preferences': 'Continental', 'Dietar...  \n",
       "19  {'Cuisine preferences': 'Italian', 'Dietary re...  \n",
       "20  {'Cuisine preferences': 'South Indian', 'Dieta...  \n",
       "21  {'Cuisine preferences': 'North Indian', 'Dieta...  \n",
       "22  {'Cuisine preferences': 'Chinese', 'Dietary re...  \n",
       "23  {'Cuisine preferences': 'Continental', 'Dietar...  \n",
       "24  {'Cuisine preferences': 'Andhra Cuisine', 'Die...  \n",
       "25  {'Cuisine preferences': 'South Indian', 'Dieta...  \n",
       "26  {'Cuisine preferences': 'North Indian', 'Dieta...  \n",
       "27  {'Cuisine preferences': 'Chinese', 'Dietary re...  \n",
       "28  {'Cuisine preferences': 'Continental', 'Dietar...  \n",
       "29  {'Cuisine preferences': 'Italian', 'Dietary re...  "
      ]
     },
     "execution_count": 148,
     "metadata": {},
     "output_type": "execute_result"
    }
   ],
   "source": [
    "df\n"
   ]
  },
  {
   "cell_type": "code",
   "execution_count": 150,
   "metadata": {
    "colab": {
     "base_uri": "https://localhost:8080/",
     "height": 732
    },
    "executionInfo": {
     "elapsed": 123644,
     "status": "ok",
     "timestamp": 1733088149068,
     "user": {
      "displayName": "v uma hyndavi",
      "userId": "16917374239320310048"
     },
     "user_tz": -330
    },
    "id": "3RI5ncXH2ogI",
    "outputId": "de5a74e8-96c7-4b57-d88a-4476f923a778"
   },
   "outputs": [
    {
     "data": {
      "application/vnd.google.colaboratory.intrinsic+json": {
       "type": "string"
      },
      "text/plain": [
       "'Hello! Welcome to the restaurant recommendation assistant. I can help you find the perfect restaurant based on your preferences. Please go ahead and let me know your requirements, such as cuisine preferences, dietary restrictions, and location. Feel free to share any details to help me assist you better.\\n'"
      ]
     },
     "metadata": {},
     "output_type": "display_data"
    },
    {
     "name": "stdout",
     "output_type": "stream",
     "text": [
      "show me chinese restaurants with out diet restrictions\n",
      "Intent Confirmation Yes/No: No\n",
      "\n",
      "Hello! I can help you with that. Please choose your nearest location from ['Katheru', 'Innespeta', 'Morampudi', 'Aryapuram', 'Danavai Peta', 'Alcot Gardens', 'Syamalamba Temple Road', 'Tilak Road', 'Tadepalli'].\n",
      "\n",
      "aryprm\n",
      "Intent Confirmation Yes/No: No\n",
      "\n",
      "Great choice! Now, please choose your Cuisine Preferences from ['South Indian', 'North Indian', 'Chinese', 'Continental', 'Italian', 'Andhra Cuisine'].\n",
      "\n",
      "chinese\n",
      "Intent Confirmation Yes/No: No\n",
      "\n",
      "Perfect! Do you have any dietary restrictions such as 'Vegan-friendly', 'Vegetarian-friendly', 'Gluten-free options', or 'No restrictions'?\n",
      "\n",
      "no\n",
      "Intent Confirmation Yes/No: Yes\n",
      "\n",
      "Thank you for the information. Based on your preferences, the values for the keys are as follows: \n",
      "- 'Cuisine preferences': 'Chinese'\n",
      "- 'Dietary restrictions': 'No restrictions'\n",
      "- 'Location': 'Aryapuram'\n",
      "\n",
      "\n",
      "Restaurant Specifications extracted!\n",
      "\n",
      "Thank you for providing all the information. Kindly wait, while I fetch the products: \n",
      "\n",
      "Matched Restaurants are: [{'Restaurant Name': \"Ravi's Kitchen\", 'Cuisine Preferences': 'Chinese', 'Dietary Restrictions': 'No restrictions', 'Location': 'Aryapuram', 'User Reviews': \"I had a great time at Ravi's Kitchen in Aryapuram! They offer amazing Chinese dishes, perfect for anyone looking for no restrictions options.\"}, {'Restaurant Name': 'China Town', 'Cuisine Preferences': 'Chinese', 'Dietary Restrictions': 'No restrictions', 'Location': 'Aryapuram', 'User Reviews': 'China Town in Aryapuram is fantastic! Their focus on Chinese cuisine and no restrictions options makes them stand out. Highly recommend!'}]\n",
      "1. Ravi's Kitchen: Specializes in Chinese cuisine and is located in Aryapuram. No dietary restrictions are mentioned, and the user review highlights the amazing Chinese dishes offered at this restaurant.\n",
      "\n",
      "2. China Town: Also focused on Chinese cuisine and located in Aryapuram. There are no dietary restrictions mentioned, and the user review praises the fantastic experience at China Town with a focus on Chinese cuisine options.\n",
      "\n",
      "exit\n",
      "\n",
      "If you have any more questions in the future or need further assistance, feel free to ask. Have a great day!\n",
      "\n"
     ]
    }
   ],
   "source": [
    "dialogue_mgmt_system()\n"
   ]
  },
  {
   "cell_type": "code",
   "execution_count": 151,
   "metadata": {
    "colab": {
     "base_uri": "https://localhost:8080/",
     "height": 819
    },
    "executionInfo": {
     "elapsed": 349538,
     "status": "ok",
     "timestamp": 1733089341834,
     "user": {
      "displayName": "v uma hyndavi",
      "userId": "16917374239320310048"
     },
     "user_tz": -330
    },
    "id": "kTITy8qvGJkX",
    "outputId": "c728fff9-1adc-4a15-f4f3-55e641c8a861"
   },
   "outputs": [
    {
     "data": {
      "application/vnd.google.colaboratory.intrinsic+json": {
       "type": "string"
      },
      "text/plain": [
       "'Hello! Welcome to the restaurant recommendation assistant. I can help you find the perfect restaurant based on your preferences. Please go ahead and let me know your requirements.\\n'"
      ]
     },
     "metadata": {},
     "output_type": "display_data"
    },
    {
     "name": "stdout",
     "output_type": "stream",
     "text": [
      "show me restaurants near morampudi\n",
      "Intent Confirmation Yes/No: No\n",
      "\n",
      "Sure! Please choose your Cuisine Preferences from ['South Indian', 'North Indian', 'Chinese', 'Continental', 'Italian', 'Andhra Cuisine'].\n",
      "\n",
      "no idea\n",
      "Intent Confirmation Yes/No: No\n",
      "\n",
      "No worries! Do you have any dietary restrictions like Vegan-friendly, Vegetarian-friendly, or Gluten-free options?\n",
      "\n",
      "no specifications\n",
      "Intent Confirmation Yes/No: No\n",
      "\n",
      "Understood. Please choose your nearest location from ['Katheru', 'Innespeta', 'Morampudi', 'Aryapuram', 'Danavai Peta', 'Alcot Gardens', 'Syamalamba Temple Road', 'Tilak Road', 'Tadepalli'].\n",
      "\n",
      "morampudi\n",
      "Intent Confirmation Yes/No: No\n",
      "\n",
      "Great choice! Based on your location in Morampudi, here are some good restaurants nearby. Please choose your Cuisine Preferences from ['South Indian', 'North Indian', 'Chinese', 'Continental', 'Italian', 'Andhra Cuisine'].\n",
      "\n",
      "ok south indian\n",
      "Intent Confirmation Yes/No: No\n",
      "\n",
      "Perfect! Do you have any dietary restrictions like Vegan-friendly, Vegetarian-friendly, or Gluten-free options?\n",
      "\n",
      "no\n",
      "Intent Confirmation Yes/No: Yes\n",
      "\n",
      "Thank you for the information. Based on your preferences, your profile is:\n",
      "{'Cuisine preferences': 'South Indian', 'Dietary restrictions': 'No restrictions', 'Location': 'Morampudi'}\n",
      "\n",
      "\n",
      "Restaurant Specifications extracted!\n",
      "\n",
      "Thank you for providing all the information. Kindly wait, while I fetch the products: \n",
      "\n",
      "Matched Restaurants are: []\n",
      "Since I have no information about the restaurants available in the catalogue, I cannot provide specific recommendations. If you provide me with details about the restaurants in your catalogue, I'll be able to assist you better.\n",
      "\n",
      "exit\n",
      "\n",
      "If you have any more questions in the future or need assistance with restaurant recommendations, feel free to ask. Have a great day! Goodbye!\n",
      "\n"
     ]
    }
   ],
   "source": [
    "dialogue_mgmt_system()\n"
   ]
  },
  {
   "cell_type": "code",
   "execution_count": null,
   "metadata": {
    "id": "xLzJg7P_J1a8"
   },
   "outputs": [],
   "source": []
  }
 ],
 "metadata": {
  "colab": {
   "authorship_tag": "ABX9TyPTVbx+1yxGcx850IDIozJa",
   "provenance": []
  },
  "kernelspec": {
   "display_name": "Python 3 (ipykernel)",
   "language": "python",
   "name": "python3"
  },
  "language_info": {
   "codemirror_mode": {
    "name": "ipython",
    "version": 3
   },
   "file_extension": ".py",
   "mimetype": "text/x-python",
   "name": "python",
   "nbconvert_exporter": "python",
   "pygments_lexer": "ipython3",
   "version": "3.12.7"
  }
 },
 "nbformat": 4,
 "nbformat_minor": 4
}
